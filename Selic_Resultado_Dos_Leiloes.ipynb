{
  "cells": [
    {
      "cell_type": "markdown",
      "metadata": {
        "id": "eVPTKCUkNjm_"
      },
      "source": [
        "# BIBLIOTECA"
      ]
    },
    {
      "cell_type": "code",
      "execution_count": 1,
      "metadata": {
        "colab": {
          "base_uri": "https://localhost:8080/"
        },
        "id": "B8fkw58i8FXO",
        "outputId": "a5b27a0b-efed-48a0-f3a1-ef7c686c4c8d"
      },
      "outputs": [
        {
          "name": "stdout",
          "output_type": "stream",
          "text": [
            "Requirement already satisfied: certifi in /Library/Frameworks/Python.framework/Versions/3.13/lib/python3.13/site-packages (2025.1.31)\n",
            "\n",
            "\u001b[1m[\u001b[0m\u001b[34;49mnotice\u001b[0m\u001b[1;39;49m]\u001b[0m\u001b[39;49m A new release of pip is available: \u001b[0m\u001b[31;49m24.3.1\u001b[0m\u001b[39;49m -> \u001b[0m\u001b[32;49m25.0.1\u001b[0m\n",
            "\u001b[1m[\u001b[0m\u001b[34;49mnotice\u001b[0m\u001b[1;39;49m]\u001b[0m\u001b[39;49m To update, run: \u001b[0m\u001b[32;49mpip3 install --upgrade pip\u001b[0m\n",
            "Note: you may need to restart the kernel to use updated packages.\n"
          ]
        }
      ],
      "source": [
        "pip install certifi"
      ]
    },
    {
      "cell_type": "code",
      "execution_count": 2,
      "metadata": {
        "colab": {
          "base_uri": "https://localhost:8080/"
        },
        "id": "vFQkob5i8FXP",
        "outputId": "d1b10ef0-b41c-47e4-a526-21b3406b403d"
      },
      "outputs": [
        {
          "name": "stdout",
          "output_type": "stream",
          "text": [
            "Requirement already satisfied: requests in /Library/Frameworks/Python.framework/Versions/3.13/lib/python3.13/site-packages (2.32.3)\n",
            "Requirement already satisfied: charset-normalizer<4,>=2 in /Library/Frameworks/Python.framework/Versions/3.13/lib/python3.13/site-packages (from requests) (3.4.1)\n",
            "Requirement already satisfied: idna<4,>=2.5 in /Library/Frameworks/Python.framework/Versions/3.13/lib/python3.13/site-packages (from requests) (3.10)\n",
            "Requirement already satisfied: urllib3<3,>=1.21.1 in /Library/Frameworks/Python.framework/Versions/3.13/lib/python3.13/site-packages (from requests) (2.3.0)\n",
            "Requirement already satisfied: certifi>=2017.4.17 in /Library/Frameworks/Python.framework/Versions/3.13/lib/python3.13/site-packages (from requests) (2025.1.31)\n",
            "\n",
            "\u001b[1m[\u001b[0m\u001b[34;49mnotice\u001b[0m\u001b[1;39;49m]\u001b[0m\u001b[39;49m A new release of pip is available: \u001b[0m\u001b[31;49m24.3.1\u001b[0m\u001b[39;49m -> \u001b[0m\u001b[32;49m25.0.1\u001b[0m\n",
            "\u001b[1m[\u001b[0m\u001b[34;49mnotice\u001b[0m\u001b[1;39;49m]\u001b[0m\u001b[39;49m To update, run: \u001b[0m\u001b[32;49mpip3 install --upgrade pip\u001b[0m\n",
            "Note: you may need to restart the kernel to use updated packages.\n"
          ]
        }
      ],
      "source": [
        "pip install requests"
      ]
    },
    {
      "cell_type": "code",
      "execution_count": 3,
      "metadata": {
        "colab": {
          "base_uri": "https://localhost:8080/"
        },
        "id": "rgSkZshF8FXQ",
        "outputId": "7815ab64-b611-4e21-ac1f-9db3b004c54c"
      },
      "outputs": [
        {
          "name": "stdout",
          "output_type": "stream",
          "text": [
            "\n",
            "Usage:   \n",
            "  /usr/local/bin/python3 -m pip <command> [options]\n",
            "\n",
            "no such option: -s\n",
            "Note: you may need to restart the kernel to use updated packages.\n"
          ]
        }
      ],
      "source": [
        "pip-system-certs"
      ]
    },
    {
      "cell_type": "code",
      "execution_count": 4,
      "metadata": {
        "id": "qgqW_Q-FNjEo"
      },
      "outputs": [],
      "source": [
        "import pandas as pd\n",
        "import ssl\n",
        "import requests\n",
        "import certifi\n",
        "from io import StringIO\n",
        "import datetime\n",
        "import time"
      ]
    },
    {
      "cell_type": "markdown",
      "metadata": {
        "id": "Lu44beDmNpWs"
      },
      "source": [
        "# WEB SCRAPING BCB ORIGINAL"
      ]
    },
    {
      "cell_type": "code",
      "execution_count": null,
      "metadata": {
        "colab": {
          "base_uri": "https://localhost:8080/",
          "height": 309
        },
        "id": "osw--1fS9Sxa",
        "outputId": "57d1a79c-0627-42d1-ab01-e0cf230693bd"
      },
      "outputs": [],
      "source": [
        "ssl._create_default_https_context = ssl._create_unverified_context\n",
        "\n",
        "# URL da tabela HTML\n",
        "url = \"https://olinda.bcb.gov.br/olinda/servico/leiloes_selic/versao/v1/odata/leiloesTitulosPublicos(dataMovimentoInicio=@dataMovimentoInicio,dataMovimentoFim=@dataMovimentoFim,dataLiquidacao=@dataLiquidacao,codigoTitulo=@codigoTitulo,dataVencimento=@dataVencimento,edital=@edital,tipoPublico=@tipoPublico,tipoOferta=@tipoOferta)?$top=100&$format=text/html\"\n",
        "\n",
        "# Leitura da tabela HTML usando pandas\n",
        "tabela = pd.read_html(url)[0]  # [0] para selecionar a primeira tabela da página, se houver várias.\n",
        "\n",
        "# Agora você tem a tabela em um DataFrame pandas chamado \"tabela\"\n",
        "# Para ver as primeiras linhas da tabela:\n",
        "tabela.head()"
      ]
    },
    {
      "cell_type": "markdown",
      "metadata": {
        "id": "fKKZWsrPNv93"
      },
      "source": [
        "# SELIC - RESULTADOS DOS LEILÕES"
      ]
    },
    {
      "cell_type": "code",
      "execution_count": 8,
      "metadata": {
        "colab": {
          "base_uri": "https://localhost:8080/",
          "height": 204
        },
        "id": "gifVd6OCsAGv",
        "outputId": "9e53c9e5-f0a7-4d9f-8c27-a2abf7dfbbc5"
      },
      "outputs": [
        {
          "data": {
            "text/html": [
              "<div>\n",
              "<style scoped>\n",
              "    .dataframe tbody tr th:only-of-type {\n",
              "        vertical-align: middle;\n",
              "    }\n",
              "\n",
              "    .dataframe tbody tr th {\n",
              "        vertical-align: top;\n",
              "    }\n",
              "\n",
              "    .dataframe thead th {\n",
              "        text-align: right;\n",
              "    }\n",
              "</style>\n",
              "<table border=\"1\" class=\"dataframe\">\n",
              "  <thead>\n",
              "    <tr style=\"text-align: right;\">\n",
              "      <th></th>\n",
              "      <th>edital</th>\n",
              "      <th>tipoOferta</th>\n",
              "      <th>codigoTitulo</th>\n",
              "      <th>NomeTitulo</th>\n",
              "      <th>AnoTitulo</th>\n",
              "      <th>ofertante</th>\n",
              "      <th>prazo</th>\n",
              "      <th>dataLiquidacao</th>\n",
              "      <th>quantidadeOfertada</th>\n",
              "      <th>quantidadeAceita</th>\n",
              "      <th>taxaCorte</th>\n",
              "    </tr>\n",
              "  </thead>\n",
              "  <tbody>\n",
              "    <tr>\n",
              "      <th>0</th>\n",
              "      <td>NaN</td>\n",
              "      <td>Venda</td>\n",
              "      <td>100000</td>\n",
              "      <td>NaN</td>\n",
              "      <td>2026</td>\n",
              "      <td>Tesouro Nacional</td>\n",
              "      <td>383</td>\n",
              "      <td>2025-03-14 00:00:00</td>\n",
              "      <td>6.000.000</td>\n",
              "      <td>6.000.000</td>\n",
              "      <td>14.7499%</td>\n",
              "    </tr>\n",
              "    <tr>\n",
              "      <th>1</th>\n",
              "      <td>NaN</td>\n",
              "      <td>Venda</td>\n",
              "      <td>950199</td>\n",
              "      <td>NaN</td>\n",
              "      <td>2035</td>\n",
              "      <td>Tesouro Nacional</td>\n",
              "      <td>3580</td>\n",
              "      <td>2025-03-14 00:00:00</td>\n",
              "      <td>3.000.000</td>\n",
              "      <td>3.000.000</td>\n",
              "      <td>15.0275%</td>\n",
              "    </tr>\n",
              "    <tr>\n",
              "      <th>2</th>\n",
              "      <td>NaN</td>\n",
              "      <td>Venda</td>\n",
              "      <td>950199</td>\n",
              "      <td>NaN</td>\n",
              "      <td>2031</td>\n",
              "      <td>Tesouro Nacional</td>\n",
              "      <td>2119</td>\n",
              "      <td>2025-03-14 00:00:00</td>\n",
              "      <td>3.000.000</td>\n",
              "      <td>3.000.000</td>\n",
              "      <td>1.4995%</td>\n",
              "    </tr>\n",
              "    <tr>\n",
              "      <th>3</th>\n",
              "      <td>NaN</td>\n",
              "      <td>Venda</td>\n",
              "      <td>100000</td>\n",
              "      <td>NaN</td>\n",
              "      <td>2032</td>\n",
              "      <td>Tesouro Nacional</td>\n",
              "      <td>2484</td>\n",
              "      <td>2025-03-14 00:00:00</td>\n",
              "      <td>3.000.000</td>\n",
              "      <td>3.000.000</td>\n",
              "      <td>14.9424%</td>\n",
              "    </tr>\n",
              "    <tr>\n",
              "      <th>4</th>\n",
              "      <td>NaN</td>\n",
              "      <td>Venda</td>\n",
              "      <td>100000</td>\n",
              "      <td>NaN</td>\n",
              "      <td>2029</td>\n",
              "      <td>Tesouro Nacional</td>\n",
              "      <td>1389</td>\n",
              "      <td>2025-03-14 00:00:00</td>\n",
              "      <td>12.000.000</td>\n",
              "      <td>12.000.000</td>\n",
              "      <td>14.7097%</td>\n",
              "    </tr>\n",
              "  </tbody>\n",
              "</table>\n",
              "</div>"
            ],
            "text/plain": [
              "  edital tipoOferta  codigoTitulo NomeTitulo  AnoTitulo         ofertante  \\\n",
              "0    NaN      Venda        100000        NaN       2026  Tesouro Nacional   \n",
              "1    NaN      Venda        950199        NaN       2035  Tesouro Nacional   \n",
              "2    NaN      Venda        950199        NaN       2031  Tesouro Nacional   \n",
              "3    NaN      Venda        100000        NaN       2032  Tesouro Nacional   \n",
              "4    NaN      Venda        100000        NaN       2029  Tesouro Nacional   \n",
              "\n",
              "  prazo       dataLiquidacao quantidadeOfertada quantidadeAceita taxaCorte  \n",
              "0   383  2025-03-14 00:00:00          6.000.000        6.000.000  14.7499%  \n",
              "1  3580  2025-03-14 00:00:00          3.000.000        3.000.000  15.0275%  \n",
              "2  2119  2025-03-14 00:00:00          3.000.000        3.000.000   1.4995%  \n",
              "3  2484  2025-03-14 00:00:00          3.000.000        3.000.000  14.9424%  \n",
              "4  1389  2025-03-14 00:00:00         12.000.000       12.000.000  14.7097%  "
            ]
          },
          "execution_count": 8,
          "metadata": {},
          "output_type": "execute_result"
        }
      ],
      "source": [
        "import ssl\n",
        "import pandas as pd\n",
        "from datetime import datetime\n",
        "\n",
        "ssl._create_default_https_context = ssl._create_unverified_context\n",
        "\n",
        "# URL da tabela HTML\n",
        "url = \"https://olinda.bcb.gov.br/olinda/servico/leiloes_selic/versao/v1/odata/leiloesTitulosPublicos(dataMovimentoInicio=@dataMovimentoInicio,dataMovimentoFim=@dataMovimentoFim,dataLiquidacao=@dataLiquidacao,codigoTitulo=@codigoTitulo,dataVencimento=@dataVencimento,edital=@edital,tipoPublico=@tipoPublico,tipoOferta=@tipoOferta)?$top=100&$format=text/html\"\n",
        "\n",
        "# Leitura da tabela HTML usando pandas\n",
        "tabela = pd.read_html(url)[0]  # [0] para selecionar a primeira tabela da página, se houver várias.\n",
        "\n",
        "# 1. Reorganizar as colunas\n",
        "colunas_desejadas = ['edital', 'tipoOferta', 'codigoTitulo', 'ofertante', 'prazo', 'dataLiquidacao','quantidadeOfertada', 'quantidadeAceita', 'taxaCorte']\n",
        "tabela = tabela[colunas_desejadas]\n",
        "\n",
        "# 2. Criar a coluna \"NomeTitulo\"\n",
        "tabela['NomeTitulo'] = tabela['codigoTitulo'].map({210100: 'LFT 210100', 760199: 'NTN-B 760199'})\n",
        "\n",
        "# 3. Mover a coluna \"NomeTitulo\" para a posição correta\n",
        "colunas = list(tabela.columns)\n",
        "colunas.insert(colunas.index('codigoTitulo') + 1, colunas.pop(colunas.index('NomeTitulo')))\n",
        "tabela = tabela[colunas]\n",
        "\n",
        "# 4. Ordenar por 'edital' com ordem personalizada\n",
        "ordem_edital = [37, 38, 39]\n",
        "tabela['edital'] = pd.Categorical(tabela['edital'], categories=ordem_edital, ordered=True)\n",
        "\n",
        "# 5. Ordenar por 'prazo' com ordem personalizada\n",
        "ordem_prazo = sorted(tabela['prazo'].unique())\n",
        "tabela['prazo'] = pd.Categorical(tabela['prazo'], categories=ordem_prazo, ordered=True)\n",
        "\n",
        "# 6. Criar a coluna \"AnoTitulo\"\n",
        "tabela['AnoTitulo'] = (datetime.now() + pd.to_timedelta(pd.to_numeric(tabela['prazo'], errors='coerce'), unit='D')).dt.year\n",
        "\n",
        "# 7. Mover a coluna \"AnoTitulo\" para a posição correta\n",
        "colunas = list(tabela.columns)\n",
        "colunas.insert(colunas.index('NomeTitulo') + 1, colunas.pop(colunas.index('AnoTitulo')))\n",
        "tabela = tabela[colunas]\n",
        "\n",
        "# 8. Formatar a coluna \"taxaCorte\" como porcentagem\n",
        "tabela['taxaCorte'] = pd.to_numeric(tabela['taxaCorte'], errors='coerce') / 10000\n",
        "tabela['taxaCorte'] = tabela['taxaCorte'].astype(str) + '%'\n",
        "\n",
        "# 9. Formatar a coluna \"quantidadeAceita\"\n",
        "tabela['quantidadeAceita'] = tabela['quantidadeAceita'].apply(lambda x: f'{x:,.0f}'.replace(',', '.'))\n",
        "\n",
        "\n",
        "# 10. Formatar a coluna \"quantidadeOfertada\"\n",
        "tabela['quantidadeOfertada'] = tabela['quantidadeOfertada'].apply(lambda x: f'{x:,.0f}'.replace(',', '.'))\n",
        "\n",
        "\n",
        "# Agora você tem a tabela em um DataFrame pandas chamado \"tabela\"\n",
        "# Para ver as primeiras linhas da tabela:\n",
        "tabela.head()"
      ]
    }
  ],
  "metadata": {
    "colab": {
      "collapsed_sections": [
        "eVPTKCUkNjm_",
        "Lu44beDmNpWs"
      ],
      "provenance": []
    },
    "kernelspec": {
      "display_name": "Python 3",
      "language": "python",
      "name": "python3"
    },
    "language_info": {
      "codemirror_mode": {
        "name": "ipython",
        "version": 3
      },
      "file_extension": ".py",
      "mimetype": "text/x-python",
      "name": "python",
      "nbconvert_exporter": "python",
      "pygments_lexer": "ipython3",
      "version": "3.13.2"
    }
  },
  "nbformat": 4,
  "nbformat_minor": 0
}
