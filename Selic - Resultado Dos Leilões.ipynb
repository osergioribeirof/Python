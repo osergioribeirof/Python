{
  "cells": [
    {
      "cell_type": "markdown",
      "metadata": {
        "id": "eVPTKCUkNjm_"
      },
      "source": [
        "# BIBLIOTECA"
      ]
    },
    {
      "cell_type": "code",
      "execution_count": 4,
      "metadata": {
        "colab": {
          "base_uri": "https://localhost:8080/"
        },
        "id": "B8fkw58i8FXO",
        "outputId": "c332b76b-daeb-4d8f-d7ba-39b1e322233d"
      },
      "outputs": [
        {
          "name": "stdout",
          "output_type": "stream",
          "text": [
            "Requirement already satisfied: certifi in /home/codespace/.local/lib/python3.12/site-packages (2024.8.30)\n",
            "Note: you may need to restart the kernel to use updated packages.\n"
          ]
        }
      ],
      "source": [
        "pip install certifi"
      ]
    },
    {
      "cell_type": "code",
      "execution_count": 1,
      "metadata": {
        "colab": {
          "base_uri": "https://localhost:8080/"
        },
        "id": "vFQkob5i8FXP",
        "outputId": "50093b5e-5375-4ce4-9760-2fb22e226f52"
      },
      "outputs": [
        {
          "name": "stdout",
          "output_type": "stream",
          "text": [
            "Requirement already satisfied: requests in /home/codespace/.local/lib/python3.12/site-packages (2.32.3)\n",
            "Requirement already satisfied: charset-normalizer<4,>=2 in /home/codespace/.local/lib/python3.12/site-packages (from requests) (3.4.0)\n",
            "Requirement already satisfied: idna<4,>=2.5 in /home/codespace/.local/lib/python3.12/site-packages (from requests) (3.10)\n",
            "Requirement already satisfied: urllib3<3,>=1.21.1 in /home/codespace/.local/lib/python3.12/site-packages (from requests) (2.2.3)\n",
            "Requirement already satisfied: certifi>=2017.4.17 in /home/codespace/.local/lib/python3.12/site-packages (from requests) (2024.8.30)\n",
            "Note: you may need to restart the kernel to use updated packages.\n"
          ]
        }
      ],
      "source": [
        "pip install requests"
      ]
    },
    {
      "cell_type": "code",
      "execution_count": 2,
      "metadata": {
        "colab": {
          "base_uri": "https://localhost:8080/"
        },
        "id": "rgSkZshF8FXQ",
        "outputId": "15ef158c-92e2-46f9-93fa-921a2fd61b30"
      },
      "outputs": [
        {
          "name": "stdout",
          "output_type": "stream",
          "text": [
            "\n",
            "Usage:   \n",
            "  /home/codespace/.python/current/bin/python -m pip <command> [options]\n",
            "\n",
            "no such option: -s\n",
            "Note: you may need to restart the kernel to use updated packages.\n"
          ]
        }
      ],
      "source": [
        "pip-system-certs"
      ]
    },
    {
      "cell_type": "code",
      "execution_count": 3,
      "metadata": {
        "id": "qgqW_Q-FNjEo"
      },
      "outputs": [],
      "source": [
        "import pandas as pd\n",
        "import ssl\n",
        "import requests\n",
        "import certifi\n",
        "from io import StringIO\n",
        "import datetime\n",
        "import time"
      ]
    },
    {
      "cell_type": "markdown",
      "metadata": {
        "id": "Lu44beDmNpWs"
      },
      "source": [
        "# WEB SCRAPING BCB ORIGINAL"
      ]
    },
    {
      "cell_type": "code",
      "execution_count": 5,
      "metadata": {
        "colab": {
          "base_uri": "https://localhost:8080/",
          "height": 309
        },
        "id": "osw--1fS9Sxa",
        "outputId": "f6265ee2-6572-44d0-97f9-4e91de8e7d25"
      },
      "outputs": [
        {
          "data": {
            "text/html": [
              "<div>\n",
              "<style scoped>\n",
              "    .dataframe tbody tr th:only-of-type {\n",
              "        vertical-align: middle;\n",
              "    }\n",
              "\n",
              "    .dataframe tbody tr th {\n",
              "        vertical-align: top;\n",
              "    }\n",
              "\n",
              "    .dataframe thead th {\n",
              "        text-align: right;\n",
              "    }\n",
              "</style>\n",
              "<table border=\"1\" class=\"dataframe\">\n",
              "  <thead>\n",
              "    <tr style=\"text-align: right;\">\n",
              "      <th></th>\n",
              "      <th>id</th>\n",
              "      <th>dataMovimento</th>\n",
              "      <th>dataLiquidacao</th>\n",
              "      <th>edital</th>\n",
              "      <th>tipoPublico</th>\n",
              "      <th>prazo</th>\n",
              "      <th>quantidadeOfertada</th>\n",
              "      <th>quantidadeAceita</th>\n",
              "      <th>codigoTitulo</th>\n",
              "      <th>dataVencimento</th>\n",
              "      <th>tipoOferta</th>\n",
              "      <th>ofertante</th>\n",
              "      <th>quantidadeOfertadaSegundaRodada</th>\n",
              "      <th>quantidadeAceitaSegundaRodada</th>\n",
              "      <th>cotacaoMedia</th>\n",
              "      <th>cotacaoCorte</th>\n",
              "      <th>taxaMedia</th>\n",
              "      <th>taxaCorte</th>\n",
              "      <th>financeiro</th>\n",
              "    </tr>\n",
              "  </thead>\n",
              "  <tbody>\n",
              "    <tr>\n",
              "      <th>0</th>\n",
              "      <td>9fe038043290d953509e7c28000155b</td>\n",
              "      <td>2025-02-27 00:00:00</td>\n",
              "      <td>2025-02-28 00:00:00</td>\n",
              "      <td>48</td>\n",
              "      <td>TodoMercado</td>\n",
              "      <td>2133</td>\n",
              "      <td>500000</td>\n",
              "      <td>500000</td>\n",
              "      <td>950199</td>\n",
              "      <td>2031-01-01 00:00:00</td>\n",
              "      <td>Venda</td>\n",
              "      <td>Tesouro Nacional</td>\n",
              "      <td>125000.0</td>\n",
              "      <td>0.0</td>\n",
              "      <td>838775172</td>\n",
              "      <td>83869127</td>\n",
              "      <td>149713</td>\n",
              "      <td>14974</td>\n",
              "      <td>4194</td>\n",
              "    </tr>\n",
              "    <tr>\n",
              "      <th>1</th>\n",
              "      <td>9fe038043290d953509e7c28000155a</td>\n",
              "      <td>2025-02-27 00:00:00</td>\n",
              "      <td>2025-02-28 00:00:00</td>\n",
              "      <td>47</td>\n",
              "      <td>TodoMercado</td>\n",
              "      <td>2498</td>\n",
              "      <td>1000000</td>\n",
              "      <td>1000000</td>\n",
              "      <td>100000</td>\n",
              "      <td>2032-01-01 00:00:00</td>\n",
              "      <td>Venda</td>\n",
              "      <td>Tesouro Nacional</td>\n",
              "      <td>250000.0</td>\n",
              "      <td>0.0</td>\n",
              "      <td>388886769</td>\n",
              "      <td>388563686</td>\n",
              "      <td>149149</td>\n",
              "      <td>14929</td>\n",
              "      <td>3889</td>\n",
              "    </tr>\n",
              "    <tr>\n",
              "      <th>2</th>\n",
              "      <td>9fe038043290d953509e7c280001559</td>\n",
              "      <td>2025-02-27 00:00:00</td>\n",
              "      <td>2025-02-28 00:00:00</td>\n",
              "      <td>47</td>\n",
              "      <td>TodoMercado</td>\n",
              "      <td>1403</td>\n",
              "      <td>2000000</td>\n",
              "      <td>2000000</td>\n",
              "      <td>100000</td>\n",
              "      <td>2029-01-01 00:00:00</td>\n",
              "      <td>Venda</td>\n",
              "      <td>Tesouro Nacional</td>\n",
              "      <td>500000.0</td>\n",
              "      <td>0.0</td>\n",
              "      <td>591579107</td>\n",
              "      <td>591506878</td>\n",
              "      <td>147913</td>\n",
              "      <td>14795</td>\n",
              "      <td>11832</td>\n",
              "    </tr>\n",
              "    <tr>\n",
              "      <th>3</th>\n",
              "      <td>9fe038043290d953509e7c280001558</td>\n",
              "      <td>2025-02-27 00:00:00</td>\n",
              "      <td>2025-02-28 00:00:00</td>\n",
              "      <td>47</td>\n",
              "      <td>TodoMercado</td>\n",
              "      <td>762</td>\n",
              "      <td>2000000</td>\n",
              "      <td>2000000</td>\n",
              "      <td>100000</td>\n",
              "      <td>2027-04-01 00:00:00</td>\n",
              "      <td>Venda</td>\n",
              "      <td>Tesouro Nacional</td>\n",
              "      <td>500000.0</td>\n",
              "      <td>0.0</td>\n",
              "      <td>753121088</td>\n",
              "      <td>753121088</td>\n",
              "      <td>14729</td>\n",
              "      <td>14729</td>\n",
              "      <td>15062</td>\n",
              "    </tr>\n",
              "    <tr>\n",
              "      <th>4</th>\n",
              "      <td>9fe038043290d953509e7c280001557</td>\n",
              "      <td>2025-02-27 00:00:00</td>\n",
              "      <td>2025-02-28 00:00:00</td>\n",
              "      <td>47</td>\n",
              "      <td>TodoMercado</td>\n",
              "      <td>397</td>\n",
              "      <td>1000000</td>\n",
              "      <td>1000000</td>\n",
              "      <td>100000</td>\n",
              "      <td>2026-04-01 00:00:00</td>\n",
              "      <td>Venda</td>\n",
              "      <td>Tesouro Nacional</td>\n",
              "      <td>250000.0</td>\n",
              "      <td>0.0</td>\n",
              "      <td>861370251</td>\n",
              "      <td>861348997</td>\n",
              "      <td>148271</td>\n",
              "      <td>148298</td>\n",
              "      <td>8614</td>\n",
              "    </tr>\n",
              "  </tbody>\n",
              "</table>\n",
              "</div>"
            ],
            "text/plain": [
              "                                id        dataMovimento       dataLiquidacao  \\\n",
              "0  9fe038043290d953509e7c28000155b  2025-02-27 00:00:00  2025-02-28 00:00:00   \n",
              "1  9fe038043290d953509e7c28000155a  2025-02-27 00:00:00  2025-02-28 00:00:00   \n",
              "2  9fe038043290d953509e7c280001559  2025-02-27 00:00:00  2025-02-28 00:00:00   \n",
              "3  9fe038043290d953509e7c280001558  2025-02-27 00:00:00  2025-02-28 00:00:00   \n",
              "4  9fe038043290d953509e7c280001557  2025-02-27 00:00:00  2025-02-28 00:00:00   \n",
              "\n",
              "   edital  tipoPublico  prazo  quantidadeOfertada  quantidadeAceita  \\\n",
              "0      48  TodoMercado   2133              500000            500000   \n",
              "1      47  TodoMercado   2498             1000000           1000000   \n",
              "2      47  TodoMercado   1403             2000000           2000000   \n",
              "3      47  TodoMercado    762             2000000           2000000   \n",
              "4      47  TodoMercado    397             1000000           1000000   \n",
              "\n",
              "   codigoTitulo       dataVencimento tipoOferta         ofertante  \\\n",
              "0        950199  2031-01-01 00:00:00      Venda  Tesouro Nacional   \n",
              "1        100000  2032-01-01 00:00:00      Venda  Tesouro Nacional   \n",
              "2        100000  2029-01-01 00:00:00      Venda  Tesouro Nacional   \n",
              "3        100000  2027-04-01 00:00:00      Venda  Tesouro Nacional   \n",
              "4        100000  2026-04-01 00:00:00      Venda  Tesouro Nacional   \n",
              "\n",
              "   quantidadeOfertadaSegundaRodada  quantidadeAceitaSegundaRodada  \\\n",
              "0                         125000.0                            0.0   \n",
              "1                         250000.0                            0.0   \n",
              "2                         500000.0                            0.0   \n",
              "3                         500000.0                            0.0   \n",
              "4                         250000.0                            0.0   \n",
              "\n",
              "   cotacaoMedia  cotacaoCorte  taxaMedia  taxaCorte  financeiro  \n",
              "0     838775172      83869127     149713      14974        4194  \n",
              "1     388886769     388563686     149149      14929        3889  \n",
              "2     591579107     591506878     147913      14795       11832  \n",
              "3     753121088     753121088      14729      14729       15062  \n",
              "4     861370251     861348997     148271     148298        8614  "
            ]
          },
          "execution_count": 5,
          "metadata": {},
          "output_type": "execute_result"
        }
      ],
      "source": [
        "ssl._create_default_https_context = ssl._create_unverified_context\n",
        "\n",
        "# URL da tabela HTML\n",
        "url = \"https://olinda.bcb.gov.br/olinda/servico/leiloes_selic/versao/v1/odata/leiloesTitulosPublicos(dataMovimentoInicio=@dataMovimentoInicio,dataMovimentoFim=@dataMovimentoFim,dataLiquidacao=@dataLiquidacao,codigoTitulo=@codigoTitulo,dataVencimento=@dataVencimento,edital=@edital,tipoPublico=@tipoPublico,tipoOferta=@tipoOferta)?$top=100&$format=text/html\"\n",
        "\n",
        "# Leitura da tabela HTML usando pandas\n",
        "tabela = pd.read_html(url)[0]  # [0] para selecionar a primeira tabela da página, se houver várias.\n",
        "\n",
        "# Agora você tem a tabela em um DataFrame pandas chamado \"tabela\"\n",
        "# Para ver as primeiras linhas da tabela:\n",
        "tabela.head()"
      ]
    },
    {
      "cell_type": "markdown",
      "metadata": {
        "id": "fKKZWsrPNv93"
      },
      "source": [
        "# SELIC - RESULTADOS DOS LEILÕES"
      ]
    },
    {
      "cell_type": "code",
      "execution_count": 1,
      "metadata": {},
      "outputs": [
        {
          "data": {
            "text/html": [
              "<div>\n",
              "<style scoped>\n",
              "    .dataframe tbody tr th:only-of-type {\n",
              "        vertical-align: middle;\n",
              "    }\n",
              "\n",
              "    .dataframe tbody tr th {\n",
              "        vertical-align: top;\n",
              "    }\n",
              "\n",
              "    .dataframe thead th {\n",
              "        text-align: right;\n",
              "    }\n",
              "</style>\n",
              "<table border=\"1\" class=\"dataframe\">\n",
              "  <thead>\n",
              "    <tr style=\"text-align: right;\">\n",
              "      <th></th>\n",
              "      <th>edital</th>\n",
              "      <th>tipoOferta</th>\n",
              "      <th>codigoTitulo</th>\n",
              "      <th>NomeTitulo</th>\n",
              "      <th>AnoTitulo</th>\n",
              "      <th>ofertante</th>\n",
              "      <th>prazo</th>\n",
              "      <th>dataLiquidacao</th>\n",
              "      <th>quantidadeOfertada</th>\n",
              "      <th>quantidadeAceita</th>\n",
              "      <th>taxaCorte</th>\n",
              "    </tr>\n",
              "  </thead>\n",
              "  <tbody>\n",
              "    <tr>\n",
              "      <th>0</th>\n",
              "      <td>NaN</td>\n",
              "      <td>Venda</td>\n",
              "      <td>950199</td>\n",
              "      <td>NaN</td>\n",
              "      <td>2031</td>\n",
              "      <td>Tesouro Nacional</td>\n",
              "      <td>2133</td>\n",
              "      <td>2025-02-28 00:00:00</td>\n",
              "      <td>500.000</td>\n",
              "      <td>500.000</td>\n",
              "      <td>1.4974%</td>\n",
              "    </tr>\n",
              "    <tr>\n",
              "      <th>1</th>\n",
              "      <td>NaN</td>\n",
              "      <td>Venda</td>\n",
              "      <td>100000</td>\n",
              "      <td>NaN</td>\n",
              "      <td>2032</td>\n",
              "      <td>Tesouro Nacional</td>\n",
              "      <td>2498</td>\n",
              "      <td>2025-02-28 00:00:00</td>\n",
              "      <td>1.000.000</td>\n",
              "      <td>1.000.000</td>\n",
              "      <td>1.4929%</td>\n",
              "    </tr>\n",
              "    <tr>\n",
              "      <th>2</th>\n",
              "      <td>NaN</td>\n",
              "      <td>Venda</td>\n",
              "      <td>100000</td>\n",
              "      <td>NaN</td>\n",
              "      <td>2029</td>\n",
              "      <td>Tesouro Nacional</td>\n",
              "      <td>1403</td>\n",
              "      <td>2025-02-28 00:00:00</td>\n",
              "      <td>2.000.000</td>\n",
              "      <td>2.000.000</td>\n",
              "      <td>1.4795%</td>\n",
              "    </tr>\n",
              "    <tr>\n",
              "      <th>3</th>\n",
              "      <td>NaN</td>\n",
              "      <td>Venda</td>\n",
              "      <td>100000</td>\n",
              "      <td>NaN</td>\n",
              "      <td>2027</td>\n",
              "      <td>Tesouro Nacional</td>\n",
              "      <td>762</td>\n",
              "      <td>2025-02-28 00:00:00</td>\n",
              "      <td>2.000.000</td>\n",
              "      <td>2.000.000</td>\n",
              "      <td>1.4729%</td>\n",
              "    </tr>\n",
              "    <tr>\n",
              "      <th>4</th>\n",
              "      <td>NaN</td>\n",
              "      <td>Venda</td>\n",
              "      <td>100000</td>\n",
              "      <td>NaN</td>\n",
              "      <td>2026</td>\n",
              "      <td>Tesouro Nacional</td>\n",
              "      <td>397</td>\n",
              "      <td>2025-02-28 00:00:00</td>\n",
              "      <td>1.000.000</td>\n",
              "      <td>1.000.000</td>\n",
              "      <td>14.8298%</td>\n",
              "    </tr>\n",
              "  </tbody>\n",
              "</table>\n",
              "</div>"
            ],
            "text/plain": [
              "  edital tipoOferta  codigoTitulo NomeTitulo  AnoTitulo         ofertante  \\\n",
              "0    NaN      Venda        950199        NaN       2031  Tesouro Nacional   \n",
              "1    NaN      Venda        100000        NaN       2032  Tesouro Nacional   \n",
              "2    NaN      Venda        100000        NaN       2029  Tesouro Nacional   \n",
              "3    NaN      Venda        100000        NaN       2027  Tesouro Nacional   \n",
              "4    NaN      Venda        100000        NaN       2026  Tesouro Nacional   \n",
              "\n",
              "  prazo       dataLiquidacao quantidadeOfertada quantidadeAceita taxaCorte  \n",
              "0  2133  2025-02-28 00:00:00            500.000          500.000   1.4974%  \n",
              "1  2498  2025-02-28 00:00:00          1.000.000        1.000.000   1.4929%  \n",
              "2  1403  2025-02-28 00:00:00          2.000.000        2.000.000   1.4795%  \n",
              "3   762  2025-02-28 00:00:00          2.000.000        2.000.000   1.4729%  \n",
              "4   397  2025-02-28 00:00:00          1.000.000        1.000.000  14.8298%  "
            ]
          },
          "execution_count": 1,
          "metadata": {},
          "output_type": "execute_result"
        }
      ],
      "source": [
        "import ssl\n",
        "import pandas as pd\n",
        "from datetime import datetime\n",
        "\n",
        "ssl._create_default_https_context = ssl._create_unverified_context\n",
        "\n",
        "# URL da tabela HTML\n",
        "url = \"https://olinda.bcb.gov.br/olinda/servico/leiloes_selic/versao/v1/odata/leiloesTitulosPublicos(dataMovimentoInicio=@dataMovimentoInicio,dataMovimentoFim=@dataMovimentoFim,dataLiquidacao=@dataLiquidacao,codigoTitulo=@codigoTitulo,dataVencimento=@dataVencimento,edital=@edital,tipoPublico=@tipoPublico,tipoOferta=@tipoOferta)?$top=100&$format=text/html\"\n",
        "\n",
        "# Leitura da tabela HTML usando pandas\n",
        "tabela = pd.read_html(url)[0]  # [0] para selecionar a primeira tabela da página, se houver várias.\n",
        "\n",
        "# 1. Reorganizar as colunas\n",
        "colunas_desejadas = ['edital', 'tipoOferta', 'codigoTitulo', 'ofertante', 'prazo', 'dataLiquidacao','quantidadeOfertada', 'quantidadeAceita', 'taxaCorte']\n",
        "tabela = tabela[colunas_desejadas]\n",
        "\n",
        "# 2. Criar a coluna \"NomeTitulo\"\n",
        "tabela['NomeTitulo'] = tabela['codigoTitulo'].map({210100: 'LFT 210100', 760199: 'NTN-B 760199'})\n",
        "\n",
        "# 3. Mover a coluna \"NomeTitulo\" para a posição correta\n",
        "colunas = list(tabela.columns)\n",
        "colunas.insert(colunas.index('codigoTitulo') + 1, colunas.pop(colunas.index('NomeTitulo')))\n",
        "tabela = tabela[colunas]\n",
        "\n",
        "# 4. Ordenar por 'edital' com ordem personalizada\n",
        "ordem_edital = [37, 38, 39]\n",
        "tabela['edital'] = pd.Categorical(tabela['edital'], categories=ordem_edital, ordered=True)\n",
        "\n",
        "# 5. Ordenar por 'prazo' com ordem personalizada\n",
        "ordem_prazo = sorted(tabela['prazo'].unique())\n",
        "tabela['prazo'] = pd.Categorical(tabela['prazo'], categories=ordem_prazo, ordered=True)\n",
        "\n",
        "# 6. Criar a coluna \"AnoTitulo\"\n",
        "tabela['AnoTitulo'] = (datetime.now() + pd.to_timedelta(pd.to_numeric(tabela['prazo'], errors='coerce'), unit='D')).dt.year\n",
        "\n",
        "# 7. Mover a coluna \"AnoTitulo\" para a posição correta\n",
        "colunas = list(tabela.columns)\n",
        "colunas.insert(colunas.index('NomeTitulo') + 1, colunas.pop(colunas.index('AnoTitulo')))\n",
        "tabela = tabela[colunas]\n",
        "\n",
        "# 8. Formatar a coluna \"taxaCorte\" como porcentagem\n",
        "tabela['taxaCorte'] = pd.to_numeric(tabela['taxaCorte'], errors='coerce') / 10000\n",
        "tabela['taxaCorte'] = tabela['taxaCorte'].astype(str) + '%'\n",
        "\n",
        "# 9. Formatar a coluna \"quantidadeAceita\"\n",
        "tabela['quantidadeAceita'] = tabela['quantidadeAceita'].apply(lambda x: f'{x:,.0f}'.replace(',', '.'))\n",
        "\n",
        "\n",
        "# 10. Formatar a coluna \"quantidadeOfertada\"\n",
        "tabela['quantidadeOfertada'] = tabela['quantidadeOfertada'].apply(lambda x: f'{x:,.0f}'.replace(',', '.'))\n",
        "\n",
        "# Agora você tem a tabela em um DataFrame pandas chamado \"tabela\"\n",
        "# Para ver as primeiras linhas da tabela:\n",
        "tabela.head()"
      ]
    }
  ],
  "metadata": {
    "colab": {
      "collapsed_sections": [
        "eVPTKCUkNjm_",
        "Lu44beDmNpWs"
      ],
      "provenance": []
    },
    "kernelspec": {
      "display_name": "Python 3",
      "language": "python",
      "name": "python3"
    },
    "language_info": {
      "codemirror_mode": {
        "name": "ipython",
        "version": 3
      },
      "file_extension": ".py",
      "mimetype": "text/x-python",
      "name": "python",
      "nbconvert_exporter": "python",
      "pygments_lexer": "ipython3",
      "version": "3.12.1"
    }
  },
  "nbformat": 4,
  "nbformat_minor": 0
}
