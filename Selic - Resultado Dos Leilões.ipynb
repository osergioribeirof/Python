{
  "cells": [
    {
      "cell_type": "markdown",
      "metadata": {
        "id": "eVPTKCUkNjm_"
      },
      "source": [
        "# BIBLIOTECA"
      ]
    },
    {
      "cell_type": "code",
      "execution_count": 4,
      "metadata": {
        "colab": {
          "base_uri": "https://localhost:8080/"
        },
        "id": "B8fkw58i8FXO",
        "outputId": "c332b76b-daeb-4d8f-d7ba-39b1e322233d"
      },
      "outputs": [
        {
          "name": "stdout",
          "output_type": "stream",
          "text": [
            "Requirement already satisfied: certifi in /home/codespace/.local/lib/python3.12/site-packages (2024.8.30)\n"
          ]
        },
        {
          "name": "stdout",
          "output_type": "stream",
          "text": [
            "\n",
            "\u001b[1m[\u001b[0m\u001b[34;49mnotice\u001b[0m\u001b[1;39;49m]\u001b[0m\u001b[39;49m A new release of pip is available: \u001b[0m\u001b[31;49m24.3.1\u001b[0m\u001b[39;49m -> \u001b[0m\u001b[32;49m25.0.1\u001b[0m\n",
            "\u001b[1m[\u001b[0m\u001b[34;49mnotice\u001b[0m\u001b[1;39;49m]\u001b[0m\u001b[39;49m To update, run: \u001b[0m\u001b[32;49mpip install --upgrade pip\u001b[0m\n",
            "Note: you may need to restart the kernel to use updated packages.\n"
          ]
        }
      ],
      "source": [
        "pip install certifi"
      ]
    },
    {
      "cell_type": "code",
      "execution_count": 1,
      "metadata": {
        "colab": {
          "base_uri": "https://localhost:8080/"
        },
        "id": "vFQkob5i8FXP",
        "outputId": "50093b5e-5375-4ce4-9760-2fb22e226f52"
      },
      "outputs": [
        {
          "name": "stdout",
          "output_type": "stream",
          "text": [
            "Requirement already satisfied: requests in /home/codespace/.local/lib/python3.12/site-packages (2.32.3)\n",
            "Requirement already satisfied: charset-normalizer<4,>=2 in /home/codespace/.local/lib/python3.12/site-packages (from requests) (3.4.0)\n",
            "Requirement already satisfied: idna<4,>=2.5 in /home/codespace/.local/lib/python3.12/site-packages (from requests) (3.10)\n",
            "Requirement already satisfied: urllib3<3,>=1.21.1 in /home/codespace/.local/lib/python3.12/site-packages (from requests) (2.2.3)\n",
            "Requirement already satisfied: certifi>=2017.4.17 in /home/codespace/.local/lib/python3.12/site-packages (from requests) (2024.8.30)\n",
            "\n",
            "\u001b[1m[\u001b[0m\u001b[34;49mnotice\u001b[0m\u001b[1;39;49m]\u001b[0m\u001b[39;49m A new release of pip is available: \u001b[0m\u001b[31;49m24.3.1\u001b[0m\u001b[39;49m -> \u001b[0m\u001b[32;49m25.0.1\u001b[0m\n",
            "\u001b[1m[\u001b[0m\u001b[34;49mnotice\u001b[0m\u001b[1;39;49m]\u001b[0m\u001b[39;49m To update, run: \u001b[0m\u001b[32;49mpip install --upgrade pip\u001b[0m\n",
            "Note: you may need to restart the kernel to use updated packages.\n"
          ]
        }
      ],
      "source": [
        "pip install requests"
      ]
    },
    {
      "cell_type": "code",
      "execution_count": 2,
      "metadata": {
        "colab": {
          "base_uri": "https://localhost:8080/"
        },
        "id": "rgSkZshF8FXQ",
        "outputId": "15ef158c-92e2-46f9-93fa-921a2fd61b30"
      },
      "outputs": [
        {
          "name": "stdout",
          "output_type": "stream",
          "text": [
            "\n",
            "Usage:   \n",
            "  /home/codespace/.python/current/bin/python3 -m pip <command> [options]\n",
            "\n",
            "no such option: -s\n",
            "Note: you may need to restart the kernel to use updated packages.\n"
          ]
        }
      ],
      "source": [
        "pip-system-certs"
      ]
    },
    {
      "cell_type": "code",
      "execution_count": 3,
      "metadata": {
        "id": "qgqW_Q-FNjEo"
      },
      "outputs": [],
      "source": [
        "import pandas as pd\n",
        "import ssl\n",
        "import requests\n",
        "import certifi\n",
        "from io import StringIO\n",
        "import datetime\n",
        "import time"
      ]
    },
    {
      "cell_type": "markdown",
      "metadata": {
        "id": "Lu44beDmNpWs"
      },
      "source": [
        "# WEB SCRAPING BCB ORIGINAL"
      ]
    },
    {
      "cell_type": "code",
      "execution_count": 5,
      "metadata": {
        "colab": {
          "base_uri": "https://localhost:8080/",
          "height": 309
        },
        "id": "osw--1fS9Sxa",
        "outputId": "f6265ee2-6572-44d0-97f9-4e91de8e7d25"
      },
      "outputs": [
        {
          "data": {
            "text/html": [
              "<div>\n",
              "<style scoped>\n",
              "    .dataframe tbody tr th:only-of-type {\n",
              "        vertical-align: middle;\n",
              "    }\n",
              "\n",
              "    .dataframe tbody tr th {\n",
              "        vertical-align: top;\n",
              "    }\n",
              "\n",
              "    .dataframe thead th {\n",
              "        text-align: right;\n",
              "    }\n",
              "</style>\n",
              "<table border=\"1\" class=\"dataframe\">\n",
              "  <thead>\n",
              "    <tr style=\"text-align: right;\">\n",
              "      <th></th>\n",
              "      <th>id</th>\n",
              "      <th>dataMovimento</th>\n",
              "      <th>dataLiquidacao</th>\n",
              "      <th>edital</th>\n",
              "      <th>tipoPublico</th>\n",
              "      <th>prazo</th>\n",
              "      <th>quantidadeOfertada</th>\n",
              "      <th>quantidadeAceita</th>\n",
              "      <th>codigoTitulo</th>\n",
              "      <th>dataVencimento</th>\n",
              "      <th>tipoOferta</th>\n",
              "      <th>ofertante</th>\n",
              "      <th>quantidadeOfertadaSegundaRodada</th>\n",
              "      <th>quantidadeAceitaSegundaRodada</th>\n",
              "      <th>cotacaoMedia</th>\n",
              "      <th>cotacaoCorte</th>\n",
              "      <th>taxaMedia</th>\n",
              "      <th>taxaCorte</th>\n",
              "      <th>financeiro</th>\n",
              "    </tr>\n",
              "  </thead>\n",
              "  <tbody>\n",
              "    <tr>\n",
              "      <th>0</th>\n",
              "      <td>9fe038043290d953509e7c2800013cd</td>\n",
              "      <td>2025-02-27 00:00:00</td>\n",
              "      <td>2025-02-28 00:00:00</td>\n",
              "      <td>48</td>\n",
              "      <td>TodoMercado</td>\n",
              "      <td>3594</td>\n",
              "      <td>500000</td>\n",
              "      <td>500000</td>\n",
              "      <td>950199</td>\n",
              "      <td>2035-01-01 00:00:00</td>\n",
              "      <td>Venda</td>\n",
              "      <td>Tesouro Nacional</td>\n",
              "      <td>125000.0</td>\n",
              "      <td>NaN</td>\n",
              "      <td>778593853</td>\n",
              "      <td>778488258</td>\n",
              "      <td>149513</td>\n",
              "      <td>14954</td>\n",
              "      <td>3893</td>\n",
              "    </tr>\n",
              "    <tr>\n",
              "      <th>1</th>\n",
              "      <td>9fe038043290d953509e7c2800013be</td>\n",
              "      <td>2025-02-27 00:00:00</td>\n",
              "      <td>2025-02-28 00:00:00</td>\n",
              "      <td>48</td>\n",
              "      <td>TodoMercado</td>\n",
              "      <td>2133</td>\n",
              "      <td>500000</td>\n",
              "      <td>500000</td>\n",
              "      <td>950199</td>\n",
              "      <td>2031-01-01 00:00:00</td>\n",
              "      <td>Venda</td>\n",
              "      <td>Tesouro Nacional</td>\n",
              "      <td>125000.0</td>\n",
              "      <td>NaN</td>\n",
              "      <td>838775172</td>\n",
              "      <td>83869127</td>\n",
              "      <td>149713</td>\n",
              "      <td>14974</td>\n",
              "      <td>4194</td>\n",
              "    </tr>\n",
              "    <tr>\n",
              "      <th>2</th>\n",
              "      <td>9fe038043290d953509e7c2800013aa</td>\n",
              "      <td>2025-02-27 00:00:00</td>\n",
              "      <td>2025-02-28 00:00:00</td>\n",
              "      <td>47</td>\n",
              "      <td>TodoMercado</td>\n",
              "      <td>2498</td>\n",
              "      <td>1000000</td>\n",
              "      <td>1000000</td>\n",
              "      <td>100000</td>\n",
              "      <td>2032-01-01 00:00:00</td>\n",
              "      <td>Venda</td>\n",
              "      <td>Tesouro Nacional</td>\n",
              "      <td>250000.0</td>\n",
              "      <td>NaN</td>\n",
              "      <td>388886769</td>\n",
              "      <td>388563686</td>\n",
              "      <td>149149</td>\n",
              "      <td>14929</td>\n",
              "      <td>3889</td>\n",
              "    </tr>\n",
              "    <tr>\n",
              "      <th>3</th>\n",
              "      <td>9fe038043290d953509e7c280001395</td>\n",
              "      <td>2025-02-27 00:00:00</td>\n",
              "      <td>2025-02-28 00:00:00</td>\n",
              "      <td>47</td>\n",
              "      <td>TodoMercado</td>\n",
              "      <td>1403</td>\n",
              "      <td>2000000</td>\n",
              "      <td>2000000</td>\n",
              "      <td>100000</td>\n",
              "      <td>2029-01-01 00:00:00</td>\n",
              "      <td>Venda</td>\n",
              "      <td>Tesouro Nacional</td>\n",
              "      <td>500000.0</td>\n",
              "      <td>NaN</td>\n",
              "      <td>591579107</td>\n",
              "      <td>591506878</td>\n",
              "      <td>147913</td>\n",
              "      <td>14795</td>\n",
              "      <td>11832</td>\n",
              "    </tr>\n",
              "    <tr>\n",
              "      <th>4</th>\n",
              "      <td>9fe038043290d953509e7c280001380</td>\n",
              "      <td>2025-02-27 00:00:00</td>\n",
              "      <td>2025-02-28 00:00:00</td>\n",
              "      <td>47</td>\n",
              "      <td>TodoMercado</td>\n",
              "      <td>762</td>\n",
              "      <td>2000000</td>\n",
              "      <td>2000000</td>\n",
              "      <td>100000</td>\n",
              "      <td>2027-04-01 00:00:00</td>\n",
              "      <td>Venda</td>\n",
              "      <td>Tesouro Nacional</td>\n",
              "      <td>500000.0</td>\n",
              "      <td>NaN</td>\n",
              "      <td>753121088</td>\n",
              "      <td>753121088</td>\n",
              "      <td>14729</td>\n",
              "      <td>14729</td>\n",
              "      <td>15062</td>\n",
              "    </tr>\n",
              "  </tbody>\n",
              "</table>\n",
              "</div>"
            ],
            "text/plain": [
              "                                id        dataMovimento       dataLiquidacao  \\\n",
              "0  9fe038043290d953509e7c2800013cd  2025-02-27 00:00:00  2025-02-28 00:00:00   \n",
              "1  9fe038043290d953509e7c2800013be  2025-02-27 00:00:00  2025-02-28 00:00:00   \n",
              "2  9fe038043290d953509e7c2800013aa  2025-02-27 00:00:00  2025-02-28 00:00:00   \n",
              "3  9fe038043290d953509e7c280001395  2025-02-27 00:00:00  2025-02-28 00:00:00   \n",
              "4  9fe038043290d953509e7c280001380  2025-02-27 00:00:00  2025-02-28 00:00:00   \n",
              "\n",
              "   edital  tipoPublico  prazo  quantidadeOfertada  quantidadeAceita  \\\n",
              "0      48  TodoMercado   3594              500000            500000   \n",
              "1      48  TodoMercado   2133              500000            500000   \n",
              "2      47  TodoMercado   2498             1000000           1000000   \n",
              "3      47  TodoMercado   1403             2000000           2000000   \n",
              "4      47  TodoMercado    762             2000000           2000000   \n",
              "\n",
              "   codigoTitulo       dataVencimento tipoOferta         ofertante  \\\n",
              "0        950199  2035-01-01 00:00:00      Venda  Tesouro Nacional   \n",
              "1        950199  2031-01-01 00:00:00      Venda  Tesouro Nacional   \n",
              "2        100000  2032-01-01 00:00:00      Venda  Tesouro Nacional   \n",
              "3        100000  2029-01-01 00:00:00      Venda  Tesouro Nacional   \n",
              "4        100000  2027-04-01 00:00:00      Venda  Tesouro Nacional   \n",
              "\n",
              "   quantidadeOfertadaSegundaRodada  quantidadeAceitaSegundaRodada  \\\n",
              "0                         125000.0                            NaN   \n",
              "1                         125000.0                            NaN   \n",
              "2                         250000.0                            NaN   \n",
              "3                         500000.0                            NaN   \n",
              "4                         500000.0                            NaN   \n",
              "\n",
              "   cotacaoMedia  cotacaoCorte  taxaMedia  taxaCorte  financeiro  \n",
              "0     778593853     778488258     149513      14954        3893  \n",
              "1     838775172      83869127     149713      14974        4194  \n",
              "2     388886769     388563686     149149      14929        3889  \n",
              "3     591579107     591506878     147913      14795       11832  \n",
              "4     753121088     753121088      14729      14729       15062  "
            ]
          },
          "execution_count": 5,
          "metadata": {},
          "output_type": "execute_result"
        }
      ],
      "source": [
        "ssl._create_default_https_context = ssl._create_unverified_context\n",
        "\n",
        "# URL da tabela HTML\n",
        "url = \"https://olinda.bcb.gov.br/olinda/servico/leiloes_selic/versao/v1/odata/leiloesTitulosPublicos(dataMovimentoInicio=@dataMovimentoInicio,dataMovimentoFim=@dataMovimentoFim,dataLiquidacao=@dataLiquidacao,codigoTitulo=@codigoTitulo,dataVencimento=@dataVencimento,edital=@edital,tipoPublico=@tipoPublico,tipoOferta=@tipoOferta)?$top=100&$format=text/html\"\n",
        "\n",
        "# Leitura da tabela HTML usando pandas\n",
        "tabela = pd.read_html(url)[0]  # [0] para selecionar a primeira tabela da página, se houver várias.\n",
        "\n",
        "# Agora você tem a tabela em um DataFrame pandas chamado \"tabela\"\n",
        "# Para ver as primeiras linhas da tabela:\n",
        "tabela.head()"
      ]
    },
    {
      "cell_type": "markdown",
      "metadata": {
        "id": "fKKZWsrPNv93"
      },
      "source": [
        "# SELIC - RESULTADOS DOS LEILÕES"
      ]
    },
    {
      "cell_type": "code",
      "execution_count": 6,
      "metadata": {
        "colab": {
          "base_uri": "https://localhost:8080/",
          "height": 204
        },
        "id": "5GoNM7kF8FXR",
        "outputId": "81b65957-4bb9-49a0-916c-adf52756e6bd"
      },
      "outputs": [
        {
          "data": {
            "text/html": [
              "<div>\n",
              "<style scoped>\n",
              "    .dataframe tbody tr th:only-of-type {\n",
              "        vertical-align: middle;\n",
              "    }\n",
              "\n",
              "    .dataframe tbody tr th {\n",
              "        vertical-align: top;\n",
              "    }\n",
              "\n",
              "    .dataframe thead th {\n",
              "        text-align: right;\n",
              "    }\n",
              "</style>\n",
              "<table border=\"1\" class=\"dataframe\">\n",
              "  <thead>\n",
              "    <tr style=\"text-align: right;\">\n",
              "      <th></th>\n",
              "      <th>edital</th>\n",
              "      <th>tipoOferta</th>\n",
              "      <th>codigoTitulo</th>\n",
              "      <th>NomeTitulo</th>\n",
              "      <th>AnoTitulo</th>\n",
              "      <th>ofertante</th>\n",
              "      <th>prazo</th>\n",
              "      <th>dataLiquidacao</th>\n",
              "      <th>quantidadeOfertada</th>\n",
              "      <th>quantidadeAceita</th>\n",
              "      <th>taxaCorte</th>\n",
              "    </tr>\n",
              "  </thead>\n",
              "  <tbody>\n",
              "  </tbody>\n",
              "</table>\n",
              "</div>"
            ],
            "text/plain": [
              "Empty DataFrame\n",
              "Columns: [edital, tipoOferta, codigoTitulo, NomeTitulo, AnoTitulo, ofertante, prazo, dataLiquidacao, quantidadeOfertada, quantidadeAceita, taxaCorte]\n",
              "Index: []"
            ]
          },
          "execution_count": 6,
          "metadata": {},
          "output_type": "execute_result"
        }
      ],
      "source": [
        "import ssl\n",
        "import pandas as pd\n",
        "from datetime import datetime\n",
        "\n",
        "# Desabilitar verificação SSL\n",
        "ssl._create_default_https_context = ssl._create_unverified_context\n",
        "\n",
        "# Definir a data de hoje\n",
        "data_hoje = datetime.now().strftime('%Y-%m-%d')\n",
        "\n",
        "# URL da tabela HTML com a data de hoje\n",
        "url = f\"https://olinda.bcb.gov.br/olinda/servico/leiloes_selic/versao/v1/odata/leiloesTitulosPublicos(dataMovimentoInicio=@dataMovimentoInicio,dataMovimentoFim=@dataMovimentoFim,dataLiquidacao=@dataLiquidacao,codigoTitulo=@codigoTitulo,dataVencimento=@dataVencimento,edital=@edital,tipoPublico=@tipoPublico,tipoOferta=@tipoOferta)?@dataMovimentoInicio='{data_hoje}'&@dataMovimentoFim='{data_hoje}'&$top=100&$format=text/html\"\n",
        "\n",
        "# Leitura da tabela HTML usando pandas\n",
        "tabela = pd.read_html(url)[0]\n",
        "\n",
        "# 1. Reorganizar as colunas\n",
        "colunas_desejadas = ['edital', 'tipoOferta', 'codigoTitulo', 'ofertante', 'prazo', 'dataLiquidacao','quantidadeOfertada', 'quantidadeAceita', 'taxaCorte']\n",
        "tabela = tabela[colunas_desejadas]\n",
        "\n",
        "# 2. Criar a coluna \"NomeTitulo\"\n",
        "tabela['NomeTitulo'] = tabela['codigoTitulo'].map({210100: 'LFT 210100', 760199: 'NTN-B 760199'})\n",
        "\n",
        "# 3. Mover a coluna \"NomeTitulo\" para a posição correta\n",
        "colunas = list(tabela.columns)\n",
        "colunas.insert(colunas.index('codigoTitulo') + 1, colunas.pop(colunas.index('NomeTitulo')))\n",
        "tabela = tabela[colunas]\n",
        "\n",
        "# 4. Ordenar por 'edital' com ordem personalizada\n",
        "ordem_edital = [37, 38, 39]\n",
        "tabela['edital'] = pd.Categorical(tabela['edital'], categories=ordem_edital, ordered=True)\n",
        "\n",
        "# 5. Ordenar por 'prazo' com ordem personalizada\n",
        "ordem_prazo = sorted(tabela['prazo'].unique())\n",
        "tabela['prazo'] = pd.Categorical(tabela['prazo'], categories=ordem_prazo, ordered=True)\n",
        "\n",
        "# 6. Criar a coluna \"AnoTitulo\"\n",
        "tabela['AnoTitulo'] = (datetime.now() + pd.to_timedelta(pd.to_numeric(tabela['prazo'], errors='coerce'), unit='D')).dt.year\n",
        "\n",
        "# 7. Mover a coluna \"AnoTitulo\" para a posição correta\n",
        "colunas = list(tabela.columns)\n",
        "colunas.insert(colunas.index('NomeTitulo') + 1, colunas.pop(colunas.index('AnoTitulo')))\n",
        "tabela = tabela[colunas]\n",
        "\n",
        "# 8. Ordenar o DataFrame por 'edital' e 'prazo'\n",
        "tabela_ordenada = tabela.sort_values(by=['edital', 'prazo'])\n",
        "\n",
        "# 9. Formatar a coluna \"taxaCorte\" como porcentagem\n",
        "tabela_ordenada['taxaCorte'] = tabela_ordenada['taxaCorte'] / 10000\n",
        "tabela_ordenada['taxaCorte'] = tabela_ordenada['taxaCorte'].astype(str) + '%'\n",
        "\n",
        "# 10. Formatar a coluna \"quantidadeAceita\"\n",
        "tabela_ordenada['quantidadeAceita'] = tabela_ordenada['quantidadeAceita'].apply(lambda x: f'{x:,.0f}'.replace(',', '.'))\n",
        "\n",
        "# 11. Formatar a coluna \"quantidadeOfertada\"\n",
        "tabela_ordenada['quantidadeOfertada'] = tabela_ordenada['quantidadeOfertada'].apply(lambda x: f'{x:,.0f}'.replace(',', '.'))\n",
        "\n",
        "# Visualizar as primeiras linhas da tabela:\n",
        "tabela_ordenada.head()"
      ]
    }
  ],
  "metadata": {
    "colab": {
      "collapsed_sections": [
        "eVPTKCUkNjm_",
        "Lu44beDmNpWs"
      ],
      "provenance": []
    },
    "kernelspec": {
      "display_name": "Python 3",
      "language": "python",
      "name": "python3"
    },
    "language_info": {
      "codemirror_mode": {
        "name": "ipython",
        "version": 3
      },
      "file_extension": ".py",
      "mimetype": "text/x-python",
      "name": "python",
      "nbconvert_exporter": "python",
      "pygments_lexer": "ipython3",
      "version": "3.12.1"
    }
  },
  "nbformat": 4,
  "nbformat_minor": 0
}
