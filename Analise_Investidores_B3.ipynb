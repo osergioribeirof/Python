{
 "cells": [
  {
   "cell_type": "markdown",
   "metadata": {},
   "source": [
    "# Tabela "
   ]
  },
  {
   "cell_type": "code",
   "execution_count": 2,
   "metadata": {},
   "outputs": [
    {
     "name": "stderr",
     "output_type": "stream",
     "text": [
      "/var/folders/pw/n8qw3q6n66v1gg613kl1wt8w0000gn/T/ipykernel_2476/3886804105.py:17: FutureWarning:\n",
      "\n",
      "Passing literal html to 'read_html' is deprecated and will be removed in a future version. To read from a literal string, wrap it in a 'StringIO' object.\n",
      "\n"
     ]
    },
    {
     "data": {
      "text/html": [
       "<div>\n",
       "<style scoped>\n",
       "    .dataframe tbody tr th:only-of-type {\n",
       "        vertical-align: middle;\n",
       "    }\n",
       "\n",
       "    .dataframe tbody tr th {\n",
       "        vertical-align: top;\n",
       "    }\n",
       "\n",
       "    .dataframe thead th {\n",
       "        text-align: right;\n",
       "    }\n",
       "</style>\n",
       "<table border=\"1\" class=\"dataframe\">\n",
       "  <thead>\n",
       "    <tr style=\"text-align: right;\">\n",
       "      <th></th>\n",
       "      <th>Data</th>\n",
       "      <th>Estrangeiro</th>\n",
       "      <th>Institucional</th>\n",
       "      <th>Pessoa física</th>\n",
       "      <th>Inst. Financeira</th>\n",
       "      <th>Outros</th>\n",
       "    </tr>\n",
       "  </thead>\n",
       "  <tbody>\n",
       "    <tr>\n",
       "      <th>0</th>\n",
       "      <td>14/03/2025</td>\n",
       "      <td>879,38 mi</td>\n",
       "      <td>56,50 mi</td>\n",
       "      <td>-1.080,96 mi</td>\n",
       "      <td>70,28 mi</td>\n",
       "      <td>74,81 mi</td>\n",
       "    </tr>\n",
       "    <tr>\n",
       "      <th>1</th>\n",
       "      <td>13/03/2025</td>\n",
       "      <td>1.363,56 mi</td>\n",
       "      <td>-635,63 mi</td>\n",
       "      <td>-836,30 mi</td>\n",
       "      <td>111,05 mi</td>\n",
       "      <td>-2,67 mi</td>\n",
       "    </tr>\n",
       "    <tr>\n",
       "      <th>2</th>\n",
       "      <td>12/03/2025</td>\n",
       "      <td>766,68 mi</td>\n",
       "      <td>-980,23 mi</td>\n",
       "      <td>157,88 mi</td>\n",
       "      <td>0,07 mi</td>\n",
       "      <td>55,60 mi</td>\n",
       "    </tr>\n",
       "    <tr>\n",
       "      <th>3</th>\n",
       "      <td>11/03/2025</td>\n",
       "      <td>-1.489,75 mi</td>\n",
       "      <td>1.117,25 mi</td>\n",
       "      <td>140,41 mi</td>\n",
       "      <td>197,96 mi</td>\n",
       "      <td>34,14 mi</td>\n",
       "    </tr>\n",
       "    <tr>\n",
       "      <th>4</th>\n",
       "      <td>10/03/2025</td>\n",
       "      <td>-677,37 mi</td>\n",
       "      <td>129,43 mi</td>\n",
       "      <td>431,13 mi</td>\n",
       "      <td>-35,55 mi</td>\n",
       "      <td>152,35 mi</td>\n",
       "    </tr>\n",
       "    <tr>\n",
       "      <th>...</th>\n",
       "      <td>...</td>\n",
       "      <td>...</td>\n",
       "      <td>...</td>\n",
       "      <td>...</td>\n",
       "      <td>...</td>\n",
       "      <td>...</td>\n",
       "    </tr>\n",
       "    <tr>\n",
       "      <th>245</th>\n",
       "      <td>25/03/2024</td>\n",
       "      <td>-664,53 mi</td>\n",
       "      <td>439,35 mi</td>\n",
       "      <td>174,90 mi</td>\n",
       "      <td>15,43 mi</td>\n",
       "      <td>34,85 mi</td>\n",
       "    </tr>\n",
       "    <tr>\n",
       "      <th>246</th>\n",
       "      <td>22/03/2024</td>\n",
       "      <td>-392,91 mi</td>\n",
       "      <td>12,04 mi</td>\n",
       "      <td>398,96 mi</td>\n",
       "      <td>-54,62 mi</td>\n",
       "      <td>36,53 mi</td>\n",
       "    </tr>\n",
       "    <tr>\n",
       "      <th>247</th>\n",
       "      <td>21/03/2024</td>\n",
       "      <td>-604,29 mi</td>\n",
       "      <td>-209,44 mi</td>\n",
       "      <td>666,63 mi</td>\n",
       "      <td>109,66 mi</td>\n",
       "      <td>37,45 mi</td>\n",
       "    </tr>\n",
       "    <tr>\n",
       "      <th>248</th>\n",
       "      <td>20/03/2024</td>\n",
       "      <td>425,52 mi</td>\n",
       "      <td>-184,81 mi</td>\n",
       "      <td>-289,95 mi</td>\n",
       "      <td>31,57 mi</td>\n",
       "      <td>17,66 mi</td>\n",
       "    </tr>\n",
       "    <tr>\n",
       "      <th>249</th>\n",
       "      <td>19/03/2024</td>\n",
       "      <td>-72,58 mi</td>\n",
       "      <td>-160,70 mi</td>\n",
       "      <td>113,22 mi</td>\n",
       "      <td>108,90 mi</td>\n",
       "      <td>11,16 mi</td>\n",
       "    </tr>\n",
       "  </tbody>\n",
       "</table>\n",
       "<p>250 rows × 6 columns</p>\n",
       "</div>"
      ],
      "text/plain": [
       "           Data   Estrangeiro Institucional Pessoa física Inst. Financeira  \\\n",
       "0    14/03/2025     879,38 mi      56,50 mi  -1.080,96 mi         70,28 mi   \n",
       "1    13/03/2025   1.363,56 mi    -635,63 mi    -836,30 mi        111,05 mi   \n",
       "2    12/03/2025     766,68 mi    -980,23 mi     157,88 mi          0,07 mi   \n",
       "3    11/03/2025  -1.489,75 mi   1.117,25 mi     140,41 mi        197,96 mi   \n",
       "4    10/03/2025    -677,37 mi     129,43 mi     431,13 mi        -35,55 mi   \n",
       "..          ...           ...           ...           ...              ...   \n",
       "245  25/03/2024    -664,53 mi     439,35 mi     174,90 mi         15,43 mi   \n",
       "246  22/03/2024    -392,91 mi      12,04 mi     398,96 mi        -54,62 mi   \n",
       "247  21/03/2024    -604,29 mi    -209,44 mi     666,63 mi        109,66 mi   \n",
       "248  20/03/2024     425,52 mi    -184,81 mi    -289,95 mi         31,57 mi   \n",
       "249  19/03/2024     -72,58 mi    -160,70 mi     113,22 mi        108,90 mi   \n",
       "\n",
       "        Outros  \n",
       "0     74,81 mi  \n",
       "1     -2,67 mi  \n",
       "2     55,60 mi  \n",
       "3     34,14 mi  \n",
       "4    152,35 mi  \n",
       "..         ...  \n",
       "245   34,85 mi  \n",
       "246   36,53 mi  \n",
       "247   37,45 mi  \n",
       "248   17,66 mi  \n",
       "249   11,16 mi  \n",
       "\n",
       "[250 rows x 6 columns]"
      ]
     },
     "metadata": {},
     "output_type": "display_data"
    }
   ],
   "source": [
    "import pandas as pd\n",
    "import requests\n",
    "from bs4 import BeautifulSoup\n",
    "\n",
    "# URL do site\n",
    "url = \"https://www.dadosdemercado.com.br/fluxo\"\n",
    "\n",
    "# Fazer a requisição HTTP para obter o conteúdo da página\n",
    "response = requests.get(url)\n",
    "if response.status_code == 200:\n",
    "    soup = BeautifulSoup(response.content, 'html.parser')\n",
    "\n",
    "    # Encontrar a tabela na página\n",
    "    tabela_html = soup.find('table')  # Localiza a primeira tabela na página\n",
    "    if tabela_html:\n",
    "        # Ler a tabela HTML com pandas\n",
    "        tabela = pd.read_html(str(tabela_html))[0]\n",
    "\n",
    "        # Exibir a tabela\n",
    "        display(tabela)  # Use display no Jupyter Notebook para exibir a tabela formatada\n",
    "    else:\n",
    "        print(\"Tabela não encontrada na página.\")\n",
    "else:\n",
    "    print(f\"Erro ao acessar o site: {response.status_code}\")"
   ]
  },
  {
   "cell_type": "markdown",
   "metadata": {},
   "source": [
    "# Fluxo de Investidores Estrangeiro"
   ]
  },
  {
   "cell_type": "code",
   "execution_count": 32,
   "metadata": {},
   "outputs": [
    {
     "name": "stdout",
     "output_type": "stream",
     "text": [
      "Colunas disponíveis na tabela: Index(['Data', 'Estrangeiro', 'Institucional', 'Pessoa física',\n",
      "       'Inst. Financeira', 'Outros'],\n",
      "      dtype='object')\n"
     ]
    },
    {
     "name": "stderr",
     "output_type": "stream",
     "text": [
      "/var/folders/pw/n8qw3q6n66v1gg613kl1wt8w0000gn/T/ipykernel_2476/257864172.py:19: FutureWarning:\n",
      "\n",
      "Passing literal html to 'read_html' is deprecated and will be removed in a future version. To read from a literal string, wrap it in a 'StringIO' object.\n",
      "\n"
     ]
    },
    {
     "data": {
      "application/vnd.plotly.v1+json": {
       "config": {
        "plotlyServerURL": "https://plot.ly"
       },
       "data": [
        {
         "line": {
          "color": "green"
         },
         "marker": {
          "color": "green",
          "size": 6,
          "symbol": "circle"
         },
         "mode": "lines+markers",
         "name": "Estrangeiro",
         "type": "scatter",
         "x": [
          "2025-03-14T00:00:00.000000000",
          "2025-03-13T00:00:00.000000000",
          "2025-03-12T00:00:00.000000000",
          "2025-03-11T00:00:00.000000000",
          "2025-03-10T00:00:00.000000000",
          "2025-03-07T00:00:00.000000000",
          "2025-03-06T00:00:00.000000000",
          "2025-03-05T00:00:00.000000000",
          "2025-02-28T00:00:00.000000000",
          "2025-02-27T00:00:00.000000000",
          "2025-02-26T00:00:00.000000000",
          "2025-02-25T00:00:00.000000000",
          "2025-02-24T00:00:00.000000000",
          "2025-02-21T00:00:00.000000000",
          "2025-02-20T00:00:00.000000000",
          "2025-02-19T00:00:00.000000000",
          "2025-02-18T00:00:00.000000000",
          "2025-02-17T00:00:00.000000000",
          "2025-02-14T00:00:00.000000000",
          "2025-02-13T00:00:00.000000000",
          "2025-02-12T00:00:00.000000000",
          "2025-02-11T00:00:00.000000000",
          "2025-02-10T00:00:00.000000000",
          "2025-02-07T00:00:00.000000000",
          "2025-02-06T00:00:00.000000000",
          "2025-02-05T00:00:00.000000000",
          "2025-02-04T00:00:00.000000000",
          "2025-02-03T00:00:00.000000000",
          "2025-01-31T00:00:00.000000000",
          "2025-01-30T00:00:00.000000000",
          "2025-01-29T00:00:00.000000000",
          "2025-01-28T00:00:00.000000000",
          "2025-01-27T00:00:00.000000000",
          "2025-01-24T00:00:00.000000000",
          "2025-01-23T00:00:00.000000000",
          "2025-01-22T00:00:00.000000000",
          "2025-01-21T00:00:00.000000000",
          "2025-01-20T00:00:00.000000000",
          "2025-01-17T00:00:00.000000000",
          "2025-01-16T00:00:00.000000000",
          "2025-01-15T00:00:00.000000000",
          "2025-01-14T00:00:00.000000000",
          "2025-01-13T00:00:00.000000000",
          "2025-01-10T00:00:00.000000000",
          "2025-01-09T00:00:00.000000000",
          "2025-01-08T00:00:00.000000000",
          "2025-01-07T00:00:00.000000000",
          "2025-01-06T00:00:00.000000000",
          "2025-01-03T00:00:00.000000000",
          "2025-01-02T00:00:00.000000000"
         ],
         "y": {
          "bdata": "16NwPQp7i0AK16NwPU6VQD0K16Nw9YdAAAAAAABHl8ApXI/C9SqFwK5H4XqUpqJAzczMzMwcbED2KFyPwolzwI/C9ShcFJDAZmZmZmZqicA9CtejcA13wMP1KFyPCmLAzczMzMx6ikAK16NwPaqeQPYoXI/CyXjA7FG4HoUjZMDsUbgehes7QB+F61G4AnZAUrgeheuilkAUrkfhehQZQClcj8L1aDVA4XoUrkdBbkAK16NwPQoWQHsUrkfh0mJApHA9CteTW0DsUbgehetrQEjhehSudYPApHA9CtcjK0BI4XoUrq9hQNejcD2KDqRAj8L1KFyfWcC4HoXrUVhawHE9CtejgJJASOF6FK63UEDNzMzMzCx8QK5H4XoUenrAexSuR+E8hcCuR+F6FA5aQNejcD2K0KZA9ihcj8JwuUBxPQrXoxx9QHsUrkfhdJTACtejcD2ic8CF61G4Ht+OwDMzMzMzw3PAj8L1KFxxhsD2KFyPwp15QFK4HoXrD4HAcT0K16OMnsBcj8L1KOqAwA==",
          "dtype": "f8"
         }
        }
       ],
       "layout": {
        "template": {
         "data": {
          "bar": [
           {
            "error_x": {
             "color": "#2a3f5f"
            },
            "error_y": {
             "color": "#2a3f5f"
            },
            "marker": {
             "line": {
              "color": "white",
              "width": 0.5
             },
             "pattern": {
              "fillmode": "overlay",
              "size": 10,
              "solidity": 0.2
             }
            },
            "type": "bar"
           }
          ],
          "barpolar": [
           {
            "marker": {
             "line": {
              "color": "white",
              "width": 0.5
             },
             "pattern": {
              "fillmode": "overlay",
              "size": 10,
              "solidity": 0.2
             }
            },
            "type": "barpolar"
           }
          ],
          "carpet": [
           {
            "aaxis": {
             "endlinecolor": "#2a3f5f",
             "gridcolor": "#C8D4E3",
             "linecolor": "#C8D4E3",
             "minorgridcolor": "#C8D4E3",
             "startlinecolor": "#2a3f5f"
            },
            "baxis": {
             "endlinecolor": "#2a3f5f",
             "gridcolor": "#C8D4E3",
             "linecolor": "#C8D4E3",
             "minorgridcolor": "#C8D4E3",
             "startlinecolor": "#2a3f5f"
            },
            "type": "carpet"
           }
          ],
          "choropleth": [
           {
            "colorbar": {
             "outlinewidth": 0,
             "ticks": ""
            },
            "type": "choropleth"
           }
          ],
          "contour": [
           {
            "colorbar": {
             "outlinewidth": 0,
             "ticks": ""
            },
            "colorscale": [
             [
              0,
              "#0d0887"
             ],
             [
              0.1111111111111111,
              "#46039f"
             ],
             [
              0.2222222222222222,
              "#7201a8"
             ],
             [
              0.3333333333333333,
              "#9c179e"
             ],
             [
              0.4444444444444444,
              "#bd3786"
             ],
             [
              0.5555555555555556,
              "#d8576b"
             ],
             [
              0.6666666666666666,
              "#ed7953"
             ],
             [
              0.7777777777777778,
              "#fb9f3a"
             ],
             [
              0.8888888888888888,
              "#fdca26"
             ],
             [
              1,
              "#f0f921"
             ]
            ],
            "type": "contour"
           }
          ],
          "contourcarpet": [
           {
            "colorbar": {
             "outlinewidth": 0,
             "ticks": ""
            },
            "type": "contourcarpet"
           }
          ],
          "heatmap": [
           {
            "colorbar": {
             "outlinewidth": 0,
             "ticks": ""
            },
            "colorscale": [
             [
              0,
              "#0d0887"
             ],
             [
              0.1111111111111111,
              "#46039f"
             ],
             [
              0.2222222222222222,
              "#7201a8"
             ],
             [
              0.3333333333333333,
              "#9c179e"
             ],
             [
              0.4444444444444444,
              "#bd3786"
             ],
             [
              0.5555555555555556,
              "#d8576b"
             ],
             [
              0.6666666666666666,
              "#ed7953"
             ],
             [
              0.7777777777777778,
              "#fb9f3a"
             ],
             [
              0.8888888888888888,
              "#fdca26"
             ],
             [
              1,
              "#f0f921"
             ]
            ],
            "type": "heatmap"
           }
          ],
          "histogram": [
           {
            "marker": {
             "pattern": {
              "fillmode": "overlay",
              "size": 10,
              "solidity": 0.2
             }
            },
            "type": "histogram"
           }
          ],
          "histogram2d": [
           {
            "colorbar": {
             "outlinewidth": 0,
             "ticks": ""
            },
            "colorscale": [
             [
              0,
              "#0d0887"
             ],
             [
              0.1111111111111111,
              "#46039f"
             ],
             [
              0.2222222222222222,
              "#7201a8"
             ],
             [
              0.3333333333333333,
              "#9c179e"
             ],
             [
              0.4444444444444444,
              "#bd3786"
             ],
             [
              0.5555555555555556,
              "#d8576b"
             ],
             [
              0.6666666666666666,
              "#ed7953"
             ],
             [
              0.7777777777777778,
              "#fb9f3a"
             ],
             [
              0.8888888888888888,
              "#fdca26"
             ],
             [
              1,
              "#f0f921"
             ]
            ],
            "type": "histogram2d"
           }
          ],
          "histogram2dcontour": [
           {
            "colorbar": {
             "outlinewidth": 0,
             "ticks": ""
            },
            "colorscale": [
             [
              0,
              "#0d0887"
             ],
             [
              0.1111111111111111,
              "#46039f"
             ],
             [
              0.2222222222222222,
              "#7201a8"
             ],
             [
              0.3333333333333333,
              "#9c179e"
             ],
             [
              0.4444444444444444,
              "#bd3786"
             ],
             [
              0.5555555555555556,
              "#d8576b"
             ],
             [
              0.6666666666666666,
              "#ed7953"
             ],
             [
              0.7777777777777778,
              "#fb9f3a"
             ],
             [
              0.8888888888888888,
              "#fdca26"
             ],
             [
              1,
              "#f0f921"
             ]
            ],
            "type": "histogram2dcontour"
           }
          ],
          "mesh3d": [
           {
            "colorbar": {
             "outlinewidth": 0,
             "ticks": ""
            },
            "type": "mesh3d"
           }
          ],
          "parcoords": [
           {
            "line": {
             "colorbar": {
              "outlinewidth": 0,
              "ticks": ""
             }
            },
            "type": "parcoords"
           }
          ],
          "pie": [
           {
            "automargin": true,
            "type": "pie"
           }
          ],
          "scatter": [
           {
            "fillpattern": {
             "fillmode": "overlay",
             "size": 10,
             "solidity": 0.2
            },
            "type": "scatter"
           }
          ],
          "scatter3d": [
           {
            "line": {
             "colorbar": {
              "outlinewidth": 0,
              "ticks": ""
             }
            },
            "marker": {
             "colorbar": {
              "outlinewidth": 0,
              "ticks": ""
             }
            },
            "type": "scatter3d"
           }
          ],
          "scattercarpet": [
           {
            "marker": {
             "colorbar": {
              "outlinewidth": 0,
              "ticks": ""
             }
            },
            "type": "scattercarpet"
           }
          ],
          "scattergeo": [
           {
            "marker": {
             "colorbar": {
              "outlinewidth": 0,
              "ticks": ""
             }
            },
            "type": "scattergeo"
           }
          ],
          "scattergl": [
           {
            "marker": {
             "colorbar": {
              "outlinewidth": 0,
              "ticks": ""
             }
            },
            "type": "scattergl"
           }
          ],
          "scattermap": [
           {
            "marker": {
             "colorbar": {
              "outlinewidth": 0,
              "ticks": ""
             }
            },
            "type": "scattermap"
           }
          ],
          "scattermapbox": [
           {
            "marker": {
             "colorbar": {
              "outlinewidth": 0,
              "ticks": ""
             }
            },
            "type": "scattermapbox"
           }
          ],
          "scatterpolar": [
           {
            "marker": {
             "colorbar": {
              "outlinewidth": 0,
              "ticks": ""
             }
            },
            "type": "scatterpolar"
           }
          ],
          "scatterpolargl": [
           {
            "marker": {
             "colorbar": {
              "outlinewidth": 0,
              "ticks": ""
             }
            },
            "type": "scatterpolargl"
           }
          ],
          "scatterternary": [
           {
            "marker": {
             "colorbar": {
              "outlinewidth": 0,
              "ticks": ""
             }
            },
            "type": "scatterternary"
           }
          ],
          "surface": [
           {
            "colorbar": {
             "outlinewidth": 0,
             "ticks": ""
            },
            "colorscale": [
             [
              0,
              "#0d0887"
             ],
             [
              0.1111111111111111,
              "#46039f"
             ],
             [
              0.2222222222222222,
              "#7201a8"
             ],
             [
              0.3333333333333333,
              "#9c179e"
             ],
             [
              0.4444444444444444,
              "#bd3786"
             ],
             [
              0.5555555555555556,
              "#d8576b"
             ],
             [
              0.6666666666666666,
              "#ed7953"
             ],
             [
              0.7777777777777778,
              "#fb9f3a"
             ],
             [
              0.8888888888888888,
              "#fdca26"
             ],
             [
              1,
              "#f0f921"
             ]
            ],
            "type": "surface"
           }
          ],
          "table": [
           {
            "cells": {
             "fill": {
              "color": "#EBF0F8"
             },
             "line": {
              "color": "white"
             }
            },
            "header": {
             "fill": {
              "color": "#C8D4E3"
             },
             "line": {
              "color": "white"
             }
            },
            "type": "table"
           }
          ]
         },
         "layout": {
          "annotationdefaults": {
           "arrowcolor": "#2a3f5f",
           "arrowhead": 0,
           "arrowwidth": 1
          },
          "autotypenumbers": "strict",
          "coloraxis": {
           "colorbar": {
            "outlinewidth": 0,
            "ticks": ""
           }
          },
          "colorscale": {
           "diverging": [
            [
             0,
             "#8e0152"
            ],
            [
             0.1,
             "#c51b7d"
            ],
            [
             0.2,
             "#de77ae"
            ],
            [
             0.3,
             "#f1b6da"
            ],
            [
             0.4,
             "#fde0ef"
            ],
            [
             0.5,
             "#f7f7f7"
            ],
            [
             0.6,
             "#e6f5d0"
            ],
            [
             0.7,
             "#b8e186"
            ],
            [
             0.8,
             "#7fbc41"
            ],
            [
             0.9,
             "#4d9221"
            ],
            [
             1,
             "#276419"
            ]
           ],
           "sequential": [
            [
             0,
             "#0d0887"
            ],
            [
             0.1111111111111111,
             "#46039f"
            ],
            [
             0.2222222222222222,
             "#7201a8"
            ],
            [
             0.3333333333333333,
             "#9c179e"
            ],
            [
             0.4444444444444444,
             "#bd3786"
            ],
            [
             0.5555555555555556,
             "#d8576b"
            ],
            [
             0.6666666666666666,
             "#ed7953"
            ],
            [
             0.7777777777777778,
             "#fb9f3a"
            ],
            [
             0.8888888888888888,
             "#fdca26"
            ],
            [
             1,
             "#f0f921"
            ]
           ],
           "sequentialminus": [
            [
             0,
             "#0d0887"
            ],
            [
             0.1111111111111111,
             "#46039f"
            ],
            [
             0.2222222222222222,
             "#7201a8"
            ],
            [
             0.3333333333333333,
             "#9c179e"
            ],
            [
             0.4444444444444444,
             "#bd3786"
            ],
            [
             0.5555555555555556,
             "#d8576b"
            ],
            [
             0.6666666666666666,
             "#ed7953"
            ],
            [
             0.7777777777777778,
             "#fb9f3a"
            ],
            [
             0.8888888888888888,
             "#fdca26"
            ],
            [
             1,
             "#f0f921"
            ]
           ]
          },
          "colorway": [
           "#636efa",
           "#EF553B",
           "#00cc96",
           "#ab63fa",
           "#FFA15A",
           "#19d3f3",
           "#FF6692",
           "#B6E880",
           "#FF97FF",
           "#FECB52"
          ],
          "font": {
           "color": "#2a3f5f"
          },
          "geo": {
           "bgcolor": "white",
           "lakecolor": "white",
           "landcolor": "white",
           "showlakes": true,
           "showland": true,
           "subunitcolor": "#C8D4E3"
          },
          "hoverlabel": {
           "align": "left"
          },
          "hovermode": "closest",
          "mapbox": {
           "style": "light"
          },
          "paper_bgcolor": "white",
          "plot_bgcolor": "white",
          "polar": {
           "angularaxis": {
            "gridcolor": "#EBF0F8",
            "linecolor": "#EBF0F8",
            "ticks": ""
           },
           "bgcolor": "white",
           "radialaxis": {
            "gridcolor": "#EBF0F8",
            "linecolor": "#EBF0F8",
            "ticks": ""
           }
          },
          "scene": {
           "xaxis": {
            "backgroundcolor": "white",
            "gridcolor": "#DFE8F3",
            "gridwidth": 2,
            "linecolor": "#EBF0F8",
            "showbackground": true,
            "ticks": "",
            "zerolinecolor": "#EBF0F8"
           },
           "yaxis": {
            "backgroundcolor": "white",
            "gridcolor": "#DFE8F3",
            "gridwidth": 2,
            "linecolor": "#EBF0F8",
            "showbackground": true,
            "ticks": "",
            "zerolinecolor": "#EBF0F8"
           },
           "zaxis": {
            "backgroundcolor": "white",
            "gridcolor": "#DFE8F3",
            "gridwidth": 2,
            "linecolor": "#EBF0F8",
            "showbackground": true,
            "ticks": "",
            "zerolinecolor": "#EBF0F8"
           }
          },
          "shapedefaults": {
           "line": {
            "color": "#2a3f5f"
           }
          },
          "ternary": {
           "aaxis": {
            "gridcolor": "#DFE8F3",
            "linecolor": "#A2B1C6",
            "ticks": ""
           },
           "baxis": {
            "gridcolor": "#DFE8F3",
            "linecolor": "#A2B1C6",
            "ticks": ""
           },
           "bgcolor": "white",
           "caxis": {
            "gridcolor": "#DFE8F3",
            "linecolor": "#A2B1C6",
            "ticks": ""
           }
          },
          "title": {
           "x": 0.05
          },
          "xaxis": {
           "automargin": true,
           "gridcolor": "#EBF0F8",
           "linecolor": "#EBF0F8",
           "ticks": "",
           "title": {
            "standoff": 15
           },
           "zerolinecolor": "#EBF0F8",
           "zerolinewidth": 2
          },
          "yaxis": {
           "automargin": true,
           "gridcolor": "#EBF0F8",
           "linecolor": "#EBF0F8",
           "ticks": "",
           "title": {
            "standoff": 15
           },
           "zerolinecolor": "#EBF0F8",
           "zerolinewidth": 2
          }
         }
        },
        "title": {
         "font": {
          "size": 18
         },
         "text": "Fluxo de Investidores Estrangeiros (Em Milhões)"
        },
        "xaxis": {
         "nticks": 10,
         "showgrid": true,
         "tickangle": 45,
         "tickformat": "%d/%m/%Y",
         "tickmode": "auto",
         "title": {
          "font": {
           "size": 14
          },
          "text": "Data"
         }
        },
        "yaxis": {
         "rangemode": "tozero",
         "showgrid": true,
         "title": {
          "font": {
           "size": 14
          },
          "text": "Fluxo Estrangeiro (mi)"
         }
        }
       }
      }
     },
     "metadata": {},
     "output_type": "display_data"
    }
   ],
   "source": [
    "import pandas as pd\n",
    "import requests\n",
    "from bs4 import BeautifulSoup\n",
    "import plotly.graph_objects as go\n",
    "from datetime import datetime\n",
    "\n",
    "# URL do site\n",
    "url = \"https://www.dadosdemercado.com.br/fluxo\"\n",
    "\n",
    "# Fazer a requisição HTTP para obter o conteúdo da página\n",
    "response = requests.get(url)\n",
    "if response.status_code == 200:\n",
    "    soup = BeautifulSoup(response.content, 'html.parser')\n",
    "\n",
    "    # Encontrar a tabela na página\n",
    "    tabela_html = soup.find('table')  # Localiza a primeira tabela na página\n",
    "    if tabela_html:\n",
    "        # Ler a tabela HTML com pandas\n",
    "        tabela = pd.read_html(str(tabela_html))[0]\n",
    "\n",
    "        # Verificar os nomes das colunas\n",
    "        print(\"Colunas disponíveis na tabela:\", tabela.columns)\n",
    "\n",
    "        # Garantir que a coluna 'Data' esteja no formato datetime\n",
    "        tabela['Data'] = pd.to_datetime(tabela['Data'], format='%d/%m/%Y', errors='coerce')\n",
    "\n",
    "        # Verificar se a coluna 'Estrangeiro' existe\n",
    "        if 'Estrangeiro' in tabela.columns:\n",
    "            # Converter os valores da coluna 'Estrangeiro' para numérico\n",
    "            tabela['Estrangeiro'] = tabela['Estrangeiro'].str.replace(' mi', '')  # Remover 'mi'\n",
    "            tabela['Estrangeiro'] = tabela['Estrangeiro'].str.replace('.', '', regex=False)  # Remover separadores de milhares\n",
    "            tabela['Estrangeiro'] = tabela['Estrangeiro'].str.replace(',', '.', regex=False).astype(float)\n",
    "\n",
    "            # Filtrar os dados a partir do início do ano atual\n",
    "            inicio_ano = datetime(datetime.now().year, 1, 1)  # Primeiro dia do ano atual\n",
    "            tabela_filtrada = tabela[tabela['Data'] >= inicio_ano]\n",
    "\n",
    "            # Criar o gráfico de linha com a coluna 'Estrangeiro'\n",
    "            fig = go.Figure()\n",
    "\n",
    "            # Adicionar a linha conectando os valores de 'Estrangeiro'\n",
    "            fig.add_trace(go.Scatter(\n",
    "                x=tabela_filtrada['Data'],  # Eixo X: coluna Data\n",
    "                y=tabela_filtrada['Estrangeiro'],  # Eixo Y: fluxo estrangeiro\n",
    "                mode='lines+markers',\n",
    "                name='Estrangeiro',\n",
    "                line=dict(color='green'),\n",
    "                marker=dict(size=6, color='green', symbol='circle')\n",
    "            ))\n",
    "\n",
    "            # Personalizar o layout\n",
    "            fig.update_layout(\n",
    "                title='Fluxo de Investidores Estrangeiros (Em Milhões)',\n",
    "                xaxis_title='Data',\n",
    "                yaxis_title='Fluxo Estrangeiro (mi)',\n",
    "                template='plotly_white',\n",
    "                xaxis=dict(\n",
    "                    tickformat='%d/%m/%Y',  # Formatar as datas no eixo X\n",
    "                    tickangle=45,           # Rotacionar os rótulos do eixo X\n",
    "                    showgrid=True,          # Mostrar linhas de grade no eixo X\n",
    "                    tickmode='auto',        # Ajustar automaticamente os rótulos\n",
    "                    nticks=10               # Limitar o número de rótulos no eixo X\n",
    "                ),\n",
    "                yaxis=dict(\n",
    "                    showgrid=True,          # Mostrar linhas de grade no eixo Y\n",
    "                    rangemode='tozero'      # Garantir que o eixo Y comece no zero\n",
    "                ),\n",
    "                title_font_size=18,\n",
    "                xaxis_title_font_size=14,\n",
    "                yaxis_title_font_size=14\n",
    "            )\n",
    "\n",
    "            # Exibir o gráfico\n",
    "            fig.show()\n",
    "        else:\n",
    "            print(\"A coluna 'Estrangeiro' não foi encontrada na tabela. Verifique os nomes das colunas.\")\n",
    "    else:\n",
    "        print(\"Tabela não encontrada na página.\")\n",
    "else:\n",
    "    print(f\"Erro ao acessar o site: {response.status_code}\")"
   ]
  },
  {
   "cell_type": "markdown",
   "metadata": {},
   "source": [
    "# Fluxo de Investidores Institucional"
   ]
  },
  {
   "cell_type": "code",
   "execution_count": 31,
   "metadata": {},
   "outputs": [
    {
     "name": "stdout",
     "output_type": "stream",
     "text": [
      "Colunas disponíveis na tabela: Index(['Data', 'Estrangeiro', 'Institucional', 'Pessoa física',\n",
      "       'Inst. Financeira', 'Outros'],\n",
      "      dtype='object')\n"
     ]
    },
    {
     "name": "stderr",
     "output_type": "stream",
     "text": [
      "/var/folders/pw/n8qw3q6n66v1gg613kl1wt8w0000gn/T/ipykernel_2476/2513298503.py:19: FutureWarning:\n",
      "\n",
      "Passing literal html to 'read_html' is deprecated and will be removed in a future version. To read from a literal string, wrap it in a 'StringIO' object.\n",
      "\n"
     ]
    },
    {
     "data": {
      "application/vnd.plotly.v1+json": {
       "config": {
        "plotlyServerURL": "https://plot.ly"
       },
       "data": [
        {
         "line": {
          "color": "blue"
         },
         "marker": {
          "color": "blue",
          "size": 6,
          "symbol": "circle"
         },
         "mode": "lines+markers",
         "name": "Institucional",
         "type": "scatter",
         "x": [
          "2025-03-14T00:00:00.000000000",
          "2025-03-13T00:00:00.000000000",
          "2025-03-12T00:00:00.000000000",
          "2025-03-11T00:00:00.000000000",
          "2025-03-10T00:00:00.000000000",
          "2025-03-07T00:00:00.000000000",
          "2025-03-06T00:00:00.000000000",
          "2025-03-05T00:00:00.000000000",
          "2025-02-28T00:00:00.000000000",
          "2025-02-27T00:00:00.000000000",
          "2025-02-26T00:00:00.000000000",
          "2025-02-25T00:00:00.000000000",
          "2025-02-24T00:00:00.000000000",
          "2025-02-21T00:00:00.000000000",
          "2025-02-20T00:00:00.000000000",
          "2025-02-19T00:00:00.000000000",
          "2025-02-18T00:00:00.000000000",
          "2025-02-17T00:00:00.000000000",
          "2025-02-14T00:00:00.000000000",
          "2025-02-13T00:00:00.000000000",
          "2025-02-12T00:00:00.000000000",
          "2025-02-11T00:00:00.000000000",
          "2025-02-10T00:00:00.000000000",
          "2025-02-07T00:00:00.000000000",
          "2025-02-06T00:00:00.000000000",
          "2025-02-05T00:00:00.000000000",
          "2025-02-04T00:00:00.000000000",
          "2025-02-03T00:00:00.000000000",
          "2025-01-31T00:00:00.000000000",
          "2025-01-30T00:00:00.000000000",
          "2025-01-29T00:00:00.000000000",
          "2025-01-28T00:00:00.000000000",
          "2025-01-27T00:00:00.000000000",
          "2025-01-24T00:00:00.000000000",
          "2025-01-23T00:00:00.000000000",
          "2025-01-22T00:00:00.000000000",
          "2025-01-21T00:00:00.000000000",
          "2025-01-20T00:00:00.000000000",
          "2025-01-17T00:00:00.000000000",
          "2025-01-16T00:00:00.000000000",
          "2025-01-15T00:00:00.000000000",
          "2025-01-14T00:00:00.000000000",
          "2025-01-13T00:00:00.000000000",
          "2025-01-10T00:00:00.000000000",
          "2025-01-09T00:00:00.000000000",
          "2025-01-08T00:00:00.000000000",
          "2025-01-07T00:00:00.000000000",
          "2025-01-06T00:00:00.000000000",
          "2025-01-03T00:00:00.000000000",
          "2025-01-02T00:00:00.000000000"
         ],
         "y": {
          "bdata": "AAAAAABATEDXo3A9Ct2DwKRwPQrXoY7AAAAAAAB1kUD2KFyPwi1gQLgehevR4aPAH4XrUbiGesBmZmZmZrZWQLgehetRWGZAMzMzMzPzY0DNzMzMzLh/wDMzMzMz33vAuB6F61HyhcDNzMzMzJKSwArXo3A9FnLA4XoUrkehOMDhehSuR5acwOF6FK5HfXLAFK5H4XrcmcBcj8L1KAxYQLgehetRh5DAzczMzMwogMBSuB6F6wluwOxRuB6FN4bAAAAAAABAbcBI4XoUrldzwDMzMzMzO3NA4XoUrkfpcsCamZmZmVl6wOF6FK5H9pXAH4XrUbiGZsDD9Shcj1JbwGZmZmZmmorApHA9CtdTeMDsUbgehXWFwAAAAAAAsFRAw/UoXI/KeECPwvUoXFdywKRwPQrX9KPAexSuR+GAnUCF61G4HlVcwNejcD0Kl5FAKVyPwvWoJ0DD9Shcj8SDQGZmZmZmjmBArkfhehSuUkB7FK5H4Wp8wFK4HoXroX5AexSuR+E4lEAzMzMzM1NWQA==",
          "dtype": "f8"
         }
        }
       ],
       "layout": {
        "template": {
         "data": {
          "bar": [
           {
            "error_x": {
             "color": "#2a3f5f"
            },
            "error_y": {
             "color": "#2a3f5f"
            },
            "marker": {
             "line": {
              "color": "white",
              "width": 0.5
             },
             "pattern": {
              "fillmode": "overlay",
              "size": 10,
              "solidity": 0.2
             }
            },
            "type": "bar"
           }
          ],
          "barpolar": [
           {
            "marker": {
             "line": {
              "color": "white",
              "width": 0.5
             },
             "pattern": {
              "fillmode": "overlay",
              "size": 10,
              "solidity": 0.2
             }
            },
            "type": "barpolar"
           }
          ],
          "carpet": [
           {
            "aaxis": {
             "endlinecolor": "#2a3f5f",
             "gridcolor": "#C8D4E3",
             "linecolor": "#C8D4E3",
             "minorgridcolor": "#C8D4E3",
             "startlinecolor": "#2a3f5f"
            },
            "baxis": {
             "endlinecolor": "#2a3f5f",
             "gridcolor": "#C8D4E3",
             "linecolor": "#C8D4E3",
             "minorgridcolor": "#C8D4E3",
             "startlinecolor": "#2a3f5f"
            },
            "type": "carpet"
           }
          ],
          "choropleth": [
           {
            "colorbar": {
             "outlinewidth": 0,
             "ticks": ""
            },
            "type": "choropleth"
           }
          ],
          "contour": [
           {
            "colorbar": {
             "outlinewidth": 0,
             "ticks": ""
            },
            "colorscale": [
             [
              0,
              "#0d0887"
             ],
             [
              0.1111111111111111,
              "#46039f"
             ],
             [
              0.2222222222222222,
              "#7201a8"
             ],
             [
              0.3333333333333333,
              "#9c179e"
             ],
             [
              0.4444444444444444,
              "#bd3786"
             ],
             [
              0.5555555555555556,
              "#d8576b"
             ],
             [
              0.6666666666666666,
              "#ed7953"
             ],
             [
              0.7777777777777778,
              "#fb9f3a"
             ],
             [
              0.8888888888888888,
              "#fdca26"
             ],
             [
              1,
              "#f0f921"
             ]
            ],
            "type": "contour"
           }
          ],
          "contourcarpet": [
           {
            "colorbar": {
             "outlinewidth": 0,
             "ticks": ""
            },
            "type": "contourcarpet"
           }
          ],
          "heatmap": [
           {
            "colorbar": {
             "outlinewidth": 0,
             "ticks": ""
            },
            "colorscale": [
             [
              0,
              "#0d0887"
             ],
             [
              0.1111111111111111,
              "#46039f"
             ],
             [
              0.2222222222222222,
              "#7201a8"
             ],
             [
              0.3333333333333333,
              "#9c179e"
             ],
             [
              0.4444444444444444,
              "#bd3786"
             ],
             [
              0.5555555555555556,
              "#d8576b"
             ],
             [
              0.6666666666666666,
              "#ed7953"
             ],
             [
              0.7777777777777778,
              "#fb9f3a"
             ],
             [
              0.8888888888888888,
              "#fdca26"
             ],
             [
              1,
              "#f0f921"
             ]
            ],
            "type": "heatmap"
           }
          ],
          "histogram": [
           {
            "marker": {
             "pattern": {
              "fillmode": "overlay",
              "size": 10,
              "solidity": 0.2
             }
            },
            "type": "histogram"
           }
          ],
          "histogram2d": [
           {
            "colorbar": {
             "outlinewidth": 0,
             "ticks": ""
            },
            "colorscale": [
             [
              0,
              "#0d0887"
             ],
             [
              0.1111111111111111,
              "#46039f"
             ],
             [
              0.2222222222222222,
              "#7201a8"
             ],
             [
              0.3333333333333333,
              "#9c179e"
             ],
             [
              0.4444444444444444,
              "#bd3786"
             ],
             [
              0.5555555555555556,
              "#d8576b"
             ],
             [
              0.6666666666666666,
              "#ed7953"
             ],
             [
              0.7777777777777778,
              "#fb9f3a"
             ],
             [
              0.8888888888888888,
              "#fdca26"
             ],
             [
              1,
              "#f0f921"
             ]
            ],
            "type": "histogram2d"
           }
          ],
          "histogram2dcontour": [
           {
            "colorbar": {
             "outlinewidth": 0,
             "ticks": ""
            },
            "colorscale": [
             [
              0,
              "#0d0887"
             ],
             [
              0.1111111111111111,
              "#46039f"
             ],
             [
              0.2222222222222222,
              "#7201a8"
             ],
             [
              0.3333333333333333,
              "#9c179e"
             ],
             [
              0.4444444444444444,
              "#bd3786"
             ],
             [
              0.5555555555555556,
              "#d8576b"
             ],
             [
              0.6666666666666666,
              "#ed7953"
             ],
             [
              0.7777777777777778,
              "#fb9f3a"
             ],
             [
              0.8888888888888888,
              "#fdca26"
             ],
             [
              1,
              "#f0f921"
             ]
            ],
            "type": "histogram2dcontour"
           }
          ],
          "mesh3d": [
           {
            "colorbar": {
             "outlinewidth": 0,
             "ticks": ""
            },
            "type": "mesh3d"
           }
          ],
          "parcoords": [
           {
            "line": {
             "colorbar": {
              "outlinewidth": 0,
              "ticks": ""
             }
            },
            "type": "parcoords"
           }
          ],
          "pie": [
           {
            "automargin": true,
            "type": "pie"
           }
          ],
          "scatter": [
           {
            "fillpattern": {
             "fillmode": "overlay",
             "size": 10,
             "solidity": 0.2
            },
            "type": "scatter"
           }
          ],
          "scatter3d": [
           {
            "line": {
             "colorbar": {
              "outlinewidth": 0,
              "ticks": ""
             }
            },
            "marker": {
             "colorbar": {
              "outlinewidth": 0,
              "ticks": ""
             }
            },
            "type": "scatter3d"
           }
          ],
          "scattercarpet": [
           {
            "marker": {
             "colorbar": {
              "outlinewidth": 0,
              "ticks": ""
             }
            },
            "type": "scattercarpet"
           }
          ],
          "scattergeo": [
           {
            "marker": {
             "colorbar": {
              "outlinewidth": 0,
              "ticks": ""
             }
            },
            "type": "scattergeo"
           }
          ],
          "scattergl": [
           {
            "marker": {
             "colorbar": {
              "outlinewidth": 0,
              "ticks": ""
             }
            },
            "type": "scattergl"
           }
          ],
          "scattermap": [
           {
            "marker": {
             "colorbar": {
              "outlinewidth": 0,
              "ticks": ""
             }
            },
            "type": "scattermap"
           }
          ],
          "scattermapbox": [
           {
            "marker": {
             "colorbar": {
              "outlinewidth": 0,
              "ticks": ""
             }
            },
            "type": "scattermapbox"
           }
          ],
          "scatterpolar": [
           {
            "marker": {
             "colorbar": {
              "outlinewidth": 0,
              "ticks": ""
             }
            },
            "type": "scatterpolar"
           }
          ],
          "scatterpolargl": [
           {
            "marker": {
             "colorbar": {
              "outlinewidth": 0,
              "ticks": ""
             }
            },
            "type": "scatterpolargl"
           }
          ],
          "scatterternary": [
           {
            "marker": {
             "colorbar": {
              "outlinewidth": 0,
              "ticks": ""
             }
            },
            "type": "scatterternary"
           }
          ],
          "surface": [
           {
            "colorbar": {
             "outlinewidth": 0,
             "ticks": ""
            },
            "colorscale": [
             [
              0,
              "#0d0887"
             ],
             [
              0.1111111111111111,
              "#46039f"
             ],
             [
              0.2222222222222222,
              "#7201a8"
             ],
             [
              0.3333333333333333,
              "#9c179e"
             ],
             [
              0.4444444444444444,
              "#bd3786"
             ],
             [
              0.5555555555555556,
              "#d8576b"
             ],
             [
              0.6666666666666666,
              "#ed7953"
             ],
             [
              0.7777777777777778,
              "#fb9f3a"
             ],
             [
              0.8888888888888888,
              "#fdca26"
             ],
             [
              1,
              "#f0f921"
             ]
            ],
            "type": "surface"
           }
          ],
          "table": [
           {
            "cells": {
             "fill": {
              "color": "#EBF0F8"
             },
             "line": {
              "color": "white"
             }
            },
            "header": {
             "fill": {
              "color": "#C8D4E3"
             },
             "line": {
              "color": "white"
             }
            },
            "type": "table"
           }
          ]
         },
         "layout": {
          "annotationdefaults": {
           "arrowcolor": "#2a3f5f",
           "arrowhead": 0,
           "arrowwidth": 1
          },
          "autotypenumbers": "strict",
          "coloraxis": {
           "colorbar": {
            "outlinewidth": 0,
            "ticks": ""
           }
          },
          "colorscale": {
           "diverging": [
            [
             0,
             "#8e0152"
            ],
            [
             0.1,
             "#c51b7d"
            ],
            [
             0.2,
             "#de77ae"
            ],
            [
             0.3,
             "#f1b6da"
            ],
            [
             0.4,
             "#fde0ef"
            ],
            [
             0.5,
             "#f7f7f7"
            ],
            [
             0.6,
             "#e6f5d0"
            ],
            [
             0.7,
             "#b8e186"
            ],
            [
             0.8,
             "#7fbc41"
            ],
            [
             0.9,
             "#4d9221"
            ],
            [
             1,
             "#276419"
            ]
           ],
           "sequential": [
            [
             0,
             "#0d0887"
            ],
            [
             0.1111111111111111,
             "#46039f"
            ],
            [
             0.2222222222222222,
             "#7201a8"
            ],
            [
             0.3333333333333333,
             "#9c179e"
            ],
            [
             0.4444444444444444,
             "#bd3786"
            ],
            [
             0.5555555555555556,
             "#d8576b"
            ],
            [
             0.6666666666666666,
             "#ed7953"
            ],
            [
             0.7777777777777778,
             "#fb9f3a"
            ],
            [
             0.8888888888888888,
             "#fdca26"
            ],
            [
             1,
             "#f0f921"
            ]
           ],
           "sequentialminus": [
            [
             0,
             "#0d0887"
            ],
            [
             0.1111111111111111,
             "#46039f"
            ],
            [
             0.2222222222222222,
             "#7201a8"
            ],
            [
             0.3333333333333333,
             "#9c179e"
            ],
            [
             0.4444444444444444,
             "#bd3786"
            ],
            [
             0.5555555555555556,
             "#d8576b"
            ],
            [
             0.6666666666666666,
             "#ed7953"
            ],
            [
             0.7777777777777778,
             "#fb9f3a"
            ],
            [
             0.8888888888888888,
             "#fdca26"
            ],
            [
             1,
             "#f0f921"
            ]
           ]
          },
          "colorway": [
           "#636efa",
           "#EF553B",
           "#00cc96",
           "#ab63fa",
           "#FFA15A",
           "#19d3f3",
           "#FF6692",
           "#B6E880",
           "#FF97FF",
           "#FECB52"
          ],
          "font": {
           "color": "#2a3f5f"
          },
          "geo": {
           "bgcolor": "white",
           "lakecolor": "white",
           "landcolor": "white",
           "showlakes": true,
           "showland": true,
           "subunitcolor": "#C8D4E3"
          },
          "hoverlabel": {
           "align": "left"
          },
          "hovermode": "closest",
          "mapbox": {
           "style": "light"
          },
          "paper_bgcolor": "white",
          "plot_bgcolor": "white",
          "polar": {
           "angularaxis": {
            "gridcolor": "#EBF0F8",
            "linecolor": "#EBF0F8",
            "ticks": ""
           },
           "bgcolor": "white",
           "radialaxis": {
            "gridcolor": "#EBF0F8",
            "linecolor": "#EBF0F8",
            "ticks": ""
           }
          },
          "scene": {
           "xaxis": {
            "backgroundcolor": "white",
            "gridcolor": "#DFE8F3",
            "gridwidth": 2,
            "linecolor": "#EBF0F8",
            "showbackground": true,
            "ticks": "",
            "zerolinecolor": "#EBF0F8"
           },
           "yaxis": {
            "backgroundcolor": "white",
            "gridcolor": "#DFE8F3",
            "gridwidth": 2,
            "linecolor": "#EBF0F8",
            "showbackground": true,
            "ticks": "",
            "zerolinecolor": "#EBF0F8"
           },
           "zaxis": {
            "backgroundcolor": "white",
            "gridcolor": "#DFE8F3",
            "gridwidth": 2,
            "linecolor": "#EBF0F8",
            "showbackground": true,
            "ticks": "",
            "zerolinecolor": "#EBF0F8"
           }
          },
          "shapedefaults": {
           "line": {
            "color": "#2a3f5f"
           }
          },
          "ternary": {
           "aaxis": {
            "gridcolor": "#DFE8F3",
            "linecolor": "#A2B1C6",
            "ticks": ""
           },
           "baxis": {
            "gridcolor": "#DFE8F3",
            "linecolor": "#A2B1C6",
            "ticks": ""
           },
           "bgcolor": "white",
           "caxis": {
            "gridcolor": "#DFE8F3",
            "linecolor": "#A2B1C6",
            "ticks": ""
           }
          },
          "title": {
           "x": 0.05
          },
          "xaxis": {
           "automargin": true,
           "gridcolor": "#EBF0F8",
           "linecolor": "#EBF0F8",
           "ticks": "",
           "title": {
            "standoff": 15
           },
           "zerolinecolor": "#EBF0F8",
           "zerolinewidth": 2
          },
          "yaxis": {
           "automargin": true,
           "gridcolor": "#EBF0F8",
           "linecolor": "#EBF0F8",
           "ticks": "",
           "title": {
            "standoff": 15
           },
           "zerolinecolor": "#EBF0F8",
           "zerolinewidth": 2
          }
         }
        },
        "title": {
         "font": {
          "size": 18
         },
         "text": "Fluxo de Investidores Institucionais (Em Milhões)"
        },
        "xaxis": {
         "nticks": 10,
         "showgrid": true,
         "tickangle": 45,
         "tickformat": "%d/%m/%Y",
         "tickmode": "auto",
         "title": {
          "font": {
           "size": 14
          },
          "text": "Data"
         }
        },
        "yaxis": {
         "rangemode": "tozero",
         "showgrid": true,
         "title": {
          "font": {
           "size": 14
          },
          "text": "Fluxo Institucional (mi)"
         }
        }
       }
      }
     },
     "metadata": {},
     "output_type": "display_data"
    }
   ],
   "source": [
    "import pandas as pd\n",
    "import requests\n",
    "from bs4 import BeautifulSoup\n",
    "import plotly.graph_objects as go\n",
    "from datetime import datetime\n",
    "\n",
    "# URL do site\n",
    "url = \"https://www.dadosdemercado.com.br/fluxo\"\n",
    "\n",
    "# Fazer a requisição HTTP para obter o conteúdo da página\n",
    "response = requests.get(url)\n",
    "if response.status_code == 200:\n",
    "    soup = BeautifulSoup(response.content, 'html.parser')\n",
    "\n",
    "    # Encontrar a tabela na página\n",
    "    tabela_html = soup.find('table')  # Localiza a primeira tabela na página\n",
    "    if tabela_html:\n",
    "        # Ler a tabela HTML com pandas\n",
    "        tabela = pd.read_html(str(tabela_html))[0]\n",
    "\n",
    "        # Verificar os nomes das colunas\n",
    "        print(\"Colunas disponíveis na tabela:\", tabela.columns)\n",
    "\n",
    "        # Garantir que a coluna 'Data' esteja no formato datetime\n",
    "        tabela['Data'] = pd.to_datetime(tabela['Data'], format='%d/%m/%Y', errors='coerce')\n",
    "\n",
    "        # Verificar se a coluna 'Institucional' existe\n",
    "        if 'Institucional' in tabela.columns:\n",
    "            # Converter os valores da coluna 'Institucional' para numérico\n",
    "            tabela['Institucional'] = tabela['Institucional'].str.replace(' mi', '')  # Remover 'mi'\n",
    "            tabela['Institucional'] = tabela['Institucional'].str.replace('.', '', regex=False)  # Remover separadores de milhares\n",
    "            tabela['Institucional'] = tabela['Institucional'].str.replace(',', '.', regex=False).astype(float)\n",
    "\n",
    "            # Filtrar os dados a partir do início do ano atual\n",
    "            inicio_ano = datetime(datetime.now().year, 1, 1)  # Primeiro dia do ano atual\n",
    "            tabela_filtrada = tabela[tabela['Data'] >= inicio_ano]\n",
    "\n",
    "            # Criar o gráfico de linha com a coluna 'Institucional'\n",
    "            fig = go.Figure()\n",
    "\n",
    "            # Adicionar a linha conectando os valores de 'Institucional'\n",
    "            fig.add_trace(go.Scatter(\n",
    "                x=tabela_filtrada['Data'],  # Eixo X: coluna Data\n",
    "                y=tabela_filtrada['Institucional'],  # Eixo Y: fluxo institucional\n",
    "                mode='lines+markers',\n",
    "                name='Institucional',\n",
    "                line=dict(color='blue'),\n",
    "                marker=dict(size=6, color='blue', symbol='circle')\n",
    "            ))\n",
    "\n",
    "            # Personalizar o layout\n",
    "            fig.update_layout(\n",
    "                title='Fluxo de Investidores Institucionais (Em Milhões)',\n",
    "                xaxis_title='Data',\n",
    "                yaxis_title='Fluxo Institucional (mi)',\n",
    "                template='plotly_white',\n",
    "                xaxis=dict(\n",
    "                    tickformat='%d/%m/%Y',  # Formatar as datas no eixo X\n",
    "                    tickangle=45,           # Rotacionar os rótulos do eixo X\n",
    "                    showgrid=True,          # Mostrar linhas de grade no eixo X\n",
    "                    tickmode='auto',        # Ajustar automaticamente os rótulos\n",
    "                    nticks=10               # Limitar o número de rótulos no eixo X\n",
    "                ),\n",
    "                yaxis=dict(\n",
    "                    showgrid=True,          # Mostrar linhas de grade no eixo Y\n",
    "                    rangemode='tozero'      # Garantir que o eixo Y comece no zero\n",
    "                ),\n",
    "                title_font_size=18,\n",
    "                xaxis_title_font_size=14,\n",
    "                yaxis_title_font_size=14\n",
    "            )\n",
    "\n",
    "            # Exibir o gráfico\n",
    "            fig.show()\n",
    "        else:\n",
    "            print(\"A coluna 'Institucional' não foi encontrada na tabela. Verifique os nomes das colunas.\")\n",
    "    else:\n",
    "        print(\"Tabela não encontrada na página.\")\n",
    "else:\n",
    "    print(f\"Erro ao acessar o site: {response.status_code}\")"
   ]
  },
  {
   "cell_type": "markdown",
   "metadata": {},
   "source": [
    "# Fluxo de Investidores Pessoa Física"
   ]
  },
  {
   "cell_type": "code",
   "execution_count": 29,
   "metadata": {},
   "outputs": [
    {
     "name": "stdout",
     "output_type": "stream",
     "text": [
      "Colunas disponíveis na tabela: Index(['Data', 'Estrangeiro', 'Institucional', 'Pessoa física',\n",
      "       'Inst. Financeira', 'Outros'],\n",
      "      dtype='object')\n"
     ]
    },
    {
     "name": "stderr",
     "output_type": "stream",
     "text": [
      "/var/folders/pw/n8qw3q6n66v1gg613kl1wt8w0000gn/T/ipykernel_2476/837196895.py:19: FutureWarning:\n",
      "\n",
      "Passing literal html to 'read_html' is deprecated and will be removed in a future version. To read from a literal string, wrap it in a 'StringIO' object.\n",
      "\n"
     ]
    },
    {
     "data": {
      "application/vnd.plotly.v1+json": {
       "config": {
        "plotlyServerURL": "https://plot.ly"
       },
       "data": [
        {
         "line": {
          "color": "orange"
         },
         "marker": {
          "color": "orange",
          "size": 6,
          "symbol": "circle"
         },
         "mode": "lines+markers",
         "name": "Pessoa física",
         "type": "scatter",
         "x": [
          "2025-03-14T00:00:00.000000000",
          "2025-03-13T00:00:00.000000000",
          "2025-03-12T00:00:00.000000000",
          "2025-03-11T00:00:00.000000000",
          "2025-03-10T00:00:00.000000000",
          "2025-03-07T00:00:00.000000000",
          "2025-03-06T00:00:00.000000000",
          "2025-03-05T00:00:00.000000000",
          "2025-02-28T00:00:00.000000000",
          "2025-02-27T00:00:00.000000000",
          "2025-02-26T00:00:00.000000000",
          "2025-02-25T00:00:00.000000000",
          "2025-02-24T00:00:00.000000000",
          "2025-02-21T00:00:00.000000000",
          "2025-02-20T00:00:00.000000000",
          "2025-02-19T00:00:00.000000000",
          "2025-02-18T00:00:00.000000000",
          "2025-02-17T00:00:00.000000000",
          "2025-02-14T00:00:00.000000000",
          "2025-02-13T00:00:00.000000000",
          "2025-02-12T00:00:00.000000000",
          "2025-02-11T00:00:00.000000000",
          "2025-02-10T00:00:00.000000000",
          "2025-02-07T00:00:00.000000000",
          "2025-02-06T00:00:00.000000000",
          "2025-02-05T00:00:00.000000000",
          "2025-02-04T00:00:00.000000000",
          "2025-02-03T00:00:00.000000000",
          "2025-01-31T00:00:00.000000000",
          "2025-01-30T00:00:00.000000000",
          "2025-01-29T00:00:00.000000000",
          "2025-01-28T00:00:00.000000000",
          "2025-01-27T00:00:00.000000000",
          "2025-01-24T00:00:00.000000000",
          "2025-01-23T00:00:00.000000000",
          "2025-01-22T00:00:00.000000000",
          "2025-01-21T00:00:00.000000000",
          "2025-01-20T00:00:00.000000000",
          "2025-01-17T00:00:00.000000000",
          "2025-01-16T00:00:00.000000000",
          "2025-01-15T00:00:00.000000000",
          "2025-01-14T00:00:00.000000000",
          "2025-01-13T00:00:00.000000000",
          "2025-01-10T00:00:00.000000000",
          "2025-01-09T00:00:00.000000000",
          "2025-01-08T00:00:00.000000000",
          "2025-01-07T00:00:00.000000000",
          "2025-01-06T00:00:00.000000000",
          "2025-01-03T00:00:00.000000000",
          "2025-01-02T00:00:00.000000000"
         ],
         "y": {
          "bdata": "pHA9CtfjkMBmZmZmZiKKwFyPwvUovGNAhetRuB6NYUCuR+F6FPJ6QIXrUbgexTHAj8L1KFyvYEDsUbgehZtjQNejcD0KDYRApHA9CtcraEAUrkfheox1QI/C9ShcTzNA9ihcj8L5cEDD9ShcjxpkwFK4HoXrIWZAPQrXo3BFY8CF61G4HoUqQEjhehSuR2vAj8L1KFz/isB7FK5H4bpOwAAAAAAAIINAMzMzMzMDZMBI4XoUrtdxwB+F61G4MnlA16NwPQrXK8AzMzMzM5NRQOF6FK5HZXBAZmZmZmZmakCamZmZmYlbQM3MzMzMI5LAhetRuB7lT0DNzMzMzExfQHE9CtejfHzAj8L1KFyvV0AK16NwPWpcQOF6FK5HkVtAuB6F61H4UUCkcD0K16NUQNejcD0Kh2DAH4XrUbjOeECPwvUoXFWCwNejcD0Kl2VAuB6F61GIVkA9CtejcD1fQD0K16Nw/UhA7FG4HoV/ekCkcD0K16Pgv3E9CtejYFrAXI/C9ShYf0DXo3A9Cot0QA==",
          "dtype": "f8"
         }
        }
       ],
       "layout": {
        "template": {
         "data": {
          "bar": [
           {
            "error_x": {
             "color": "#2a3f5f"
            },
            "error_y": {
             "color": "#2a3f5f"
            },
            "marker": {
             "line": {
              "color": "white",
              "width": 0.5
             },
             "pattern": {
              "fillmode": "overlay",
              "size": 10,
              "solidity": 0.2
             }
            },
            "type": "bar"
           }
          ],
          "barpolar": [
           {
            "marker": {
             "line": {
              "color": "white",
              "width": 0.5
             },
             "pattern": {
              "fillmode": "overlay",
              "size": 10,
              "solidity": 0.2
             }
            },
            "type": "barpolar"
           }
          ],
          "carpet": [
           {
            "aaxis": {
             "endlinecolor": "#2a3f5f",
             "gridcolor": "#C8D4E3",
             "linecolor": "#C8D4E3",
             "minorgridcolor": "#C8D4E3",
             "startlinecolor": "#2a3f5f"
            },
            "baxis": {
             "endlinecolor": "#2a3f5f",
             "gridcolor": "#C8D4E3",
             "linecolor": "#C8D4E3",
             "minorgridcolor": "#C8D4E3",
             "startlinecolor": "#2a3f5f"
            },
            "type": "carpet"
           }
          ],
          "choropleth": [
           {
            "colorbar": {
             "outlinewidth": 0,
             "ticks": ""
            },
            "type": "choropleth"
           }
          ],
          "contour": [
           {
            "colorbar": {
             "outlinewidth": 0,
             "ticks": ""
            },
            "colorscale": [
             [
              0,
              "#0d0887"
             ],
             [
              0.1111111111111111,
              "#46039f"
             ],
             [
              0.2222222222222222,
              "#7201a8"
             ],
             [
              0.3333333333333333,
              "#9c179e"
             ],
             [
              0.4444444444444444,
              "#bd3786"
             ],
             [
              0.5555555555555556,
              "#d8576b"
             ],
             [
              0.6666666666666666,
              "#ed7953"
             ],
             [
              0.7777777777777778,
              "#fb9f3a"
             ],
             [
              0.8888888888888888,
              "#fdca26"
             ],
             [
              1,
              "#f0f921"
             ]
            ],
            "type": "contour"
           }
          ],
          "contourcarpet": [
           {
            "colorbar": {
             "outlinewidth": 0,
             "ticks": ""
            },
            "type": "contourcarpet"
           }
          ],
          "heatmap": [
           {
            "colorbar": {
             "outlinewidth": 0,
             "ticks": ""
            },
            "colorscale": [
             [
              0,
              "#0d0887"
             ],
             [
              0.1111111111111111,
              "#46039f"
             ],
             [
              0.2222222222222222,
              "#7201a8"
             ],
             [
              0.3333333333333333,
              "#9c179e"
             ],
             [
              0.4444444444444444,
              "#bd3786"
             ],
             [
              0.5555555555555556,
              "#d8576b"
             ],
             [
              0.6666666666666666,
              "#ed7953"
             ],
             [
              0.7777777777777778,
              "#fb9f3a"
             ],
             [
              0.8888888888888888,
              "#fdca26"
             ],
             [
              1,
              "#f0f921"
             ]
            ],
            "type": "heatmap"
           }
          ],
          "histogram": [
           {
            "marker": {
             "pattern": {
              "fillmode": "overlay",
              "size": 10,
              "solidity": 0.2
             }
            },
            "type": "histogram"
           }
          ],
          "histogram2d": [
           {
            "colorbar": {
             "outlinewidth": 0,
             "ticks": ""
            },
            "colorscale": [
             [
              0,
              "#0d0887"
             ],
             [
              0.1111111111111111,
              "#46039f"
             ],
             [
              0.2222222222222222,
              "#7201a8"
             ],
             [
              0.3333333333333333,
              "#9c179e"
             ],
             [
              0.4444444444444444,
              "#bd3786"
             ],
             [
              0.5555555555555556,
              "#d8576b"
             ],
             [
              0.6666666666666666,
              "#ed7953"
             ],
             [
              0.7777777777777778,
              "#fb9f3a"
             ],
             [
              0.8888888888888888,
              "#fdca26"
             ],
             [
              1,
              "#f0f921"
             ]
            ],
            "type": "histogram2d"
           }
          ],
          "histogram2dcontour": [
           {
            "colorbar": {
             "outlinewidth": 0,
             "ticks": ""
            },
            "colorscale": [
             [
              0,
              "#0d0887"
             ],
             [
              0.1111111111111111,
              "#46039f"
             ],
             [
              0.2222222222222222,
              "#7201a8"
             ],
             [
              0.3333333333333333,
              "#9c179e"
             ],
             [
              0.4444444444444444,
              "#bd3786"
             ],
             [
              0.5555555555555556,
              "#d8576b"
             ],
             [
              0.6666666666666666,
              "#ed7953"
             ],
             [
              0.7777777777777778,
              "#fb9f3a"
             ],
             [
              0.8888888888888888,
              "#fdca26"
             ],
             [
              1,
              "#f0f921"
             ]
            ],
            "type": "histogram2dcontour"
           }
          ],
          "mesh3d": [
           {
            "colorbar": {
             "outlinewidth": 0,
             "ticks": ""
            },
            "type": "mesh3d"
           }
          ],
          "parcoords": [
           {
            "line": {
             "colorbar": {
              "outlinewidth": 0,
              "ticks": ""
             }
            },
            "type": "parcoords"
           }
          ],
          "pie": [
           {
            "automargin": true,
            "type": "pie"
           }
          ],
          "scatter": [
           {
            "fillpattern": {
             "fillmode": "overlay",
             "size": 10,
             "solidity": 0.2
            },
            "type": "scatter"
           }
          ],
          "scatter3d": [
           {
            "line": {
             "colorbar": {
              "outlinewidth": 0,
              "ticks": ""
             }
            },
            "marker": {
             "colorbar": {
              "outlinewidth": 0,
              "ticks": ""
             }
            },
            "type": "scatter3d"
           }
          ],
          "scattercarpet": [
           {
            "marker": {
             "colorbar": {
              "outlinewidth": 0,
              "ticks": ""
             }
            },
            "type": "scattercarpet"
           }
          ],
          "scattergeo": [
           {
            "marker": {
             "colorbar": {
              "outlinewidth": 0,
              "ticks": ""
             }
            },
            "type": "scattergeo"
           }
          ],
          "scattergl": [
           {
            "marker": {
             "colorbar": {
              "outlinewidth": 0,
              "ticks": ""
             }
            },
            "type": "scattergl"
           }
          ],
          "scattermap": [
           {
            "marker": {
             "colorbar": {
              "outlinewidth": 0,
              "ticks": ""
             }
            },
            "type": "scattermap"
           }
          ],
          "scattermapbox": [
           {
            "marker": {
             "colorbar": {
              "outlinewidth": 0,
              "ticks": ""
             }
            },
            "type": "scattermapbox"
           }
          ],
          "scatterpolar": [
           {
            "marker": {
             "colorbar": {
              "outlinewidth": 0,
              "ticks": ""
             }
            },
            "type": "scatterpolar"
           }
          ],
          "scatterpolargl": [
           {
            "marker": {
             "colorbar": {
              "outlinewidth": 0,
              "ticks": ""
             }
            },
            "type": "scatterpolargl"
           }
          ],
          "scatterternary": [
           {
            "marker": {
             "colorbar": {
              "outlinewidth": 0,
              "ticks": ""
             }
            },
            "type": "scatterternary"
           }
          ],
          "surface": [
           {
            "colorbar": {
             "outlinewidth": 0,
             "ticks": ""
            },
            "colorscale": [
             [
              0,
              "#0d0887"
             ],
             [
              0.1111111111111111,
              "#46039f"
             ],
             [
              0.2222222222222222,
              "#7201a8"
             ],
             [
              0.3333333333333333,
              "#9c179e"
             ],
             [
              0.4444444444444444,
              "#bd3786"
             ],
             [
              0.5555555555555556,
              "#d8576b"
             ],
             [
              0.6666666666666666,
              "#ed7953"
             ],
             [
              0.7777777777777778,
              "#fb9f3a"
             ],
             [
              0.8888888888888888,
              "#fdca26"
             ],
             [
              1,
              "#f0f921"
             ]
            ],
            "type": "surface"
           }
          ],
          "table": [
           {
            "cells": {
             "fill": {
              "color": "#EBF0F8"
             },
             "line": {
              "color": "white"
             }
            },
            "header": {
             "fill": {
              "color": "#C8D4E3"
             },
             "line": {
              "color": "white"
             }
            },
            "type": "table"
           }
          ]
         },
         "layout": {
          "annotationdefaults": {
           "arrowcolor": "#2a3f5f",
           "arrowhead": 0,
           "arrowwidth": 1
          },
          "autotypenumbers": "strict",
          "coloraxis": {
           "colorbar": {
            "outlinewidth": 0,
            "ticks": ""
           }
          },
          "colorscale": {
           "diverging": [
            [
             0,
             "#8e0152"
            ],
            [
             0.1,
             "#c51b7d"
            ],
            [
             0.2,
             "#de77ae"
            ],
            [
             0.3,
             "#f1b6da"
            ],
            [
             0.4,
             "#fde0ef"
            ],
            [
             0.5,
             "#f7f7f7"
            ],
            [
             0.6,
             "#e6f5d0"
            ],
            [
             0.7,
             "#b8e186"
            ],
            [
             0.8,
             "#7fbc41"
            ],
            [
             0.9,
             "#4d9221"
            ],
            [
             1,
             "#276419"
            ]
           ],
           "sequential": [
            [
             0,
             "#0d0887"
            ],
            [
             0.1111111111111111,
             "#46039f"
            ],
            [
             0.2222222222222222,
             "#7201a8"
            ],
            [
             0.3333333333333333,
             "#9c179e"
            ],
            [
             0.4444444444444444,
             "#bd3786"
            ],
            [
             0.5555555555555556,
             "#d8576b"
            ],
            [
             0.6666666666666666,
             "#ed7953"
            ],
            [
             0.7777777777777778,
             "#fb9f3a"
            ],
            [
             0.8888888888888888,
             "#fdca26"
            ],
            [
             1,
             "#f0f921"
            ]
           ],
           "sequentialminus": [
            [
             0,
             "#0d0887"
            ],
            [
             0.1111111111111111,
             "#46039f"
            ],
            [
             0.2222222222222222,
             "#7201a8"
            ],
            [
             0.3333333333333333,
             "#9c179e"
            ],
            [
             0.4444444444444444,
             "#bd3786"
            ],
            [
             0.5555555555555556,
             "#d8576b"
            ],
            [
             0.6666666666666666,
             "#ed7953"
            ],
            [
             0.7777777777777778,
             "#fb9f3a"
            ],
            [
             0.8888888888888888,
             "#fdca26"
            ],
            [
             1,
             "#f0f921"
            ]
           ]
          },
          "colorway": [
           "#636efa",
           "#EF553B",
           "#00cc96",
           "#ab63fa",
           "#FFA15A",
           "#19d3f3",
           "#FF6692",
           "#B6E880",
           "#FF97FF",
           "#FECB52"
          ],
          "font": {
           "color": "#2a3f5f"
          },
          "geo": {
           "bgcolor": "white",
           "lakecolor": "white",
           "landcolor": "white",
           "showlakes": true,
           "showland": true,
           "subunitcolor": "#C8D4E3"
          },
          "hoverlabel": {
           "align": "left"
          },
          "hovermode": "closest",
          "mapbox": {
           "style": "light"
          },
          "paper_bgcolor": "white",
          "plot_bgcolor": "white",
          "polar": {
           "angularaxis": {
            "gridcolor": "#EBF0F8",
            "linecolor": "#EBF0F8",
            "ticks": ""
           },
           "bgcolor": "white",
           "radialaxis": {
            "gridcolor": "#EBF0F8",
            "linecolor": "#EBF0F8",
            "ticks": ""
           }
          },
          "scene": {
           "xaxis": {
            "backgroundcolor": "white",
            "gridcolor": "#DFE8F3",
            "gridwidth": 2,
            "linecolor": "#EBF0F8",
            "showbackground": true,
            "ticks": "",
            "zerolinecolor": "#EBF0F8"
           },
           "yaxis": {
            "backgroundcolor": "white",
            "gridcolor": "#DFE8F3",
            "gridwidth": 2,
            "linecolor": "#EBF0F8",
            "showbackground": true,
            "ticks": "",
            "zerolinecolor": "#EBF0F8"
           },
           "zaxis": {
            "backgroundcolor": "white",
            "gridcolor": "#DFE8F3",
            "gridwidth": 2,
            "linecolor": "#EBF0F8",
            "showbackground": true,
            "ticks": "",
            "zerolinecolor": "#EBF0F8"
           }
          },
          "shapedefaults": {
           "line": {
            "color": "#2a3f5f"
           }
          },
          "ternary": {
           "aaxis": {
            "gridcolor": "#DFE8F3",
            "linecolor": "#A2B1C6",
            "ticks": ""
           },
           "baxis": {
            "gridcolor": "#DFE8F3",
            "linecolor": "#A2B1C6",
            "ticks": ""
           },
           "bgcolor": "white",
           "caxis": {
            "gridcolor": "#DFE8F3",
            "linecolor": "#A2B1C6",
            "ticks": ""
           }
          },
          "title": {
           "x": 0.05
          },
          "xaxis": {
           "automargin": true,
           "gridcolor": "#EBF0F8",
           "linecolor": "#EBF0F8",
           "ticks": "",
           "title": {
            "standoff": 15
           },
           "zerolinecolor": "#EBF0F8",
           "zerolinewidth": 2
          },
          "yaxis": {
           "automargin": true,
           "gridcolor": "#EBF0F8",
           "linecolor": "#EBF0F8",
           "ticks": "",
           "title": {
            "standoff": 15
           },
           "zerolinecolor": "#EBF0F8",
           "zerolinewidth": 2
          }
         }
        },
        "title": {
         "font": {
          "size": 18
         },
         "text": "Fluxo de Investidores Pessoa Física (Em Milhões)"
        },
        "xaxis": {
         "nticks": 10,
         "showgrid": true,
         "tickangle": 45,
         "tickformat": "%d/%m/%Y",
         "tickmode": "auto",
         "title": {
          "font": {
           "size": 14
          },
          "text": "Data"
         }
        },
        "yaxis": {
         "rangemode": "tozero",
         "showgrid": true,
         "title": {
          "font": {
           "size": 14
          },
          "text": "Fluxo Pessoa Física (mi)"
         }
        }
       }
      }
     },
     "metadata": {},
     "output_type": "display_data"
    }
   ],
   "source": [
    "import pandas as pd\n",
    "import requests\n",
    "from bs4 import BeautifulSoup\n",
    "import plotly.graph_objects as go\n",
    "from datetime import datetime\n",
    "\n",
    "# URL do site\n",
    "url = \"https://www.dadosdemercado.com.br/fluxo\"\n",
    "\n",
    "# Fazer a requisição HTTP para obter o conteúdo da página\n",
    "response = requests.get(url)\n",
    "if response.status_code == 200:\n",
    "    soup = BeautifulSoup(response.content, 'html.parser')\n",
    "\n",
    "    # Encontrar a tabela na página\n",
    "    tabela_html = soup.find('table')  # Localiza a primeira tabela na página\n",
    "    if tabela_html:\n",
    "        # Ler a tabela HTML com pandas\n",
    "        tabela = pd.read_html(str(tabela_html))[0]\n",
    "\n",
    "        # Verificar os nomes das colunas\n",
    "        print(\"Colunas disponíveis na tabela:\", tabela.columns)\n",
    "\n",
    "        # Garantir que a coluna 'Data' esteja no formato datetime\n",
    "        tabela['Data'] = pd.to_datetime(tabela['Data'], format='%d/%m/%Y', errors='coerce')\n",
    "\n",
    "        # Verificar se a coluna 'Pessoa física' existe\n",
    "        if 'Pessoa física' in tabela.columns:\n",
    "            # Converter os valores da coluna 'Pessoa física' para numérico\n",
    "            tabela['Pessoa física'] = tabela['Pessoa física'].str.replace(' mi', '')  # Remover 'mi'\n",
    "            tabela['Pessoa física'] = tabela['Pessoa física'].str.replace('.', '', regex=False)  # Remover separadores de milhares\n",
    "            tabela['Pessoa física'] = tabela['Pessoa física'].str.replace(',', '.', regex=False).astype(float)\n",
    "\n",
    "            # Filtrar os dados a partir do início do ano atual\n",
    "            inicio_ano = datetime(datetime.now().year, 1, 1)  # Primeiro dia do ano atual\n",
    "            tabela_filtrada = tabela[tabela['Data'] >= inicio_ano]\n",
    "\n",
    "            # Criar o gráfico de linha com a coluna 'Pessoa física'\n",
    "            fig = go.Figure()\n",
    "\n",
    "            # Adicionar a linha conectando os valores de 'Pessoa física'\n",
    "            fig.add_trace(go.Scatter(\n",
    "                x=tabela_filtrada['Data'],  # Eixo X: coluna Data\n",
    "                y=tabela_filtrada['Pessoa física'],  # Eixo Y: fluxo pessoa física\n",
    "                mode='lines+markers',\n",
    "                name='Pessoa física',\n",
    "                line=dict(color='orange'),\n",
    "                marker=dict(size=6, color='orange', symbol='circle')\n",
    "            ))\n",
    "\n",
    "            # Personalizar o layout\n",
    "            fig.update_layout(\n",
    "                title='Fluxo de Investidores Pessoa Física (Em Milhões)',\n",
    "                xaxis_title='Data',\n",
    "                yaxis_title='Fluxo Pessoa Física (mi)',\n",
    "                template='plotly_white',\n",
    "                xaxis=dict(\n",
    "                    tickformat='%d/%m/%Y',  # Formatar as datas no eixo X\n",
    "                    tickangle=45,           # Rotacionar os rótulos do eixo X\n",
    "                    showgrid=True,          # Mostrar linhas de grade no eixo X\n",
    "                    tickmode='auto',        # Ajustar automaticamente os rótulos\n",
    "                    nticks=10               # Limitar o número de rótulos no eixo X\n",
    "                ),\n",
    "                yaxis=dict(\n",
    "                    showgrid=True,          # Mostrar linhas de grade no eixo Y\n",
    "                    rangemode='tozero'      # Garantir que o eixo Y comece no zero\n",
    "                ),\n",
    "                title_font_size=18,\n",
    "                xaxis_title_font_size=14,\n",
    "                yaxis_title_font_size=14\n",
    "            )\n",
    "\n",
    "            # Exibir o gráfico\n",
    "            fig.show()\n",
    "        else:\n",
    "            print(\"A coluna 'Pessoa física' não foi encontrada na tabela. Verifique os nomes das colunas.\")\n",
    "    else:\n",
    "        print(\"Tabela não encontrada na página.\")\n",
    "else:\n",
    "    print(f\"Erro ao acessar o site: {response.status_code}\")"
   ]
  },
  {
   "cell_type": "markdown",
   "metadata": {},
   "source": [
    "# Fluxo de Investidores Inst. Financeira"
   ]
  },
  {
   "cell_type": "code",
   "execution_count": 26,
   "metadata": {},
   "outputs": [
    {
     "name": "stdout",
     "output_type": "stream",
     "text": [
      "Colunas disponíveis na tabela: Index(['Data', 'Estrangeiro', 'Institucional', 'Pessoa física',\n",
      "       'Inst. Financeira', 'Outros'],\n",
      "      dtype='object')\n"
     ]
    },
    {
     "name": "stderr",
     "output_type": "stream",
     "text": [
      "/var/folders/pw/n8qw3q6n66v1gg613kl1wt8w0000gn/T/ipykernel_2476/1822863385.py:19: FutureWarning:\n",
      "\n",
      "Passing literal html to 'read_html' is deprecated and will be removed in a future version. To read from a literal string, wrap it in a 'StringIO' object.\n",
      "\n"
     ]
    },
    {
     "data": {
      "application/vnd.plotly.v1+json": {
       "config": {
        "plotlyServerURL": "https://plot.ly"
       },
       "data": [
        {
         "line": {
          "color": "purple"
         },
         "marker": {
          "color": "purple",
          "size": 6,
          "symbol": "circle"
         },
         "mode": "lines+markers",
         "name": "Inst. Financeira",
         "type": "scatter",
         "x": [
          "2025-03-14T00:00:00.000000000",
          "2025-03-13T00:00:00.000000000",
          "2025-03-12T00:00:00.000000000",
          "2025-03-11T00:00:00.000000000",
          "2025-03-10T00:00:00.000000000",
          "2025-03-07T00:00:00.000000000",
          "2025-03-06T00:00:00.000000000",
          "2025-03-05T00:00:00.000000000",
          "2025-02-28T00:00:00.000000000",
          "2025-02-27T00:00:00.000000000",
          "2025-02-26T00:00:00.000000000",
          "2025-02-25T00:00:00.000000000",
          "2025-02-24T00:00:00.000000000",
          "2025-02-21T00:00:00.000000000",
          "2025-02-20T00:00:00.000000000",
          "2025-02-19T00:00:00.000000000",
          "2025-02-18T00:00:00.000000000",
          "2025-02-17T00:00:00.000000000",
          "2025-02-14T00:00:00.000000000",
          "2025-02-13T00:00:00.000000000",
          "2025-02-12T00:00:00.000000000",
          "2025-02-11T00:00:00.000000000",
          "2025-02-10T00:00:00.000000000",
          "2025-02-07T00:00:00.000000000",
          "2025-02-06T00:00:00.000000000",
          "2025-02-05T00:00:00.000000000",
          "2025-02-04T00:00:00.000000000",
          "2025-02-03T00:00:00.000000000",
          "2025-01-31T00:00:00.000000000",
          "2025-01-30T00:00:00.000000000",
          "2025-01-29T00:00:00.000000000",
          "2025-01-28T00:00:00.000000000",
          "2025-01-27T00:00:00.000000000",
          "2025-01-24T00:00:00.000000000",
          "2025-01-23T00:00:00.000000000",
          "2025-01-22T00:00:00.000000000",
          "2025-01-21T00:00:00.000000000",
          "2025-01-20T00:00:00.000000000",
          "2025-01-17T00:00:00.000000000",
          "2025-01-16T00:00:00.000000000",
          "2025-01-15T00:00:00.000000000",
          "2025-01-14T00:00:00.000000000",
          "2025-01-13T00:00:00.000000000",
          "2025-01-10T00:00:00.000000000",
          "2025-01-09T00:00:00.000000000",
          "2025-01-08T00:00:00.000000000",
          "2025-01-07T00:00:00.000000000",
          "2025-01-06T00:00:00.000000000",
          "2025-01-03T00:00:00.000000000",
          "2025-01-02T00:00:00.000000000"
         ],
         "y": {
          "bdata": "UrgeheuRUUAzMzMzM8NbQOxRuB6F67E/H4XrUbi+aEBmZmZmZsZBwLgehetRuD5ACtejcD0KFECPwvUoXI8RQK5H4XoULjxApHA9CtdjYEBxPQrXo0R3QHsUrkfhUIFAexSuR+F6fsBcj8L1KBaGwClcj8L1sH1AMzMzMzOTckBI4XoUrk2cQM3MzMzMrF1A4XoUrkfhj0BI4XoUrudHwB+F61G4knZAAAAAAAAUeEBxPQrXo1x4QB+F61G4ni1A7FG4HoVLTUCkcD0K12NQwD0K16NwHU7AexSuR+HaScA9CtejcJ1ZQIXrUbgeBTBAXI/C9ShsXkAUrkfhelQzQFK4HoXrAVZA16NwPQr3W0DD9Shcj/JQQB+F61G4DltAKVyPwvXIX0DsUbgehctKQEjhehSux3TAMzMzMzPja0BxPQrXo4BsQFK4HoXr8UnAuB6F61F4UECamZmZmZkvQMP1KFyPUlJAMzMzMzMz9z8fhetRuB5RwOxRuB6Fi0NArkfhehSOQ0ApXI/C9eg4QA==",
          "dtype": "f8"
         }
        }
       ],
       "layout": {
        "template": {
         "data": {
          "bar": [
           {
            "error_x": {
             "color": "#2a3f5f"
            },
            "error_y": {
             "color": "#2a3f5f"
            },
            "marker": {
             "line": {
              "color": "white",
              "width": 0.5
             },
             "pattern": {
              "fillmode": "overlay",
              "size": 10,
              "solidity": 0.2
             }
            },
            "type": "bar"
           }
          ],
          "barpolar": [
           {
            "marker": {
             "line": {
              "color": "white",
              "width": 0.5
             },
             "pattern": {
              "fillmode": "overlay",
              "size": 10,
              "solidity": 0.2
             }
            },
            "type": "barpolar"
           }
          ],
          "carpet": [
           {
            "aaxis": {
             "endlinecolor": "#2a3f5f",
             "gridcolor": "#C8D4E3",
             "linecolor": "#C8D4E3",
             "minorgridcolor": "#C8D4E3",
             "startlinecolor": "#2a3f5f"
            },
            "baxis": {
             "endlinecolor": "#2a3f5f",
             "gridcolor": "#C8D4E3",
             "linecolor": "#C8D4E3",
             "minorgridcolor": "#C8D4E3",
             "startlinecolor": "#2a3f5f"
            },
            "type": "carpet"
           }
          ],
          "choropleth": [
           {
            "colorbar": {
             "outlinewidth": 0,
             "ticks": ""
            },
            "type": "choropleth"
           }
          ],
          "contour": [
           {
            "colorbar": {
             "outlinewidth": 0,
             "ticks": ""
            },
            "colorscale": [
             [
              0,
              "#0d0887"
             ],
             [
              0.1111111111111111,
              "#46039f"
             ],
             [
              0.2222222222222222,
              "#7201a8"
             ],
             [
              0.3333333333333333,
              "#9c179e"
             ],
             [
              0.4444444444444444,
              "#bd3786"
             ],
             [
              0.5555555555555556,
              "#d8576b"
             ],
             [
              0.6666666666666666,
              "#ed7953"
             ],
             [
              0.7777777777777778,
              "#fb9f3a"
             ],
             [
              0.8888888888888888,
              "#fdca26"
             ],
             [
              1,
              "#f0f921"
             ]
            ],
            "type": "contour"
           }
          ],
          "contourcarpet": [
           {
            "colorbar": {
             "outlinewidth": 0,
             "ticks": ""
            },
            "type": "contourcarpet"
           }
          ],
          "heatmap": [
           {
            "colorbar": {
             "outlinewidth": 0,
             "ticks": ""
            },
            "colorscale": [
             [
              0,
              "#0d0887"
             ],
             [
              0.1111111111111111,
              "#46039f"
             ],
             [
              0.2222222222222222,
              "#7201a8"
             ],
             [
              0.3333333333333333,
              "#9c179e"
             ],
             [
              0.4444444444444444,
              "#bd3786"
             ],
             [
              0.5555555555555556,
              "#d8576b"
             ],
             [
              0.6666666666666666,
              "#ed7953"
             ],
             [
              0.7777777777777778,
              "#fb9f3a"
             ],
             [
              0.8888888888888888,
              "#fdca26"
             ],
             [
              1,
              "#f0f921"
             ]
            ],
            "type": "heatmap"
           }
          ],
          "histogram": [
           {
            "marker": {
             "pattern": {
              "fillmode": "overlay",
              "size": 10,
              "solidity": 0.2
             }
            },
            "type": "histogram"
           }
          ],
          "histogram2d": [
           {
            "colorbar": {
             "outlinewidth": 0,
             "ticks": ""
            },
            "colorscale": [
             [
              0,
              "#0d0887"
             ],
             [
              0.1111111111111111,
              "#46039f"
             ],
             [
              0.2222222222222222,
              "#7201a8"
             ],
             [
              0.3333333333333333,
              "#9c179e"
             ],
             [
              0.4444444444444444,
              "#bd3786"
             ],
             [
              0.5555555555555556,
              "#d8576b"
             ],
             [
              0.6666666666666666,
              "#ed7953"
             ],
             [
              0.7777777777777778,
              "#fb9f3a"
             ],
             [
              0.8888888888888888,
              "#fdca26"
             ],
             [
              1,
              "#f0f921"
             ]
            ],
            "type": "histogram2d"
           }
          ],
          "histogram2dcontour": [
           {
            "colorbar": {
             "outlinewidth": 0,
             "ticks": ""
            },
            "colorscale": [
             [
              0,
              "#0d0887"
             ],
             [
              0.1111111111111111,
              "#46039f"
             ],
             [
              0.2222222222222222,
              "#7201a8"
             ],
             [
              0.3333333333333333,
              "#9c179e"
             ],
             [
              0.4444444444444444,
              "#bd3786"
             ],
             [
              0.5555555555555556,
              "#d8576b"
             ],
             [
              0.6666666666666666,
              "#ed7953"
             ],
             [
              0.7777777777777778,
              "#fb9f3a"
             ],
             [
              0.8888888888888888,
              "#fdca26"
             ],
             [
              1,
              "#f0f921"
             ]
            ],
            "type": "histogram2dcontour"
           }
          ],
          "mesh3d": [
           {
            "colorbar": {
             "outlinewidth": 0,
             "ticks": ""
            },
            "type": "mesh3d"
           }
          ],
          "parcoords": [
           {
            "line": {
             "colorbar": {
              "outlinewidth": 0,
              "ticks": ""
             }
            },
            "type": "parcoords"
           }
          ],
          "pie": [
           {
            "automargin": true,
            "type": "pie"
           }
          ],
          "scatter": [
           {
            "fillpattern": {
             "fillmode": "overlay",
             "size": 10,
             "solidity": 0.2
            },
            "type": "scatter"
           }
          ],
          "scatter3d": [
           {
            "line": {
             "colorbar": {
              "outlinewidth": 0,
              "ticks": ""
             }
            },
            "marker": {
             "colorbar": {
              "outlinewidth": 0,
              "ticks": ""
             }
            },
            "type": "scatter3d"
           }
          ],
          "scattercarpet": [
           {
            "marker": {
             "colorbar": {
              "outlinewidth": 0,
              "ticks": ""
             }
            },
            "type": "scattercarpet"
           }
          ],
          "scattergeo": [
           {
            "marker": {
             "colorbar": {
              "outlinewidth": 0,
              "ticks": ""
             }
            },
            "type": "scattergeo"
           }
          ],
          "scattergl": [
           {
            "marker": {
             "colorbar": {
              "outlinewidth": 0,
              "ticks": ""
             }
            },
            "type": "scattergl"
           }
          ],
          "scattermap": [
           {
            "marker": {
             "colorbar": {
              "outlinewidth": 0,
              "ticks": ""
             }
            },
            "type": "scattermap"
           }
          ],
          "scattermapbox": [
           {
            "marker": {
             "colorbar": {
              "outlinewidth": 0,
              "ticks": ""
             }
            },
            "type": "scattermapbox"
           }
          ],
          "scatterpolar": [
           {
            "marker": {
             "colorbar": {
              "outlinewidth": 0,
              "ticks": ""
             }
            },
            "type": "scatterpolar"
           }
          ],
          "scatterpolargl": [
           {
            "marker": {
             "colorbar": {
              "outlinewidth": 0,
              "ticks": ""
             }
            },
            "type": "scatterpolargl"
           }
          ],
          "scatterternary": [
           {
            "marker": {
             "colorbar": {
              "outlinewidth": 0,
              "ticks": ""
             }
            },
            "type": "scatterternary"
           }
          ],
          "surface": [
           {
            "colorbar": {
             "outlinewidth": 0,
             "ticks": ""
            },
            "colorscale": [
             [
              0,
              "#0d0887"
             ],
             [
              0.1111111111111111,
              "#46039f"
             ],
             [
              0.2222222222222222,
              "#7201a8"
             ],
             [
              0.3333333333333333,
              "#9c179e"
             ],
             [
              0.4444444444444444,
              "#bd3786"
             ],
             [
              0.5555555555555556,
              "#d8576b"
             ],
             [
              0.6666666666666666,
              "#ed7953"
             ],
             [
              0.7777777777777778,
              "#fb9f3a"
             ],
             [
              0.8888888888888888,
              "#fdca26"
             ],
             [
              1,
              "#f0f921"
             ]
            ],
            "type": "surface"
           }
          ],
          "table": [
           {
            "cells": {
             "fill": {
              "color": "#EBF0F8"
             },
             "line": {
              "color": "white"
             }
            },
            "header": {
             "fill": {
              "color": "#C8D4E3"
             },
             "line": {
              "color": "white"
             }
            },
            "type": "table"
           }
          ]
         },
         "layout": {
          "annotationdefaults": {
           "arrowcolor": "#2a3f5f",
           "arrowhead": 0,
           "arrowwidth": 1
          },
          "autotypenumbers": "strict",
          "coloraxis": {
           "colorbar": {
            "outlinewidth": 0,
            "ticks": ""
           }
          },
          "colorscale": {
           "diverging": [
            [
             0,
             "#8e0152"
            ],
            [
             0.1,
             "#c51b7d"
            ],
            [
             0.2,
             "#de77ae"
            ],
            [
             0.3,
             "#f1b6da"
            ],
            [
             0.4,
             "#fde0ef"
            ],
            [
             0.5,
             "#f7f7f7"
            ],
            [
             0.6,
             "#e6f5d0"
            ],
            [
             0.7,
             "#b8e186"
            ],
            [
             0.8,
             "#7fbc41"
            ],
            [
             0.9,
             "#4d9221"
            ],
            [
             1,
             "#276419"
            ]
           ],
           "sequential": [
            [
             0,
             "#0d0887"
            ],
            [
             0.1111111111111111,
             "#46039f"
            ],
            [
             0.2222222222222222,
             "#7201a8"
            ],
            [
             0.3333333333333333,
             "#9c179e"
            ],
            [
             0.4444444444444444,
             "#bd3786"
            ],
            [
             0.5555555555555556,
             "#d8576b"
            ],
            [
             0.6666666666666666,
             "#ed7953"
            ],
            [
             0.7777777777777778,
             "#fb9f3a"
            ],
            [
             0.8888888888888888,
             "#fdca26"
            ],
            [
             1,
             "#f0f921"
            ]
           ],
           "sequentialminus": [
            [
             0,
             "#0d0887"
            ],
            [
             0.1111111111111111,
             "#46039f"
            ],
            [
             0.2222222222222222,
             "#7201a8"
            ],
            [
             0.3333333333333333,
             "#9c179e"
            ],
            [
             0.4444444444444444,
             "#bd3786"
            ],
            [
             0.5555555555555556,
             "#d8576b"
            ],
            [
             0.6666666666666666,
             "#ed7953"
            ],
            [
             0.7777777777777778,
             "#fb9f3a"
            ],
            [
             0.8888888888888888,
             "#fdca26"
            ],
            [
             1,
             "#f0f921"
            ]
           ]
          },
          "colorway": [
           "#636efa",
           "#EF553B",
           "#00cc96",
           "#ab63fa",
           "#FFA15A",
           "#19d3f3",
           "#FF6692",
           "#B6E880",
           "#FF97FF",
           "#FECB52"
          ],
          "font": {
           "color": "#2a3f5f"
          },
          "geo": {
           "bgcolor": "white",
           "lakecolor": "white",
           "landcolor": "white",
           "showlakes": true,
           "showland": true,
           "subunitcolor": "#C8D4E3"
          },
          "hoverlabel": {
           "align": "left"
          },
          "hovermode": "closest",
          "mapbox": {
           "style": "light"
          },
          "paper_bgcolor": "white",
          "plot_bgcolor": "white",
          "polar": {
           "angularaxis": {
            "gridcolor": "#EBF0F8",
            "linecolor": "#EBF0F8",
            "ticks": ""
           },
           "bgcolor": "white",
           "radialaxis": {
            "gridcolor": "#EBF0F8",
            "linecolor": "#EBF0F8",
            "ticks": ""
           }
          },
          "scene": {
           "xaxis": {
            "backgroundcolor": "white",
            "gridcolor": "#DFE8F3",
            "gridwidth": 2,
            "linecolor": "#EBF0F8",
            "showbackground": true,
            "ticks": "",
            "zerolinecolor": "#EBF0F8"
           },
           "yaxis": {
            "backgroundcolor": "white",
            "gridcolor": "#DFE8F3",
            "gridwidth": 2,
            "linecolor": "#EBF0F8",
            "showbackground": true,
            "ticks": "",
            "zerolinecolor": "#EBF0F8"
           },
           "zaxis": {
            "backgroundcolor": "white",
            "gridcolor": "#DFE8F3",
            "gridwidth": 2,
            "linecolor": "#EBF0F8",
            "showbackground": true,
            "ticks": "",
            "zerolinecolor": "#EBF0F8"
           }
          },
          "shapedefaults": {
           "line": {
            "color": "#2a3f5f"
           }
          },
          "ternary": {
           "aaxis": {
            "gridcolor": "#DFE8F3",
            "linecolor": "#A2B1C6",
            "ticks": ""
           },
           "baxis": {
            "gridcolor": "#DFE8F3",
            "linecolor": "#A2B1C6",
            "ticks": ""
           },
           "bgcolor": "white",
           "caxis": {
            "gridcolor": "#DFE8F3",
            "linecolor": "#A2B1C6",
            "ticks": ""
           }
          },
          "title": {
           "x": 0.05
          },
          "xaxis": {
           "automargin": true,
           "gridcolor": "#EBF0F8",
           "linecolor": "#EBF0F8",
           "ticks": "",
           "title": {
            "standoff": 15
           },
           "zerolinecolor": "#EBF0F8",
           "zerolinewidth": 2
          },
          "yaxis": {
           "automargin": true,
           "gridcolor": "#EBF0F8",
           "linecolor": "#EBF0F8",
           "ticks": "",
           "title": {
            "standoff": 15
           },
           "zerolinecolor": "#EBF0F8",
           "zerolinewidth": 2
          }
         }
        },
        "title": {
         "font": {
          "size": 18
         },
         "text": "Fluxo de Investidores Instituições Financeiras (Em Milhões)"
        },
        "xaxis": {
         "nticks": 10,
         "showgrid": true,
         "tickangle": 45,
         "tickformat": "%d/%m/%Y",
         "tickmode": "auto",
         "title": {
          "font": {
           "size": 14
          },
          "text": "Data"
         }
        },
        "yaxis": {
         "rangemode": "tozero",
         "showgrid": true,
         "title": {
          "font": {
           "size": 14
          },
          "text": "Fluxo Inst. Financeira (mi)"
         }
        }
       }
      }
     },
     "metadata": {},
     "output_type": "display_data"
    }
   ],
   "source": [
    "import pandas as pd\n",
    "import requests\n",
    "from bs4 import BeautifulSoup\n",
    "import plotly.graph_objects as go\n",
    "from datetime import datetime\n",
    "\n",
    "# URL do site\n",
    "url = \"https://www.dadosdemercado.com.br/fluxo\"\n",
    "\n",
    "# Fazer a requisição HTTP para obter o conteúdo da página\n",
    "response = requests.get(url)\n",
    "if response.status_code == 200:\n",
    "    soup = BeautifulSoup(response.content, 'html.parser')\n",
    "\n",
    "    # Encontrar a tabela na página\n",
    "    tabela_html = soup.find('table')  # Localiza a primeira tabela na página\n",
    "    if tabela_html:\n",
    "        # Ler a tabela HTML com pandas\n",
    "        tabela = pd.read_html(str(tabela_html))[0]\n",
    "\n",
    "        # Verificar os nomes das colunas\n",
    "        print(\"Colunas disponíveis na tabela:\", tabela.columns)\n",
    "\n",
    "        # Garantir que a coluna 'Data' esteja no formato datetime\n",
    "        tabela['Data'] = pd.to_datetime(tabela['Data'], format='%d/%m/%Y', errors='coerce')\n",
    "\n",
    "        # Verificar se a coluna 'Inst. Financeira' existe\n",
    "        if 'Inst. Financeira' in tabela.columns:\n",
    "            # Converter os valores da coluna 'Inst. Financeira' para numérico\n",
    "            tabela['Inst. Financeira'] = tabela['Inst. Financeira'].str.replace(' mi', '')  # Remover 'mi'\n",
    "            tabela['Inst. Financeira'] = tabela['Inst. Financeira'].str.replace('.', '', regex=False)  # Remover separadores de milhares\n",
    "            tabela['Inst. Financeira'] = tabela['Inst. Financeira'].str.replace(',', '.', regex=False).astype(float)\n",
    "\n",
    "            # Filtrar os dados a partir do início do ano atual\n",
    "            inicio_ano = datetime(datetime.now().year, 1, 1)  # Primeiro dia do ano atual\n",
    "            tabela_filtrada = tabela[tabela['Data'] >= inicio_ano]\n",
    "\n",
    "            # Criar o gráfico de linha com a coluna 'Inst. Financeira'\n",
    "            fig = go.Figure()\n",
    "\n",
    "            # Adicionar a linha conectando os valores de 'Inst. Financeira'\n",
    "            fig.add_trace(go.Scatter(\n",
    "                x=tabela_filtrada['Data'],  # Eixo X: coluna Data\n",
    "                y=tabela_filtrada['Inst. Financeira'],  # Eixo Y: fluxo inst. financeira\n",
    "                mode='lines+markers',\n",
    "                name='Inst. Financeira',\n",
    "                line=dict(color='purple'),\n",
    "                marker=dict(size=6, color='purple', symbol='circle')\n",
    "            ))\n",
    "\n",
    "            # Personalizar o layout\n",
    "            fig.update_layout(\n",
    "                title='Fluxo de Investidores Instituições Financeiras (Em Milhões)',\n",
    "                xaxis_title='Data',\n",
    "                yaxis_title='Fluxo Inst. Financeira (mi)',\n",
    "                template='plotly_white',\n",
    "                xaxis=dict(\n",
    "                    tickformat='%d/%m/%Y',  # Formatar as datas no eixo X\n",
    "                    tickangle=45,           # Rotacionar os rótulos do eixo X\n",
    "                    showgrid=True,          # Mostrar linhas de grade no eixo X\n",
    "                    tickmode='auto',        # Ajustar automaticamente os rótulos\n",
    "                    nticks=10               # Limitar o número de rótulos no eixo X\n",
    "                ),\n",
    "                yaxis=dict(\n",
    "                    showgrid=True,          # Mostrar linhas de grade no eixo Y\n",
    "                    rangemode='tozero'      # Garantir que o eixo Y comece no zero\n",
    "                ),\n",
    "                title_font_size=18,\n",
    "                xaxis_title_font_size=14,\n",
    "                yaxis_title_font_size=14\n",
    "            )\n",
    "\n",
    "            # Exibir o gráfico\n",
    "            fig.show()\n",
    "        else:\n",
    "            print(\"A coluna 'Inst. Financeira' não foi encontrada na tabela. Verifique os nomes das colunas.\")\n",
    "    else:\n",
    "        print(\"Tabela não encontrada na página.\")\n",
    "else:\n",
    "    print(f\"Erro ao acessar o site: {response.status_code}\")"
   ]
  },
  {
   "cell_type": "markdown",
   "metadata": {},
   "source": [
    "# Outros"
   ]
  },
  {
   "cell_type": "code",
   "execution_count": 33,
   "metadata": {},
   "outputs": [
    {
     "name": "stdout",
     "output_type": "stream",
     "text": [
      "Colunas disponíveis na tabela: Index(['Data', 'Estrangeiro', 'Institucional', 'Pessoa física',\n",
      "       'Inst. Financeira', 'Outros'],\n",
      "      dtype='object')\n"
     ]
    },
    {
     "name": "stderr",
     "output_type": "stream",
     "text": [
      "/var/folders/pw/n8qw3q6n66v1gg613kl1wt8w0000gn/T/ipykernel_2476/2851025122.py:19: FutureWarning:\n",
      "\n",
      "Passing literal html to 'read_html' is deprecated and will be removed in a future version. To read from a literal string, wrap it in a 'StringIO' object.\n",
      "\n"
     ]
    },
    {
     "data": {
      "application/vnd.plotly.v1+json": {
       "config": {
        "plotlyServerURL": "https://plot.ly"
       },
       "data": [
        {
         "line": {
          "color": "red"
         },
         "marker": {
          "color": "red",
          "size": 6,
          "symbol": "circle"
         },
         "mode": "lines+markers",
         "name": "Outros",
         "type": "scatter",
         "x": [
          "2025-03-14T00:00:00.000000000",
          "2025-03-13T00:00:00.000000000",
          "2025-03-12T00:00:00.000000000",
          "2025-03-11T00:00:00.000000000",
          "2025-03-10T00:00:00.000000000",
          "2025-03-07T00:00:00.000000000",
          "2025-03-06T00:00:00.000000000",
          "2025-03-05T00:00:00.000000000",
          "2025-02-28T00:00:00.000000000",
          "2025-02-27T00:00:00.000000000",
          "2025-02-26T00:00:00.000000000",
          "2025-02-25T00:00:00.000000000",
          "2025-02-24T00:00:00.000000000",
          "2025-02-21T00:00:00.000000000",
          "2025-02-20T00:00:00.000000000",
          "2025-02-19T00:00:00.000000000",
          "2025-02-18T00:00:00.000000000",
          "2025-02-17T00:00:00.000000000",
          "2025-02-14T00:00:00.000000000",
          "2025-02-13T00:00:00.000000000",
          "2025-02-12T00:00:00.000000000",
          "2025-02-11T00:00:00.000000000",
          "2025-02-10T00:00:00.000000000",
          "2025-02-07T00:00:00.000000000",
          "2025-02-06T00:00:00.000000000",
          "2025-02-05T00:00:00.000000000",
          "2025-02-04T00:00:00.000000000",
          "2025-02-03T00:00:00.000000000",
          "2025-01-31T00:00:00.000000000",
          "2025-01-30T00:00:00.000000000",
          "2025-01-29T00:00:00.000000000",
          "2025-01-28T00:00:00.000000000",
          "2025-01-27T00:00:00.000000000",
          "2025-01-24T00:00:00.000000000",
          "2025-01-23T00:00:00.000000000",
          "2025-01-22T00:00:00.000000000",
          "2025-01-21T00:00:00.000000000",
          "2025-01-20T00:00:00.000000000",
          "2025-01-17T00:00:00.000000000",
          "2025-01-16T00:00:00.000000000",
          "2025-01-15T00:00:00.000000000",
          "2025-01-14T00:00:00.000000000",
          "2025-01-13T00:00:00.000000000",
          "2025-01-10T00:00:00.000000000",
          "2025-01-09T00:00:00.000000000",
          "2025-01-08T00:00:00.000000000",
          "2025-01-07T00:00:00.000000000",
          "2025-01-06T00:00:00.000000000",
          "2025-01-03T00:00:00.000000000",
          "2025-01-02T00:00:00.000000000"
         ],
         "y": {
          "bdata": "pHA9CtezUkBcj8L1KFwFwM3MzMzMzEtAUrgehesRQUAzMzMzMwtjQD0K16NwFWJAw/UoXI+CTkDhehSuR0FOQHE9CtejkGZAj8L1KFyTdEAK16NwPepjQFyPwvUo3DBAcT0K16PAUUAAAAAAAHBXQI/C9Shc70BAexSuR+FaRUBI4XoUrgc3wJqZmZmZmUVAFK5H4XoUSUBI4XoUrkcbQB+F61G4nk9AMzMzMzPzSEBI4XoUrk9gQOxRuB6Fy2FA4XoUrkfBU0C4HoXrUVhUQArXo3A9OlxAKVyPwvUwYEAAAAAAAOBQQIXrUbgexTDArkfhehROWECamZmZmYlRQDMzMzMzc0FA4XoUrkfxXEC4HoXrUThLQLgehetRmF5A7FG4HoX7VEDNzMzMzIxKQGZmZmZmtlhAexSuR4GewcC4HoXrUbgYQHE9CtejUE9AmpmZmZlJYkBSuB6F69FqQFyPwvUoPE5AKVyPwvVAa0CkcD0K13NcQMP1KFyPkl5AhetRuB4VXkDXo3A9CpdYQA==",
          "dtype": "f8"
         }
        }
       ],
       "layout": {
        "template": {
         "data": {
          "bar": [
           {
            "error_x": {
             "color": "#2a3f5f"
            },
            "error_y": {
             "color": "#2a3f5f"
            },
            "marker": {
             "line": {
              "color": "white",
              "width": 0.5
             },
             "pattern": {
              "fillmode": "overlay",
              "size": 10,
              "solidity": 0.2
             }
            },
            "type": "bar"
           }
          ],
          "barpolar": [
           {
            "marker": {
             "line": {
              "color": "white",
              "width": 0.5
             },
             "pattern": {
              "fillmode": "overlay",
              "size": 10,
              "solidity": 0.2
             }
            },
            "type": "barpolar"
           }
          ],
          "carpet": [
           {
            "aaxis": {
             "endlinecolor": "#2a3f5f",
             "gridcolor": "#C8D4E3",
             "linecolor": "#C8D4E3",
             "minorgridcolor": "#C8D4E3",
             "startlinecolor": "#2a3f5f"
            },
            "baxis": {
             "endlinecolor": "#2a3f5f",
             "gridcolor": "#C8D4E3",
             "linecolor": "#C8D4E3",
             "minorgridcolor": "#C8D4E3",
             "startlinecolor": "#2a3f5f"
            },
            "type": "carpet"
           }
          ],
          "choropleth": [
           {
            "colorbar": {
             "outlinewidth": 0,
             "ticks": ""
            },
            "type": "choropleth"
           }
          ],
          "contour": [
           {
            "colorbar": {
             "outlinewidth": 0,
             "ticks": ""
            },
            "colorscale": [
             [
              0,
              "#0d0887"
             ],
             [
              0.1111111111111111,
              "#46039f"
             ],
             [
              0.2222222222222222,
              "#7201a8"
             ],
             [
              0.3333333333333333,
              "#9c179e"
             ],
             [
              0.4444444444444444,
              "#bd3786"
             ],
             [
              0.5555555555555556,
              "#d8576b"
             ],
             [
              0.6666666666666666,
              "#ed7953"
             ],
             [
              0.7777777777777778,
              "#fb9f3a"
             ],
             [
              0.8888888888888888,
              "#fdca26"
             ],
             [
              1,
              "#f0f921"
             ]
            ],
            "type": "contour"
           }
          ],
          "contourcarpet": [
           {
            "colorbar": {
             "outlinewidth": 0,
             "ticks": ""
            },
            "type": "contourcarpet"
           }
          ],
          "heatmap": [
           {
            "colorbar": {
             "outlinewidth": 0,
             "ticks": ""
            },
            "colorscale": [
             [
              0,
              "#0d0887"
             ],
             [
              0.1111111111111111,
              "#46039f"
             ],
             [
              0.2222222222222222,
              "#7201a8"
             ],
             [
              0.3333333333333333,
              "#9c179e"
             ],
             [
              0.4444444444444444,
              "#bd3786"
             ],
             [
              0.5555555555555556,
              "#d8576b"
             ],
             [
              0.6666666666666666,
              "#ed7953"
             ],
             [
              0.7777777777777778,
              "#fb9f3a"
             ],
             [
              0.8888888888888888,
              "#fdca26"
             ],
             [
              1,
              "#f0f921"
             ]
            ],
            "type": "heatmap"
           }
          ],
          "histogram": [
           {
            "marker": {
             "pattern": {
              "fillmode": "overlay",
              "size": 10,
              "solidity": 0.2
             }
            },
            "type": "histogram"
           }
          ],
          "histogram2d": [
           {
            "colorbar": {
             "outlinewidth": 0,
             "ticks": ""
            },
            "colorscale": [
             [
              0,
              "#0d0887"
             ],
             [
              0.1111111111111111,
              "#46039f"
             ],
             [
              0.2222222222222222,
              "#7201a8"
             ],
             [
              0.3333333333333333,
              "#9c179e"
             ],
             [
              0.4444444444444444,
              "#bd3786"
             ],
             [
              0.5555555555555556,
              "#d8576b"
             ],
             [
              0.6666666666666666,
              "#ed7953"
             ],
             [
              0.7777777777777778,
              "#fb9f3a"
             ],
             [
              0.8888888888888888,
              "#fdca26"
             ],
             [
              1,
              "#f0f921"
             ]
            ],
            "type": "histogram2d"
           }
          ],
          "histogram2dcontour": [
           {
            "colorbar": {
             "outlinewidth": 0,
             "ticks": ""
            },
            "colorscale": [
             [
              0,
              "#0d0887"
             ],
             [
              0.1111111111111111,
              "#46039f"
             ],
             [
              0.2222222222222222,
              "#7201a8"
             ],
             [
              0.3333333333333333,
              "#9c179e"
             ],
             [
              0.4444444444444444,
              "#bd3786"
             ],
             [
              0.5555555555555556,
              "#d8576b"
             ],
             [
              0.6666666666666666,
              "#ed7953"
             ],
             [
              0.7777777777777778,
              "#fb9f3a"
             ],
             [
              0.8888888888888888,
              "#fdca26"
             ],
             [
              1,
              "#f0f921"
             ]
            ],
            "type": "histogram2dcontour"
           }
          ],
          "mesh3d": [
           {
            "colorbar": {
             "outlinewidth": 0,
             "ticks": ""
            },
            "type": "mesh3d"
           }
          ],
          "parcoords": [
           {
            "line": {
             "colorbar": {
              "outlinewidth": 0,
              "ticks": ""
             }
            },
            "type": "parcoords"
           }
          ],
          "pie": [
           {
            "automargin": true,
            "type": "pie"
           }
          ],
          "scatter": [
           {
            "fillpattern": {
             "fillmode": "overlay",
             "size": 10,
             "solidity": 0.2
            },
            "type": "scatter"
           }
          ],
          "scatter3d": [
           {
            "line": {
             "colorbar": {
              "outlinewidth": 0,
              "ticks": ""
             }
            },
            "marker": {
             "colorbar": {
              "outlinewidth": 0,
              "ticks": ""
             }
            },
            "type": "scatter3d"
           }
          ],
          "scattercarpet": [
           {
            "marker": {
             "colorbar": {
              "outlinewidth": 0,
              "ticks": ""
             }
            },
            "type": "scattercarpet"
           }
          ],
          "scattergeo": [
           {
            "marker": {
             "colorbar": {
              "outlinewidth": 0,
              "ticks": ""
             }
            },
            "type": "scattergeo"
           }
          ],
          "scattergl": [
           {
            "marker": {
             "colorbar": {
              "outlinewidth": 0,
              "ticks": ""
             }
            },
            "type": "scattergl"
           }
          ],
          "scattermap": [
           {
            "marker": {
             "colorbar": {
              "outlinewidth": 0,
              "ticks": ""
             }
            },
            "type": "scattermap"
           }
          ],
          "scattermapbox": [
           {
            "marker": {
             "colorbar": {
              "outlinewidth": 0,
              "ticks": ""
             }
            },
            "type": "scattermapbox"
           }
          ],
          "scatterpolar": [
           {
            "marker": {
             "colorbar": {
              "outlinewidth": 0,
              "ticks": ""
             }
            },
            "type": "scatterpolar"
           }
          ],
          "scatterpolargl": [
           {
            "marker": {
             "colorbar": {
              "outlinewidth": 0,
              "ticks": ""
             }
            },
            "type": "scatterpolargl"
           }
          ],
          "scatterternary": [
           {
            "marker": {
             "colorbar": {
              "outlinewidth": 0,
              "ticks": ""
             }
            },
            "type": "scatterternary"
           }
          ],
          "surface": [
           {
            "colorbar": {
             "outlinewidth": 0,
             "ticks": ""
            },
            "colorscale": [
             [
              0,
              "#0d0887"
             ],
             [
              0.1111111111111111,
              "#46039f"
             ],
             [
              0.2222222222222222,
              "#7201a8"
             ],
             [
              0.3333333333333333,
              "#9c179e"
             ],
             [
              0.4444444444444444,
              "#bd3786"
             ],
             [
              0.5555555555555556,
              "#d8576b"
             ],
             [
              0.6666666666666666,
              "#ed7953"
             ],
             [
              0.7777777777777778,
              "#fb9f3a"
             ],
             [
              0.8888888888888888,
              "#fdca26"
             ],
             [
              1,
              "#f0f921"
             ]
            ],
            "type": "surface"
           }
          ],
          "table": [
           {
            "cells": {
             "fill": {
              "color": "#EBF0F8"
             },
             "line": {
              "color": "white"
             }
            },
            "header": {
             "fill": {
              "color": "#C8D4E3"
             },
             "line": {
              "color": "white"
             }
            },
            "type": "table"
           }
          ]
         },
         "layout": {
          "annotationdefaults": {
           "arrowcolor": "#2a3f5f",
           "arrowhead": 0,
           "arrowwidth": 1
          },
          "autotypenumbers": "strict",
          "coloraxis": {
           "colorbar": {
            "outlinewidth": 0,
            "ticks": ""
           }
          },
          "colorscale": {
           "diverging": [
            [
             0,
             "#8e0152"
            ],
            [
             0.1,
             "#c51b7d"
            ],
            [
             0.2,
             "#de77ae"
            ],
            [
             0.3,
             "#f1b6da"
            ],
            [
             0.4,
             "#fde0ef"
            ],
            [
             0.5,
             "#f7f7f7"
            ],
            [
             0.6,
             "#e6f5d0"
            ],
            [
             0.7,
             "#b8e186"
            ],
            [
             0.8,
             "#7fbc41"
            ],
            [
             0.9,
             "#4d9221"
            ],
            [
             1,
             "#276419"
            ]
           ],
           "sequential": [
            [
             0,
             "#0d0887"
            ],
            [
             0.1111111111111111,
             "#46039f"
            ],
            [
             0.2222222222222222,
             "#7201a8"
            ],
            [
             0.3333333333333333,
             "#9c179e"
            ],
            [
             0.4444444444444444,
             "#bd3786"
            ],
            [
             0.5555555555555556,
             "#d8576b"
            ],
            [
             0.6666666666666666,
             "#ed7953"
            ],
            [
             0.7777777777777778,
             "#fb9f3a"
            ],
            [
             0.8888888888888888,
             "#fdca26"
            ],
            [
             1,
             "#f0f921"
            ]
           ],
           "sequentialminus": [
            [
             0,
             "#0d0887"
            ],
            [
             0.1111111111111111,
             "#46039f"
            ],
            [
             0.2222222222222222,
             "#7201a8"
            ],
            [
             0.3333333333333333,
             "#9c179e"
            ],
            [
             0.4444444444444444,
             "#bd3786"
            ],
            [
             0.5555555555555556,
             "#d8576b"
            ],
            [
             0.6666666666666666,
             "#ed7953"
            ],
            [
             0.7777777777777778,
             "#fb9f3a"
            ],
            [
             0.8888888888888888,
             "#fdca26"
            ],
            [
             1,
             "#f0f921"
            ]
           ]
          },
          "colorway": [
           "#636efa",
           "#EF553B",
           "#00cc96",
           "#ab63fa",
           "#FFA15A",
           "#19d3f3",
           "#FF6692",
           "#B6E880",
           "#FF97FF",
           "#FECB52"
          ],
          "font": {
           "color": "#2a3f5f"
          },
          "geo": {
           "bgcolor": "white",
           "lakecolor": "white",
           "landcolor": "white",
           "showlakes": true,
           "showland": true,
           "subunitcolor": "#C8D4E3"
          },
          "hoverlabel": {
           "align": "left"
          },
          "hovermode": "closest",
          "mapbox": {
           "style": "light"
          },
          "paper_bgcolor": "white",
          "plot_bgcolor": "white",
          "polar": {
           "angularaxis": {
            "gridcolor": "#EBF0F8",
            "linecolor": "#EBF0F8",
            "ticks": ""
           },
           "bgcolor": "white",
           "radialaxis": {
            "gridcolor": "#EBF0F8",
            "linecolor": "#EBF0F8",
            "ticks": ""
           }
          },
          "scene": {
           "xaxis": {
            "backgroundcolor": "white",
            "gridcolor": "#DFE8F3",
            "gridwidth": 2,
            "linecolor": "#EBF0F8",
            "showbackground": true,
            "ticks": "",
            "zerolinecolor": "#EBF0F8"
           },
           "yaxis": {
            "backgroundcolor": "white",
            "gridcolor": "#DFE8F3",
            "gridwidth": 2,
            "linecolor": "#EBF0F8",
            "showbackground": true,
            "ticks": "",
            "zerolinecolor": "#EBF0F8"
           },
           "zaxis": {
            "backgroundcolor": "white",
            "gridcolor": "#DFE8F3",
            "gridwidth": 2,
            "linecolor": "#EBF0F8",
            "showbackground": true,
            "ticks": "",
            "zerolinecolor": "#EBF0F8"
           }
          },
          "shapedefaults": {
           "line": {
            "color": "#2a3f5f"
           }
          },
          "ternary": {
           "aaxis": {
            "gridcolor": "#DFE8F3",
            "linecolor": "#A2B1C6",
            "ticks": ""
           },
           "baxis": {
            "gridcolor": "#DFE8F3",
            "linecolor": "#A2B1C6",
            "ticks": ""
           },
           "bgcolor": "white",
           "caxis": {
            "gridcolor": "#DFE8F3",
            "linecolor": "#A2B1C6",
            "ticks": ""
           }
          },
          "title": {
           "x": 0.05
          },
          "xaxis": {
           "automargin": true,
           "gridcolor": "#EBF0F8",
           "linecolor": "#EBF0F8",
           "ticks": "",
           "title": {
            "standoff": 15
           },
           "zerolinecolor": "#EBF0F8",
           "zerolinewidth": 2
          },
          "yaxis": {
           "automargin": true,
           "gridcolor": "#EBF0F8",
           "linecolor": "#EBF0F8",
           "ticks": "",
           "title": {
            "standoff": 15
           },
           "zerolinecolor": "#EBF0F8",
           "zerolinewidth": 2
          }
         }
        },
        "title": {
         "font": {
          "size": 18
         },
         "text": "Fluxo de Investidores - Outros (Em Milhões)"
        },
        "xaxis": {
         "nticks": 10,
         "showgrid": true,
         "tickangle": 45,
         "tickformat": "%d/%m/%Y",
         "tickmode": "auto",
         "title": {
          "font": {
           "size": 14
          },
          "text": "Data"
         }
        },
        "yaxis": {
         "rangemode": "tozero",
         "showgrid": true,
         "title": {
          "font": {
           "size": 14
          },
          "text": "Fluxo Outros (mi)"
         }
        }
       }
      }
     },
     "metadata": {},
     "output_type": "display_data"
    }
   ],
   "source": [
    "import pandas as pd\n",
    "import requests\n",
    "from bs4 import BeautifulSoup\n",
    "import plotly.graph_objects as go\n",
    "from datetime import datetime\n",
    "\n",
    "# URL do site\n",
    "url = \"https://www.dadosdemercado.com.br/fluxo\"\n",
    "\n",
    "# Fazer a requisição HTTP para obter o conteúdo da página\n",
    "response = requests.get(url)\n",
    "if response.status_code == 200:\n",
    "    soup = BeautifulSoup(response.content, 'html.parser')\n",
    "\n",
    "    # Encontrar a tabela na página\n",
    "    tabela_html = soup.find('table')  # Localiza a primeira tabela na página\n",
    "    if tabela_html:\n",
    "        # Ler a tabela HTML com pandas\n",
    "        tabela = pd.read_html(str(tabela_html))[0]\n",
    "\n",
    "        # Verificar os nomes das colunas\n",
    "        print(\"Colunas disponíveis na tabela:\", tabela.columns)\n",
    "\n",
    "        # Garantir que a coluna 'Data' esteja no formato datetime\n",
    "        tabela['Data'] = pd.to_datetime(tabela['Data'], format='%d/%m/%Y', errors='coerce')\n",
    "\n",
    "        # Verificar se a coluna 'Outros' existe\n",
    "        if 'Outros' in tabela.columns:\n",
    "            # Converter os valores da coluna 'Outros' para numérico\n",
    "            tabela['Outros'] = tabela['Outros'].str.replace(' mi', '')  # Remover 'mi'\n",
    "            tabela['Outros'] = tabela['Outros'].str.replace('.', '', regex=False)  # Remover separadores de milhares\n",
    "            tabela['Outros'] = tabela['Outros'].str.replace(',', '.', regex=False).astype(float)\n",
    "\n",
    "            # Filtrar os dados a partir do início do ano atual\n",
    "            inicio_ano = datetime(datetime.now().year, 1, 1)  # Primeiro dia do ano atual\n",
    "            tabela_filtrada = tabela[tabela['Data'] >= inicio_ano]\n",
    "\n",
    "            # Criar o gráfico de linha com a coluna 'Outros'\n",
    "            fig = go.Figure()\n",
    "\n",
    "            # Adicionar a linha conectando os valores de 'Outros'\n",
    "            fig.add_trace(go.Scatter(\n",
    "                x=tabela_filtrada['Data'],  # Eixo X: coluna Data\n",
    "                y=tabela_filtrada['Outros'],  # Eixo Y: fluxo outros\n",
    "                mode='lines+markers',\n",
    "                name='Outros',\n",
    "                line=dict(color='red'),\n",
    "                marker=dict(size=6, color='red', symbol='circle')\n",
    "            ))\n",
    "\n",
    "            # Personalizar o layout\n",
    "            fig.update_layout(\n",
    "                title='Fluxo de Investidores - Outros (Em Milhões)',\n",
    "                xaxis_title='Data',\n",
    "                yaxis_title='Fluxo Outros (mi)',\n",
    "                template='plotly_white',\n",
    "                xaxis=dict(\n",
    "                    tickformat='%d/%m/%Y',  # Formatar as datas no eixo X\n",
    "                    tickangle=45,           # Rotacionar os rótulos do eixo X\n",
    "                    showgrid=True,          # Mostrar linhas de grade no eixo X\n",
    "                    tickmode='auto',        # Ajustar automaticamente os rótulos\n",
    "                    nticks=10               # Limitar o número de rótulos no eixo X\n",
    "                ),\n",
    "                yaxis=dict(\n",
    "                    showgrid=True,          # Mostrar linhas de grade no eixo Y\n",
    "                    rangemode='tozero'      # Garantir que o eixo Y comece no zero\n",
    "                ),\n",
    "                title_font_size=18,\n",
    "                xaxis_title_font_size=14,\n",
    "                yaxis_title_font_size=14\n",
    "            )\n",
    "\n",
    "            # Exibir o gráfico\n",
    "            fig.show()\n",
    "        else:\n",
    "            print(\"A coluna 'Outros' não foi encontrada na tabela. Verifique os nomes das colunas.\")\n",
    "    else:\n",
    "        print(\"Tabela não encontrada na página.\")\n",
    "else:\n",
    "    print(f\"Erro ao acessar o site: {response.status_code}\")"
   ]
  },
  {
   "cell_type": "markdown",
   "metadata": {},
   "source": [
    "# Visao Geral"
   ]
  },
  {
   "cell_type": "code",
   "execution_count": 34,
   "metadata": {},
   "outputs": [
    {
     "name": "stdout",
     "output_type": "stream",
     "text": [
      "Colunas disponíveis na tabela: Index(['Data', 'Estrangeiro', 'Institucional', 'Pessoa física',\n",
      "       'Inst. Financeira', 'Outros'],\n",
      "      dtype='object')\n"
     ]
    },
    {
     "name": "stderr",
     "output_type": "stream",
     "text": [
      "/var/folders/pw/n8qw3q6n66v1gg613kl1wt8w0000gn/T/ipykernel_2476/1061244384.py:19: FutureWarning:\n",
      "\n",
      "Passing literal html to 'read_html' is deprecated and will be removed in a future version. To read from a literal string, wrap it in a 'StringIO' object.\n",
      "\n"
     ]
    },
    {
     "data": {
      "application/vnd.plotly.v1+json": {
       "config": {
        "plotlyServerURL": "https://plot.ly"
       },
       "data": [
        {
         "line": {
          "color": "green"
         },
         "marker": {
          "color": "green",
          "size": 6,
          "symbol": "circle"
         },
         "mode": "lines+markers",
         "name": "Estrangeiro",
         "type": "scatter",
         "x": [
          "2025-03-14T00:00:00.000000000",
          "2025-03-13T00:00:00.000000000",
          "2025-03-12T00:00:00.000000000",
          "2025-03-11T00:00:00.000000000",
          "2025-03-10T00:00:00.000000000",
          "2025-03-07T00:00:00.000000000",
          "2025-03-06T00:00:00.000000000",
          "2025-03-05T00:00:00.000000000",
          "2025-02-28T00:00:00.000000000",
          "2025-02-27T00:00:00.000000000",
          "2025-02-26T00:00:00.000000000",
          "2025-02-25T00:00:00.000000000",
          "2025-02-24T00:00:00.000000000",
          "2025-02-21T00:00:00.000000000",
          "2025-02-20T00:00:00.000000000",
          "2025-02-19T00:00:00.000000000",
          "2025-02-18T00:00:00.000000000",
          "2025-02-17T00:00:00.000000000",
          "2025-02-14T00:00:00.000000000",
          "2025-02-13T00:00:00.000000000",
          "2025-02-12T00:00:00.000000000",
          "2025-02-11T00:00:00.000000000",
          "2025-02-10T00:00:00.000000000",
          "2025-02-07T00:00:00.000000000",
          "2025-02-06T00:00:00.000000000",
          "2025-02-05T00:00:00.000000000",
          "2025-02-04T00:00:00.000000000",
          "2025-02-03T00:00:00.000000000",
          "2025-01-31T00:00:00.000000000",
          "2025-01-30T00:00:00.000000000",
          "2025-01-29T00:00:00.000000000",
          "2025-01-28T00:00:00.000000000",
          "2025-01-27T00:00:00.000000000",
          "2025-01-24T00:00:00.000000000",
          "2025-01-23T00:00:00.000000000",
          "2025-01-22T00:00:00.000000000",
          "2025-01-21T00:00:00.000000000",
          "2025-01-20T00:00:00.000000000",
          "2025-01-17T00:00:00.000000000",
          "2025-01-16T00:00:00.000000000",
          "2025-01-15T00:00:00.000000000",
          "2025-01-14T00:00:00.000000000",
          "2025-01-13T00:00:00.000000000",
          "2025-01-10T00:00:00.000000000",
          "2025-01-09T00:00:00.000000000",
          "2025-01-08T00:00:00.000000000",
          "2025-01-07T00:00:00.000000000",
          "2025-01-06T00:00:00.000000000",
          "2025-01-03T00:00:00.000000000",
          "2025-01-02T00:00:00.000000000"
         ],
         "y": {
          "bdata": "16NwPQp7i0AK16NwPU6VQD0K16Nw9YdAAAAAAABHl8ApXI/C9SqFwK5H4XqUpqJAzczMzMwcbED2KFyPwolzwI/C9ShcFJDAZmZmZmZqicA9CtejcA13wMP1KFyPCmLAzczMzMx6ikAK16NwPaqeQPYoXI/CyXjA7FG4HoUjZMDsUbgehes7QB+F61G4AnZAUrgeheuilkAUrkfhehQZQClcj8L1aDVA4XoUrkdBbkAK16NwPQoWQHsUrkfh0mJApHA9CteTW0DsUbgehetrQEjhehSudYPApHA9CtcjK0BI4XoUrq9hQNejcD2KDqRAj8L1KFyfWcC4HoXrUVhawHE9CtejgJJASOF6FK63UEDNzMzMzCx8QK5H4XoUenrAexSuR+E8hcCuR+F6FA5aQNejcD2K0KZA9ihcj8JwuUBxPQrXoxx9QHsUrkfhdJTACtejcD2ic8CF61G4Ht+OwDMzMzMzw3PAj8L1KFxxhsD2KFyPwp15QFK4HoXrD4HAcT0K16OMnsBcj8L1KOqAwA==",
          "dtype": "f8"
         }
        },
        {
         "line": {
          "color": "blue"
         },
         "marker": {
          "color": "blue",
          "size": 6,
          "symbol": "circle"
         },
         "mode": "lines+markers",
         "name": "Institucional",
         "type": "scatter",
         "x": [
          "2025-03-14T00:00:00.000000000",
          "2025-03-13T00:00:00.000000000",
          "2025-03-12T00:00:00.000000000",
          "2025-03-11T00:00:00.000000000",
          "2025-03-10T00:00:00.000000000",
          "2025-03-07T00:00:00.000000000",
          "2025-03-06T00:00:00.000000000",
          "2025-03-05T00:00:00.000000000",
          "2025-02-28T00:00:00.000000000",
          "2025-02-27T00:00:00.000000000",
          "2025-02-26T00:00:00.000000000",
          "2025-02-25T00:00:00.000000000",
          "2025-02-24T00:00:00.000000000",
          "2025-02-21T00:00:00.000000000",
          "2025-02-20T00:00:00.000000000",
          "2025-02-19T00:00:00.000000000",
          "2025-02-18T00:00:00.000000000",
          "2025-02-17T00:00:00.000000000",
          "2025-02-14T00:00:00.000000000",
          "2025-02-13T00:00:00.000000000",
          "2025-02-12T00:00:00.000000000",
          "2025-02-11T00:00:00.000000000",
          "2025-02-10T00:00:00.000000000",
          "2025-02-07T00:00:00.000000000",
          "2025-02-06T00:00:00.000000000",
          "2025-02-05T00:00:00.000000000",
          "2025-02-04T00:00:00.000000000",
          "2025-02-03T00:00:00.000000000",
          "2025-01-31T00:00:00.000000000",
          "2025-01-30T00:00:00.000000000",
          "2025-01-29T00:00:00.000000000",
          "2025-01-28T00:00:00.000000000",
          "2025-01-27T00:00:00.000000000",
          "2025-01-24T00:00:00.000000000",
          "2025-01-23T00:00:00.000000000",
          "2025-01-22T00:00:00.000000000",
          "2025-01-21T00:00:00.000000000",
          "2025-01-20T00:00:00.000000000",
          "2025-01-17T00:00:00.000000000",
          "2025-01-16T00:00:00.000000000",
          "2025-01-15T00:00:00.000000000",
          "2025-01-14T00:00:00.000000000",
          "2025-01-13T00:00:00.000000000",
          "2025-01-10T00:00:00.000000000",
          "2025-01-09T00:00:00.000000000",
          "2025-01-08T00:00:00.000000000",
          "2025-01-07T00:00:00.000000000",
          "2025-01-06T00:00:00.000000000",
          "2025-01-03T00:00:00.000000000",
          "2025-01-02T00:00:00.000000000"
         ],
         "y": {
          "bdata": "AAAAAABATEDXo3A9Ct2DwKRwPQrXoY7AAAAAAAB1kUD2KFyPwi1gQLgehevR4aPAH4XrUbiGesBmZmZmZrZWQLgehetRWGZAMzMzMzPzY0DNzMzMzLh/wDMzMzMz33vAuB6F61HyhcDNzMzMzJKSwArXo3A9FnLA4XoUrkehOMDhehSuR5acwOF6FK5HfXLAFK5H4XrcmcBcj8L1KAxYQLgehetRh5DAzczMzMwogMBSuB6F6wluwOxRuB6FN4bAAAAAAABAbcBI4XoUrldzwDMzMzMzO3NA4XoUrkfpcsCamZmZmVl6wOF6FK5H9pXAH4XrUbiGZsDD9Shcj1JbwGZmZmZmmorApHA9CtdTeMDsUbgehXWFwAAAAAAAsFRAw/UoXI/KeECPwvUoXFdywKRwPQrX9KPAexSuR+GAnUCF61G4HlVcwNejcD0Kl5FAKVyPwvWoJ0DD9Shcj8SDQGZmZmZmjmBArkfhehSuUkB7FK5H4Wp8wFK4HoXroX5AexSuR+E4lEAzMzMzM1NWQA==",
          "dtype": "f8"
         }
        },
        {
         "line": {
          "color": "orange"
         },
         "marker": {
          "color": "orange",
          "size": 6,
          "symbol": "circle"
         },
         "mode": "lines+markers",
         "name": "Pessoa física",
         "type": "scatter",
         "x": [
          "2025-03-14T00:00:00.000000000",
          "2025-03-13T00:00:00.000000000",
          "2025-03-12T00:00:00.000000000",
          "2025-03-11T00:00:00.000000000",
          "2025-03-10T00:00:00.000000000",
          "2025-03-07T00:00:00.000000000",
          "2025-03-06T00:00:00.000000000",
          "2025-03-05T00:00:00.000000000",
          "2025-02-28T00:00:00.000000000",
          "2025-02-27T00:00:00.000000000",
          "2025-02-26T00:00:00.000000000",
          "2025-02-25T00:00:00.000000000",
          "2025-02-24T00:00:00.000000000",
          "2025-02-21T00:00:00.000000000",
          "2025-02-20T00:00:00.000000000",
          "2025-02-19T00:00:00.000000000",
          "2025-02-18T00:00:00.000000000",
          "2025-02-17T00:00:00.000000000",
          "2025-02-14T00:00:00.000000000",
          "2025-02-13T00:00:00.000000000",
          "2025-02-12T00:00:00.000000000",
          "2025-02-11T00:00:00.000000000",
          "2025-02-10T00:00:00.000000000",
          "2025-02-07T00:00:00.000000000",
          "2025-02-06T00:00:00.000000000",
          "2025-02-05T00:00:00.000000000",
          "2025-02-04T00:00:00.000000000",
          "2025-02-03T00:00:00.000000000",
          "2025-01-31T00:00:00.000000000",
          "2025-01-30T00:00:00.000000000",
          "2025-01-29T00:00:00.000000000",
          "2025-01-28T00:00:00.000000000",
          "2025-01-27T00:00:00.000000000",
          "2025-01-24T00:00:00.000000000",
          "2025-01-23T00:00:00.000000000",
          "2025-01-22T00:00:00.000000000",
          "2025-01-21T00:00:00.000000000",
          "2025-01-20T00:00:00.000000000",
          "2025-01-17T00:00:00.000000000",
          "2025-01-16T00:00:00.000000000",
          "2025-01-15T00:00:00.000000000",
          "2025-01-14T00:00:00.000000000",
          "2025-01-13T00:00:00.000000000",
          "2025-01-10T00:00:00.000000000",
          "2025-01-09T00:00:00.000000000",
          "2025-01-08T00:00:00.000000000",
          "2025-01-07T00:00:00.000000000",
          "2025-01-06T00:00:00.000000000",
          "2025-01-03T00:00:00.000000000",
          "2025-01-02T00:00:00.000000000"
         ],
         "y": {
          "bdata": "pHA9CtfjkMBmZmZmZiKKwFyPwvUovGNAhetRuB6NYUCuR+F6FPJ6QIXrUbgexTHAj8L1KFyvYEDsUbgehZtjQNejcD0KDYRApHA9CtcraEAUrkfheox1QI/C9ShcTzNA9ihcj8L5cEDD9ShcjxpkwFK4HoXrIWZAPQrXo3BFY8CF61G4HoUqQEjhehSuR2vAj8L1KFz/isB7FK5H4bpOwAAAAAAAIINAMzMzMzMDZMBI4XoUrtdxwB+F61G4MnlA16NwPQrXK8AzMzMzM5NRQOF6FK5HZXBAZmZmZmZmakCamZmZmYlbQM3MzMzMI5LAhetRuB7lT0DNzMzMzExfQHE9CtejfHzAj8L1KFyvV0AK16NwPWpcQOF6FK5HkVtAuB6F61H4UUCkcD0K16NUQNejcD0Kh2DAH4XrUbjOeECPwvUoXFWCwNejcD0Kl2VAuB6F61GIVkA9CtejcD1fQD0K16Nw/UhA7FG4HoV/ekCkcD0K16Pgv3E9CtejYFrAXI/C9ShYf0DXo3A9Cot0QA==",
          "dtype": "f8"
         }
        },
        {
         "line": {
          "color": "purple"
         },
         "marker": {
          "color": "purple",
          "size": 6,
          "symbol": "circle"
         },
         "mode": "lines+markers",
         "name": "Inst. Financeira",
         "type": "scatter",
         "x": [
          "2025-03-14T00:00:00.000000000",
          "2025-03-13T00:00:00.000000000",
          "2025-03-12T00:00:00.000000000",
          "2025-03-11T00:00:00.000000000",
          "2025-03-10T00:00:00.000000000",
          "2025-03-07T00:00:00.000000000",
          "2025-03-06T00:00:00.000000000",
          "2025-03-05T00:00:00.000000000",
          "2025-02-28T00:00:00.000000000",
          "2025-02-27T00:00:00.000000000",
          "2025-02-26T00:00:00.000000000",
          "2025-02-25T00:00:00.000000000",
          "2025-02-24T00:00:00.000000000",
          "2025-02-21T00:00:00.000000000",
          "2025-02-20T00:00:00.000000000",
          "2025-02-19T00:00:00.000000000",
          "2025-02-18T00:00:00.000000000",
          "2025-02-17T00:00:00.000000000",
          "2025-02-14T00:00:00.000000000",
          "2025-02-13T00:00:00.000000000",
          "2025-02-12T00:00:00.000000000",
          "2025-02-11T00:00:00.000000000",
          "2025-02-10T00:00:00.000000000",
          "2025-02-07T00:00:00.000000000",
          "2025-02-06T00:00:00.000000000",
          "2025-02-05T00:00:00.000000000",
          "2025-02-04T00:00:00.000000000",
          "2025-02-03T00:00:00.000000000",
          "2025-01-31T00:00:00.000000000",
          "2025-01-30T00:00:00.000000000",
          "2025-01-29T00:00:00.000000000",
          "2025-01-28T00:00:00.000000000",
          "2025-01-27T00:00:00.000000000",
          "2025-01-24T00:00:00.000000000",
          "2025-01-23T00:00:00.000000000",
          "2025-01-22T00:00:00.000000000",
          "2025-01-21T00:00:00.000000000",
          "2025-01-20T00:00:00.000000000",
          "2025-01-17T00:00:00.000000000",
          "2025-01-16T00:00:00.000000000",
          "2025-01-15T00:00:00.000000000",
          "2025-01-14T00:00:00.000000000",
          "2025-01-13T00:00:00.000000000",
          "2025-01-10T00:00:00.000000000",
          "2025-01-09T00:00:00.000000000",
          "2025-01-08T00:00:00.000000000",
          "2025-01-07T00:00:00.000000000",
          "2025-01-06T00:00:00.000000000",
          "2025-01-03T00:00:00.000000000",
          "2025-01-02T00:00:00.000000000"
         ],
         "y": {
          "bdata": "UrgeheuRUUAzMzMzM8NbQOxRuB6F67E/H4XrUbi+aEBmZmZmZsZBwLgehetRuD5ACtejcD0KFECPwvUoXI8RQK5H4XoULjxApHA9CtdjYEBxPQrXo0R3QHsUrkfhUIFAexSuR+F6fsBcj8L1KBaGwClcj8L1sH1AMzMzMzOTckBI4XoUrk2cQM3MzMzMrF1A4XoUrkfhj0BI4XoUrudHwB+F61G4knZAAAAAAAAUeEBxPQrXo1x4QB+F61G4ni1A7FG4HoVLTUCkcD0K12NQwD0K16NwHU7AexSuR+HaScA9CtejcJ1ZQIXrUbgeBTBAXI/C9ShsXkAUrkfhelQzQFK4HoXrAVZA16NwPQr3W0DD9Shcj/JQQB+F61G4DltAKVyPwvXIX0DsUbgehctKQEjhehSux3TAMzMzMzPja0BxPQrXo4BsQFK4HoXr8UnAuB6F61F4UECamZmZmZkvQMP1KFyPUlJAMzMzMzMz9z8fhetRuB5RwOxRuB6Fi0NArkfhehSOQ0ApXI/C9eg4QA==",
          "dtype": "f8"
         }
        },
        {
         "line": {
          "color": "red"
         },
         "marker": {
          "color": "red",
          "size": 6,
          "symbol": "circle"
         },
         "mode": "lines+markers",
         "name": "Outros",
         "type": "scatter",
         "x": [
          "2025-03-14T00:00:00.000000000",
          "2025-03-13T00:00:00.000000000",
          "2025-03-12T00:00:00.000000000",
          "2025-03-11T00:00:00.000000000",
          "2025-03-10T00:00:00.000000000",
          "2025-03-07T00:00:00.000000000",
          "2025-03-06T00:00:00.000000000",
          "2025-03-05T00:00:00.000000000",
          "2025-02-28T00:00:00.000000000",
          "2025-02-27T00:00:00.000000000",
          "2025-02-26T00:00:00.000000000",
          "2025-02-25T00:00:00.000000000",
          "2025-02-24T00:00:00.000000000",
          "2025-02-21T00:00:00.000000000",
          "2025-02-20T00:00:00.000000000",
          "2025-02-19T00:00:00.000000000",
          "2025-02-18T00:00:00.000000000",
          "2025-02-17T00:00:00.000000000",
          "2025-02-14T00:00:00.000000000",
          "2025-02-13T00:00:00.000000000",
          "2025-02-12T00:00:00.000000000",
          "2025-02-11T00:00:00.000000000",
          "2025-02-10T00:00:00.000000000",
          "2025-02-07T00:00:00.000000000",
          "2025-02-06T00:00:00.000000000",
          "2025-02-05T00:00:00.000000000",
          "2025-02-04T00:00:00.000000000",
          "2025-02-03T00:00:00.000000000",
          "2025-01-31T00:00:00.000000000",
          "2025-01-30T00:00:00.000000000",
          "2025-01-29T00:00:00.000000000",
          "2025-01-28T00:00:00.000000000",
          "2025-01-27T00:00:00.000000000",
          "2025-01-24T00:00:00.000000000",
          "2025-01-23T00:00:00.000000000",
          "2025-01-22T00:00:00.000000000",
          "2025-01-21T00:00:00.000000000",
          "2025-01-20T00:00:00.000000000",
          "2025-01-17T00:00:00.000000000",
          "2025-01-16T00:00:00.000000000",
          "2025-01-15T00:00:00.000000000",
          "2025-01-14T00:00:00.000000000",
          "2025-01-13T00:00:00.000000000",
          "2025-01-10T00:00:00.000000000",
          "2025-01-09T00:00:00.000000000",
          "2025-01-08T00:00:00.000000000",
          "2025-01-07T00:00:00.000000000",
          "2025-01-06T00:00:00.000000000",
          "2025-01-03T00:00:00.000000000",
          "2025-01-02T00:00:00.000000000"
         ],
         "y": {
          "bdata": "pHA9CtezUkBcj8L1KFwFwM3MzMzMzEtAUrgehesRQUAzMzMzMwtjQD0K16NwFWJAw/UoXI+CTkDhehSuR0FOQHE9CtejkGZAj8L1KFyTdEAK16NwPepjQFyPwvUo3DBAcT0K16PAUUAAAAAAAHBXQI/C9Shc70BAexSuR+FaRUBI4XoUrgc3wJqZmZmZmUVAFK5H4XoUSUBI4XoUrkcbQB+F61G4nk9AMzMzMzPzSEBI4XoUrk9gQOxRuB6Fy2FA4XoUrkfBU0C4HoXrUVhUQArXo3A9OlxAKVyPwvUwYEAAAAAAAOBQQIXrUbgexTDArkfhehROWECamZmZmYlRQDMzMzMzc0FA4XoUrkfxXEC4HoXrUThLQLgehetRmF5A7FG4HoX7VEDNzMzMzIxKQGZmZmZmtlhAexSuR4GewcC4HoXrUbgYQHE9CtejUE9AmpmZmZlJYkBSuB6F69FqQFyPwvUoPE5AKVyPwvVAa0CkcD0K13NcQMP1KFyPkl5AhetRuB4VXkDXo3A9CpdYQA==",
          "dtype": "f8"
         }
        }
       ],
       "layout": {
        "template": {
         "data": {
          "bar": [
           {
            "error_x": {
             "color": "#2a3f5f"
            },
            "error_y": {
             "color": "#2a3f5f"
            },
            "marker": {
             "line": {
              "color": "white",
              "width": 0.5
             },
             "pattern": {
              "fillmode": "overlay",
              "size": 10,
              "solidity": 0.2
             }
            },
            "type": "bar"
           }
          ],
          "barpolar": [
           {
            "marker": {
             "line": {
              "color": "white",
              "width": 0.5
             },
             "pattern": {
              "fillmode": "overlay",
              "size": 10,
              "solidity": 0.2
             }
            },
            "type": "barpolar"
           }
          ],
          "carpet": [
           {
            "aaxis": {
             "endlinecolor": "#2a3f5f",
             "gridcolor": "#C8D4E3",
             "linecolor": "#C8D4E3",
             "minorgridcolor": "#C8D4E3",
             "startlinecolor": "#2a3f5f"
            },
            "baxis": {
             "endlinecolor": "#2a3f5f",
             "gridcolor": "#C8D4E3",
             "linecolor": "#C8D4E3",
             "minorgridcolor": "#C8D4E3",
             "startlinecolor": "#2a3f5f"
            },
            "type": "carpet"
           }
          ],
          "choropleth": [
           {
            "colorbar": {
             "outlinewidth": 0,
             "ticks": ""
            },
            "type": "choropleth"
           }
          ],
          "contour": [
           {
            "colorbar": {
             "outlinewidth": 0,
             "ticks": ""
            },
            "colorscale": [
             [
              0,
              "#0d0887"
             ],
             [
              0.1111111111111111,
              "#46039f"
             ],
             [
              0.2222222222222222,
              "#7201a8"
             ],
             [
              0.3333333333333333,
              "#9c179e"
             ],
             [
              0.4444444444444444,
              "#bd3786"
             ],
             [
              0.5555555555555556,
              "#d8576b"
             ],
             [
              0.6666666666666666,
              "#ed7953"
             ],
             [
              0.7777777777777778,
              "#fb9f3a"
             ],
             [
              0.8888888888888888,
              "#fdca26"
             ],
             [
              1,
              "#f0f921"
             ]
            ],
            "type": "contour"
           }
          ],
          "contourcarpet": [
           {
            "colorbar": {
             "outlinewidth": 0,
             "ticks": ""
            },
            "type": "contourcarpet"
           }
          ],
          "heatmap": [
           {
            "colorbar": {
             "outlinewidth": 0,
             "ticks": ""
            },
            "colorscale": [
             [
              0,
              "#0d0887"
             ],
             [
              0.1111111111111111,
              "#46039f"
             ],
             [
              0.2222222222222222,
              "#7201a8"
             ],
             [
              0.3333333333333333,
              "#9c179e"
             ],
             [
              0.4444444444444444,
              "#bd3786"
             ],
             [
              0.5555555555555556,
              "#d8576b"
             ],
             [
              0.6666666666666666,
              "#ed7953"
             ],
             [
              0.7777777777777778,
              "#fb9f3a"
             ],
             [
              0.8888888888888888,
              "#fdca26"
             ],
             [
              1,
              "#f0f921"
             ]
            ],
            "type": "heatmap"
           }
          ],
          "histogram": [
           {
            "marker": {
             "pattern": {
              "fillmode": "overlay",
              "size": 10,
              "solidity": 0.2
             }
            },
            "type": "histogram"
           }
          ],
          "histogram2d": [
           {
            "colorbar": {
             "outlinewidth": 0,
             "ticks": ""
            },
            "colorscale": [
             [
              0,
              "#0d0887"
             ],
             [
              0.1111111111111111,
              "#46039f"
             ],
             [
              0.2222222222222222,
              "#7201a8"
             ],
             [
              0.3333333333333333,
              "#9c179e"
             ],
             [
              0.4444444444444444,
              "#bd3786"
             ],
             [
              0.5555555555555556,
              "#d8576b"
             ],
             [
              0.6666666666666666,
              "#ed7953"
             ],
             [
              0.7777777777777778,
              "#fb9f3a"
             ],
             [
              0.8888888888888888,
              "#fdca26"
             ],
             [
              1,
              "#f0f921"
             ]
            ],
            "type": "histogram2d"
           }
          ],
          "histogram2dcontour": [
           {
            "colorbar": {
             "outlinewidth": 0,
             "ticks": ""
            },
            "colorscale": [
             [
              0,
              "#0d0887"
             ],
             [
              0.1111111111111111,
              "#46039f"
             ],
             [
              0.2222222222222222,
              "#7201a8"
             ],
             [
              0.3333333333333333,
              "#9c179e"
             ],
             [
              0.4444444444444444,
              "#bd3786"
             ],
             [
              0.5555555555555556,
              "#d8576b"
             ],
             [
              0.6666666666666666,
              "#ed7953"
             ],
             [
              0.7777777777777778,
              "#fb9f3a"
             ],
             [
              0.8888888888888888,
              "#fdca26"
             ],
             [
              1,
              "#f0f921"
             ]
            ],
            "type": "histogram2dcontour"
           }
          ],
          "mesh3d": [
           {
            "colorbar": {
             "outlinewidth": 0,
             "ticks": ""
            },
            "type": "mesh3d"
           }
          ],
          "parcoords": [
           {
            "line": {
             "colorbar": {
              "outlinewidth": 0,
              "ticks": ""
             }
            },
            "type": "parcoords"
           }
          ],
          "pie": [
           {
            "automargin": true,
            "type": "pie"
           }
          ],
          "scatter": [
           {
            "fillpattern": {
             "fillmode": "overlay",
             "size": 10,
             "solidity": 0.2
            },
            "type": "scatter"
           }
          ],
          "scatter3d": [
           {
            "line": {
             "colorbar": {
              "outlinewidth": 0,
              "ticks": ""
             }
            },
            "marker": {
             "colorbar": {
              "outlinewidth": 0,
              "ticks": ""
             }
            },
            "type": "scatter3d"
           }
          ],
          "scattercarpet": [
           {
            "marker": {
             "colorbar": {
              "outlinewidth": 0,
              "ticks": ""
             }
            },
            "type": "scattercarpet"
           }
          ],
          "scattergeo": [
           {
            "marker": {
             "colorbar": {
              "outlinewidth": 0,
              "ticks": ""
             }
            },
            "type": "scattergeo"
           }
          ],
          "scattergl": [
           {
            "marker": {
             "colorbar": {
              "outlinewidth": 0,
              "ticks": ""
             }
            },
            "type": "scattergl"
           }
          ],
          "scattermap": [
           {
            "marker": {
             "colorbar": {
              "outlinewidth": 0,
              "ticks": ""
             }
            },
            "type": "scattermap"
           }
          ],
          "scattermapbox": [
           {
            "marker": {
             "colorbar": {
              "outlinewidth": 0,
              "ticks": ""
             }
            },
            "type": "scattermapbox"
           }
          ],
          "scatterpolar": [
           {
            "marker": {
             "colorbar": {
              "outlinewidth": 0,
              "ticks": ""
             }
            },
            "type": "scatterpolar"
           }
          ],
          "scatterpolargl": [
           {
            "marker": {
             "colorbar": {
              "outlinewidth": 0,
              "ticks": ""
             }
            },
            "type": "scatterpolargl"
           }
          ],
          "scatterternary": [
           {
            "marker": {
             "colorbar": {
              "outlinewidth": 0,
              "ticks": ""
             }
            },
            "type": "scatterternary"
           }
          ],
          "surface": [
           {
            "colorbar": {
             "outlinewidth": 0,
             "ticks": ""
            },
            "colorscale": [
             [
              0,
              "#0d0887"
             ],
             [
              0.1111111111111111,
              "#46039f"
             ],
             [
              0.2222222222222222,
              "#7201a8"
             ],
             [
              0.3333333333333333,
              "#9c179e"
             ],
             [
              0.4444444444444444,
              "#bd3786"
             ],
             [
              0.5555555555555556,
              "#d8576b"
             ],
             [
              0.6666666666666666,
              "#ed7953"
             ],
             [
              0.7777777777777778,
              "#fb9f3a"
             ],
             [
              0.8888888888888888,
              "#fdca26"
             ],
             [
              1,
              "#f0f921"
             ]
            ],
            "type": "surface"
           }
          ],
          "table": [
           {
            "cells": {
             "fill": {
              "color": "#EBF0F8"
             },
             "line": {
              "color": "white"
             }
            },
            "header": {
             "fill": {
              "color": "#C8D4E3"
             },
             "line": {
              "color": "white"
             }
            },
            "type": "table"
           }
          ]
         },
         "layout": {
          "annotationdefaults": {
           "arrowcolor": "#2a3f5f",
           "arrowhead": 0,
           "arrowwidth": 1
          },
          "autotypenumbers": "strict",
          "coloraxis": {
           "colorbar": {
            "outlinewidth": 0,
            "ticks": ""
           }
          },
          "colorscale": {
           "diverging": [
            [
             0,
             "#8e0152"
            ],
            [
             0.1,
             "#c51b7d"
            ],
            [
             0.2,
             "#de77ae"
            ],
            [
             0.3,
             "#f1b6da"
            ],
            [
             0.4,
             "#fde0ef"
            ],
            [
             0.5,
             "#f7f7f7"
            ],
            [
             0.6,
             "#e6f5d0"
            ],
            [
             0.7,
             "#b8e186"
            ],
            [
             0.8,
             "#7fbc41"
            ],
            [
             0.9,
             "#4d9221"
            ],
            [
             1,
             "#276419"
            ]
           ],
           "sequential": [
            [
             0,
             "#0d0887"
            ],
            [
             0.1111111111111111,
             "#46039f"
            ],
            [
             0.2222222222222222,
             "#7201a8"
            ],
            [
             0.3333333333333333,
             "#9c179e"
            ],
            [
             0.4444444444444444,
             "#bd3786"
            ],
            [
             0.5555555555555556,
             "#d8576b"
            ],
            [
             0.6666666666666666,
             "#ed7953"
            ],
            [
             0.7777777777777778,
             "#fb9f3a"
            ],
            [
             0.8888888888888888,
             "#fdca26"
            ],
            [
             1,
             "#f0f921"
            ]
           ],
           "sequentialminus": [
            [
             0,
             "#0d0887"
            ],
            [
             0.1111111111111111,
             "#46039f"
            ],
            [
             0.2222222222222222,
             "#7201a8"
            ],
            [
             0.3333333333333333,
             "#9c179e"
            ],
            [
             0.4444444444444444,
             "#bd3786"
            ],
            [
             0.5555555555555556,
             "#d8576b"
            ],
            [
             0.6666666666666666,
             "#ed7953"
            ],
            [
             0.7777777777777778,
             "#fb9f3a"
            ],
            [
             0.8888888888888888,
             "#fdca26"
            ],
            [
             1,
             "#f0f921"
            ]
           ]
          },
          "colorway": [
           "#636efa",
           "#EF553B",
           "#00cc96",
           "#ab63fa",
           "#FFA15A",
           "#19d3f3",
           "#FF6692",
           "#B6E880",
           "#FF97FF",
           "#FECB52"
          ],
          "font": {
           "color": "#2a3f5f"
          },
          "geo": {
           "bgcolor": "white",
           "lakecolor": "white",
           "landcolor": "white",
           "showlakes": true,
           "showland": true,
           "subunitcolor": "#C8D4E3"
          },
          "hoverlabel": {
           "align": "left"
          },
          "hovermode": "closest",
          "mapbox": {
           "style": "light"
          },
          "paper_bgcolor": "white",
          "plot_bgcolor": "white",
          "polar": {
           "angularaxis": {
            "gridcolor": "#EBF0F8",
            "linecolor": "#EBF0F8",
            "ticks": ""
           },
           "bgcolor": "white",
           "radialaxis": {
            "gridcolor": "#EBF0F8",
            "linecolor": "#EBF0F8",
            "ticks": ""
           }
          },
          "scene": {
           "xaxis": {
            "backgroundcolor": "white",
            "gridcolor": "#DFE8F3",
            "gridwidth": 2,
            "linecolor": "#EBF0F8",
            "showbackground": true,
            "ticks": "",
            "zerolinecolor": "#EBF0F8"
           },
           "yaxis": {
            "backgroundcolor": "white",
            "gridcolor": "#DFE8F3",
            "gridwidth": 2,
            "linecolor": "#EBF0F8",
            "showbackground": true,
            "ticks": "",
            "zerolinecolor": "#EBF0F8"
           },
           "zaxis": {
            "backgroundcolor": "white",
            "gridcolor": "#DFE8F3",
            "gridwidth": 2,
            "linecolor": "#EBF0F8",
            "showbackground": true,
            "ticks": "",
            "zerolinecolor": "#EBF0F8"
           }
          },
          "shapedefaults": {
           "line": {
            "color": "#2a3f5f"
           }
          },
          "ternary": {
           "aaxis": {
            "gridcolor": "#DFE8F3",
            "linecolor": "#A2B1C6",
            "ticks": ""
           },
           "baxis": {
            "gridcolor": "#DFE8F3",
            "linecolor": "#A2B1C6",
            "ticks": ""
           },
           "bgcolor": "white",
           "caxis": {
            "gridcolor": "#DFE8F3",
            "linecolor": "#A2B1C6",
            "ticks": ""
           }
          },
          "title": {
           "x": 0.05
          },
          "xaxis": {
           "automargin": true,
           "gridcolor": "#EBF0F8",
           "linecolor": "#EBF0F8",
           "ticks": "",
           "title": {
            "standoff": 15
           },
           "zerolinecolor": "#EBF0F8",
           "zerolinewidth": 2
          },
          "yaxis": {
           "automargin": true,
           "gridcolor": "#EBF0F8",
           "linecolor": "#EBF0F8",
           "ticks": "",
           "title": {
            "standoff": 15
           },
           "zerolinecolor": "#EBF0F8",
           "zerolinewidth": 2
          }
         }
        },
        "title": {
         "font": {
          "size": 18
         },
         "text": "Fluxo de Investidores por Categoria (Em Milhões)"
        },
        "xaxis": {
         "nticks": 10,
         "showgrid": true,
         "tickangle": 45,
         "tickformat": "%d/%m/%Y",
         "tickmode": "auto",
         "title": {
          "font": {
           "size": 14
          },
          "text": "Data"
         }
        },
        "yaxis": {
         "rangemode": "tozero",
         "showgrid": true,
         "title": {
          "font": {
           "size": 14
          },
          "text": "Fluxo (mi)"
         }
        }
       }
      }
     },
     "metadata": {},
     "output_type": "display_data"
    }
   ],
   "source": [
    "import pandas as pd\n",
    "import requests\n",
    "from bs4 import BeautifulSoup\n",
    "import plotly.graph_objects as go\n",
    "from datetime import datetime\n",
    "\n",
    "# URL do site\n",
    "url = \"https://www.dadosdemercado.com.br/fluxo\"\n",
    "\n",
    "# Fazer a requisição HTTP para obter o conteúdo da página\n",
    "response = requests.get(url)\n",
    "if response.status_code == 200:\n",
    "    soup = BeautifulSoup(response.content, 'html.parser')\n",
    "\n",
    "    # Encontrar a tabela na página\n",
    "    tabela_html = soup.find('table')  # Localiza a primeira tabela na página\n",
    "    if tabela_html:\n",
    "        # Ler a tabela HTML com pandas\n",
    "        tabela = pd.read_html(str(tabela_html))[0]\n",
    "\n",
    "        # Verificar os nomes das colunas\n",
    "        print(\"Colunas disponíveis na tabela:\", tabela.columns)\n",
    "\n",
    "        # Garantir que a coluna 'Data' esteja no formato datetime\n",
    "        tabela['Data'] = pd.to_datetime(tabela['Data'], format='%d/%m/%Y', errors='coerce')\n",
    "\n",
    "        # Lista de colunas para plotar\n",
    "        colunas = ['Estrangeiro', 'Institucional', 'Pessoa física', 'Inst. Financeira', 'Outros']\n",
    "        cores = ['green', 'blue', 'orange', 'purple', 'red']  # Cores para cada linha\n",
    "\n",
    "        # Converter os valores das colunas para numérico\n",
    "        for coluna in colunas:\n",
    "            if coluna in tabela.columns:\n",
    "                tabela[coluna] = tabela[coluna].str.replace(' mi', '')  # Remover 'mi'\n",
    "                tabela[coluna] = tabela[coluna].str.replace('.', '', regex=False)  # Remover separadores de milhares\n",
    "                tabela[coluna] = tabela[coluna].str.replace(',', '.', regex=False).astype(float)\n",
    "            else:\n",
    "                print(f\"A coluna '{coluna}' não foi encontrada na tabela.\")\n",
    "\n",
    "        # Filtrar os dados a partir do início do ano atual\n",
    "        inicio_ano = datetime(datetime.now().year, 1, 1)  # Primeiro dia do ano atual\n",
    "        tabela_filtrada = tabela[tabela['Data'] >= inicio_ano]\n",
    "\n",
    "        # Criar o gráfico de linha com todas as colunas\n",
    "        fig = go.Figure()\n",
    "\n",
    "        # Adicionar uma linha para cada coluna\n",
    "        for coluna, cor in zip(colunas, cores):\n",
    "            if coluna in tabela_filtrada.columns:\n",
    "                fig.add_trace(go.Scatter(\n",
    "                    x=tabela_filtrada['Data'],  # Eixo X: coluna Data\n",
    "                    y=tabela_filtrada[coluna],  # Eixo Y: valores da coluna\n",
    "                    mode='lines+markers',\n",
    "                    name=coluna,\n",
    "                    line=dict(color=cor),\n",
    "                    marker=dict(size=6, color=cor, symbol='circle')\n",
    "                ))\n",
    "\n",
    "        # Personalizar o layout\n",
    "        fig.update_layout(\n",
    "            title='Fluxo de Investidores por Categoria (Em Milhões)',\n",
    "            xaxis_title='Data',\n",
    "            yaxis_title='Fluxo (mi)',\n",
    "            template='plotly_white',\n",
    "            xaxis=dict(\n",
    "                tickformat='%d/%m/%Y',  # Formatar as datas no eixo X\n",
    "                tickangle=45,           # Rotacionar os rótulos do eixo X\n",
    "                showgrid=True,          # Mostrar linhas de grade no eixo X\n",
    "                tickmode='auto',        # Ajustar automaticamente os rótulos\n",
    "                nticks=10               # Limitar o número de rótulos no eixo X\n",
    "            ),\n",
    "            yaxis=dict(\n",
    "                showgrid=True,          # Mostrar linhas de grade no eixo Y\n",
    "                rangemode='tozero'      # Garantir que o eixo Y comece no zero\n",
    "            ),\n",
    "            title_font_size=18,\n",
    "            xaxis_title_font_size=14,\n",
    "            yaxis_title_font_size=14\n",
    "        )\n",
    "\n",
    "        # Exibir o gráfico\n",
    "        fig.show()\n",
    "    else:\n",
    "        print(\"Tabela não encontrada na página.\")\n",
    "else:\n",
    "    print(f\"Erro ao acessar o site: {response.status_code}\")"
   ]
  }
 ],
 "metadata": {
  "kernelspec": {
   "display_name": "Python 3",
   "language": "python",
   "name": "python3"
  },
  "language_info": {
   "codemirror_mode": {
    "name": "ipython",
    "version": 3
   },
   "file_extension": ".py",
   "mimetype": "text/x-python",
   "name": "python",
   "nbconvert_exporter": "python",
   "pygments_lexer": "ipython3",
   "version": "3.13.2"
  }
 },
 "nbformat": 4,
 "nbformat_minor": 2
}
