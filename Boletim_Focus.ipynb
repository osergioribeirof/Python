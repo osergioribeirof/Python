{
  "cells": [
    {
      "cell_type": "markdown",
      "metadata": {
        "id": "dieOGfMimem0"
      },
      "source": [
        "# BIBLIOTECA"
      ]
    },
    {
      "cell_type": "code",
      "execution_count": 4,
      "metadata": {},
      "outputs": [
        {
          "ename": "SyntaxError",
          "evalue": "invalid syntax (2619142229.py, line 2)",
          "output_type": "error",
          "traceback": [
            "\u001b[0;36m  Cell \u001b[0;32mIn[4], line 2\u001b[0;36m\u001b[0m\n\u001b[0;31m    pip install PyPDF2 pandas matplotlib\u001b[0m\n\u001b[0m        ^\u001b[0m\n\u001b[0;31mSyntaxError\u001b[0m\u001b[0;31m:\u001b[0m invalid syntax\n"
          ]
        }
      ],
      "source": [
        "# Instalar pacotes necessários\n",
        "pip install PyPDF2 pandas matplotlib\n",
        "pip install camelot-py[cv]\n",
        "\n"
      ]
    },
    {
      "cell_type": "markdown",
      "metadata": {},
      "source": [
        "# SITE BOLETIM FOCUS"
      ]
    },
    {
      "cell_type": "code",
      "execution_count": 6,
      "metadata": {},
      "outputs": [],
      "source": [
        "import requests\n",
        "\n",
        "url = 'https://www.bcb.gov.br/content/focus/focus/R20250214.pdf'\n",
        "response = requests.get(url)\n",
        "\n",
        "with open('R20250214.pdf', 'wb') as file:\n",
        "    file.write(response.content)"
      ]
    },
    {
      "cell_type": "markdown",
      "metadata": {
        "id": "gFlBtTyPmXSC"
      },
      "source": [
        "# DADOS EXTRAIDOS DO BOLETIM FOCUS"
      ]
    },
    {
      "cell_type": "code",
      "execution_count": 1,
      "metadata": {
        "colab": {
          "base_uri": "https://localhost:8080/"
        },
        "id": "RzcbbfmXf9qA",
        "outputId": "e8e800e6-e0cc-4174-8ab2-a8f454824369"
      },
      "outputs": [
        {
          "ename": "ModuleNotFoundError",
          "evalue": "No module named 'PyPDF2'",
          "output_type": "error",
          "traceback": [
            "\u001b[0;31m---------------------------------------------------------------------------\u001b[0m",
            "\u001b[0;31mModuleNotFoundError\u001b[0m                       Traceback (most recent call last)",
            "Cell \u001b[0;32mIn[1], line 1\u001b[0m\n\u001b[0;32m----> 1\u001b[0m \u001b[38;5;28;01mimport\u001b[39;00m\u001b[38;5;250m \u001b[39m\u001b[38;5;21;01mPyPDF2\u001b[39;00m\n\u001b[1;32m      3\u001b[0m pdf_file \u001b[38;5;241m=\u001b[39m \u001b[38;5;28mopen\u001b[39m(\u001b[38;5;124m'\u001b[39m\u001b[38;5;124mR20250214.pdf\u001b[39m\u001b[38;5;124m'\u001b[39m, \u001b[38;5;124m'\u001b[39m\u001b[38;5;124mrb\u001b[39m\u001b[38;5;124m'\u001b[39m)\n\u001b[1;32m      4\u001b[0m pdf_reader \u001b[38;5;241m=\u001b[39m PyPDF2\u001b[38;5;241m.\u001b[39mPdfReader(pdf_file)\n",
            "\u001b[0;31mModuleNotFoundError\u001b[0m: No module named 'PyPDF2'"
          ]
        }
      ],
      "source": [
        "import PyPDF2\n",
        "\n",
        "pdf_file = open('R20250214.pdf', 'rb')\n",
        "pdf_reader = PyPDF2.PdfReader(pdf_file)\n",
        "\n",
        "page_content = pdf_reader.pages[0].extract_text()  # Use extract_text()\n",
        "\n",
        "print(page_content)\n",
        "pdf_file.close()"
      ]
    },
    {
      "cell_type": "markdown",
      "metadata": {
        "id": "tyhqEJMXmHCu"
      },
      "source": [
        "# BOLETIM FOCUS (PRIMEIRA PÁGINA)"
      ]
    },
    {
      "cell_type": "code",
      "execution_count": 2,
      "metadata": {
        "colab": {
          "base_uri": "https://localhost:8080/",
          "height": 964
        },
        "id": "RsK97Z-Jlq0N",
        "outputId": "49a05b7e-d27b-47ec-f3b5-a8ea2b88ecac"
      },
      "outputs": [
        {
          "name": "stdout",
          "output_type": "stream",
          "text": [
            "zsh:1: command not found: pip\n"
          ]
        },
        {
          "ename": "ModuleNotFoundError",
          "evalue": "No module named 'fitz'",
          "output_type": "error",
          "traceback": [
            "\u001b[0;31m---------------------------------------------------------------------------\u001b[0m",
            "\u001b[0;31mModuleNotFoundError\u001b[0m                       Traceback (most recent call last)",
            "Cell \u001b[0;32mIn[2], line 2\u001b[0m\n\u001b[1;32m      1\u001b[0m get_ipython()\u001b[38;5;241m.\u001b[39msystem(\u001b[38;5;124m'\u001b[39m\u001b[38;5;124mpip install PyMuPDF\u001b[39m\u001b[38;5;124m'\u001b[39m)\n\u001b[0;32m----> 2\u001b[0m \u001b[38;5;28;01mimport\u001b[39;00m\u001b[38;5;250m \u001b[39m\u001b[38;5;21;01mfitz\u001b[39;00m  \u001b[38;5;66;03m# PyMuPDF\u001b[39;00m\n\u001b[1;32m      3\u001b[0m \u001b[38;5;28;01mimport\u001b[39;00m\u001b[38;5;250m \u001b[39m\u001b[38;5;21;01mio\u001b[39;00m\n\u001b[1;32m      4\u001b[0m \u001b[38;5;28;01mfrom\u001b[39;00m\u001b[38;5;250m \u001b[39m\u001b[38;5;21;01mIPython\u001b[39;00m\u001b[38;5;21;01m.\u001b[39;00m\u001b[38;5;21;01mdisplay\u001b[39;00m\u001b[38;5;250m \u001b[39m\u001b[38;5;28;01mimport\u001b[39;00m display, Image\n",
            "\u001b[0;31mModuleNotFoundError\u001b[0m: No module named 'fitz'"
          ]
        }
      ],
      "source": [
        "!pip install PyMuPDF\n",
        "import fitz  # PyMuPDF\n",
        "import io\n",
        "from IPython.display import display, Image\n",
        "\n",
        "#Alterar Data para ter *Boletim Focus Atual*\n",
        "pdf_file = fitz.open('R20250214.pdf')\n",
        "page = pdf_file[0]  # Get the first page\n",
        "\n",
        "# Render the page as a PNG image with higher DPI\n",
        "zoom_x = 2.0  # Horizontal zoom\n",
        "zoom_y = 2.0  # Vertical zoom\n",
        "mat = fitz.Matrix(zoom_x, zoom_y)  # Create zoom matrix\n",
        "pix = page.get_pixmap(matrix=mat)  # Render with zoom\n",
        "img_data = pix.tobytes()\n",
        "\n",
        "# Display the image\n",
        "display(Image(data=img_data))\n",
        "\n",
        "pdf_file.close()"
      ]
    },
    {
      "cell_type": "markdown",
      "metadata": {
        "id": "Z4mdhLFImA7t"
      },
      "source": [
        "# BOLETIM FOCUS (SEGUNDA PÁGINA)"
      ]
    },
    {
      "cell_type": "code",
      "execution_count": 1,
      "metadata": {
        "colab": {
          "base_uri": "https://localhost:8080/",
          "height": 964
        },
        "id": "clRy639fl9Hm",
        "outputId": "3eaa2dfa-42e1-41cb-d185-fe739d97fc6c"
      },
      "outputs": [
        {
          "name": "stdout",
          "output_type": "stream",
          "text": [
            "zsh:1: command not found: pip\n"
          ]
        },
        {
          "ename": "ModuleNotFoundError",
          "evalue": "No module named 'fitz'",
          "output_type": "error",
          "traceback": [
            "\u001b[0;31m---------------------------------------------------------------------------\u001b[0m",
            "\u001b[0;31mModuleNotFoundError\u001b[0m                       Traceback (most recent call last)",
            "Cell \u001b[0;32mIn[1], line 2\u001b[0m\n\u001b[1;32m      1\u001b[0m get_ipython()\u001b[38;5;241m.\u001b[39msystem(\u001b[38;5;124m'\u001b[39m\u001b[38;5;124mpip install PyMuPDF\u001b[39m\u001b[38;5;124m'\u001b[39m)\n\u001b[0;32m----> 2\u001b[0m \u001b[38;5;28;01mimport\u001b[39;00m\u001b[38;5;250m \u001b[39m\u001b[38;5;21;01mfitz\u001b[39;00m  \u001b[38;5;66;03m# PyMuPDF\u001b[39;00m\n\u001b[1;32m      3\u001b[0m \u001b[38;5;28;01mimport\u001b[39;00m\u001b[38;5;250m \u001b[39m\u001b[38;5;21;01mio\u001b[39;00m\n\u001b[1;32m      4\u001b[0m \u001b[38;5;28;01mfrom\u001b[39;00m\u001b[38;5;250m \u001b[39m\u001b[38;5;21;01mIPython\u001b[39;00m\u001b[38;5;21;01m.\u001b[39;00m\u001b[38;5;21;01mdisplay\u001b[39;00m\u001b[38;5;250m \u001b[39m\u001b[38;5;28;01mimport\u001b[39;00m display, Image\n",
            "\u001b[0;31mModuleNotFoundError\u001b[0m: No module named 'fitz'"
          ]
        }
      ],
      "source": [
        "!pip install PyMuPDF\n",
        "import fitz  # PyMuPDF\n",
        "import io\n",
        "from IPython.display import display, Image\n",
        "\n",
        "#Alterar Data para ter Boletim Focus Atual\n",
        "pdf_file = fitz.open('R20250214.pdf')\n",
        "page = pdf_file[1]  # Get the second page (index 1)\n",
        "\n",
        "# Render the page as a PNG image with higher DPI\n",
        "zoom_x = 2.0  # Horizontal zoom\n",
        "zoom_y = 2.0  # Vertical zoom\n",
        "mat = fitz.Matrix(zoom_x, zoom_y)  # Create zoom matrix\n",
        "pix = page.get_pixmap(matrix=mat)  # Render with zoom\n",
        "img_data = pix.tobytes()\n",
        "\n",
        "# Display the image\n",
        "display(Image(data=img_data))\n",
        "\n",
        "pdf_file.close()"
      ]
    }
  ],
  "metadata": {
    "colab": {
      "collapsed_sections": [
        "dieOGfMimem0",
        "gFlBtTyPmXSC"
      ],
      "provenance": []
    },
    "kernelspec": {
      "display_name": "Python 3 (ipykernel)",
      "language": "python",
      "name": "python3"
    },
    "language_info": {
      "codemirror_mode": {
        "name": "ipython",
        "version": 3
      },
      "file_extension": ".py",
      "mimetype": "text/x-python",
      "name": "python",
      "nbconvert_exporter": "python",
      "pygments_lexer": "ipython3",
      "version": "3.13.2"
    }
  },
  "nbformat": 4,
  "nbformat_minor": 0
}
